{
 "cells": [
  {
   "cell_type": "code",
   "execution_count": 1,
   "metadata": {},
   "outputs": [
    {
     "data": {
      "text/html": [
       "\n",
       "        <div>\n",
       "            <p><b>SparkContext</b></p>\n",
       "\n",
       "            <p><a href=\"http://192.168.0.7:4041\">Spark UI</a></p>\n",
       "\n",
       "            <dl>\n",
       "              <dt>Version</dt>\n",
       "                <dd><code>v2.3.4</code></dd>\n",
       "              <dt>Master</dt>\n",
       "                <dd><code>local[*]</code></dd>\n",
       "              <dt>AppName</dt>\n",
       "                <dd><code>PySparkShell</code></dd>\n",
       "            </dl>\n",
       "        </div>\n",
       "        "
      ],
      "text/plain": [
       "<SparkContext master=local[*] appName=PySparkShell>"
      ]
     },
     "execution_count": 1,
     "metadata": {},
     "output_type": "execute_result"
    }
   ],
   "source": [
    "sc"
   ]
  },
  {
   "cell_type": "markdown",
   "metadata": {},
   "source": [
    "## Get Configuration Details of Spark Context"
   ]
  },
  {
   "cell_type": "code",
   "execution_count": 1,
   "metadata": {},
   "outputs": [
    {
     "data": {
      "text/plain": [
       "[('spark.app.id', 'local-1569482442576'),\n",
       " ('spark.sql.catalogImplementation', 'hive'),\n",
       " ('spark.rdd.compress', 'True'),\n",
       " ('spark.driver.port', '49543'),\n",
       " ('spark.serializer.objectStreamReset', '100'),\n",
       " ('spark.master', 'local[*]'),\n",
       " ('spark.executor.id', 'driver'),\n",
       " ('spark.submit.deployMode', 'client'),\n",
       " ('spark.app.name', 'PySparkShell'),\n",
       " ('spark.ui.showConsoleProgress', 'true'),\n",
       " ('spark.driver.host', '192.168.0.7')]"
      ]
     },
     "execution_count": 1,
     "metadata": {},
     "output_type": "execute_result"
    }
   ],
   "source": [
    "spark.sparkContext.getConf().getAll()"
   ]
  },
  {
   "cell_type": "markdown",
   "metadata": {},
   "source": [
    "## Configuration Details of Host Environment"
   ]
  },
  {
   "cell_type": "markdown",
   "metadata": {},
   "source": [
    "* !conda info\n",
    "* !python -m conda info\n",
    "* !whoami\n",
    "* !conda info --envs\n",
    "* !source activate py373"
   ]
  },
  {
   "cell_type": "markdown",
   "metadata": {},
   "source": [
    " # Data Wrangling with Spark"
   ]
  },
  {
   "cell_type": "code",
   "execution_count": 3,
   "metadata": {},
   "outputs": [],
   "source": [
    "from pyspark.sql import SparkSession\n",
    "from pyspark.sql.functions import udf\n",
    "from pyspark.sql.types import StringType\n",
    "from pyspark.sql.types import IntegerType\n",
    "from pyspark.sql.functions import desc\n",
    "from pyspark.sql.functions import asc\n",
    "from pyspark.sql.functions import sum as Fsum\n",
    "\n",
    "import datetime\n",
    "\n",
    "import numpy as np\n",
    "import pandas as pd\n",
    "%matplotlib inline\n",
    "import matplotlib.pyplot as plt"
   ]
  },
  {
   "cell_type": "code",
   "execution_count": 2,
   "metadata": {},
   "outputs": [],
   "source": [
    "spark = SparkSession \\\n",
    "    .builder \\\n",
    "    .appName(\"Wrangling Data\") \\\n",
    "    .getOrCreate()"
   ]
  },
  {
   "cell_type": "code",
   "execution_count": 5,
   "metadata": {},
   "outputs": [],
   "source": [
    "path = \"sparkify_log_small.json\"\n",
    "user_log = spark.read.json(path)"
   ]
  },
  {
   "cell_type": "code",
   "execution_count": 6,
   "metadata": {},
   "outputs": [
    {
     "data": {
      "text/plain": [
       "10000"
      ]
     },
     "execution_count": 6,
     "metadata": {},
     "output_type": "execute_result"
    }
   ],
   "source": [
    "user_log.count()"
   ]
  },
  {
   "cell_type": "code",
   "execution_count": 11,
   "metadata": {},
   "outputs": [
    {
     "name": "stdout",
     "output_type": "stream",
     "text": [
      "root\n",
      " |-- artist: string (nullable = true)\n",
      " |-- auth: string (nullable = true)\n",
      " |-- firstName: string (nullable = true)\n",
      " |-- gender: string (nullable = true)\n",
      " |-- itemInSession: long (nullable = true)\n",
      " |-- lastName: string (nullable = true)\n",
      " |-- length: double (nullable = true)\n",
      " |-- level: string (nullable = true)\n",
      " |-- location: string (nullable = true)\n",
      " |-- method: string (nullable = true)\n",
      " |-- page: string (nullable = true)\n",
      " |-- registration: long (nullable = true)\n",
      " |-- sessionId: long (nullable = true)\n",
      " |-- song: string (nullable = true)\n",
      " |-- status: long (nullable = true)\n",
      " |-- ts: long (nullable = true)\n",
      " |-- userAgent: string (nullable = true)\n",
      " |-- userId: string (nullable = true)\n",
      "\n"
     ]
    }
   ],
   "source": [
    "user_log.printSchema()"
   ]
  },
  {
   "cell_type": "code",
   "execution_count": 7,
   "metadata": {},
   "outputs": [
    {
     "name": "stdout",
     "output_type": "stream",
     "text": [
      "+-------+-----------------+----------+---------+------+------------------+--------+-----------------+-----+------------+------+-------+--------------------+------------------+--------+-----------------+-------------------+--------------------+------------------+\n",
      "|summary|           artist|      auth|firstName|gender|     itemInSession|lastName|           length|level|    location|method|   page|        registration|         sessionId|    song|           status|                 ts|           userAgent|            userId|\n",
      "+-------+-----------------+----------+---------+------+------------------+--------+-----------------+-----+------------+------+-------+--------------------+------------------+--------+-----------------+-------------------+--------------------+------------------+\n",
      "|  count|             8347|     10000|     9664|  9664|             10000|    9664|             8347|10000|        9664| 10000|  10000|                9664|             10000|    8347|            10000|              10000|                9664|             10000|\n",
      "|   mean|            461.0|      null|     null|  null|           19.6734|    null|249.6486587492506| null|        null|  null|   null|1.504695369588739...|         4436.7511|Infinity|         202.8984| 1.5137859954164E12|                null|1442.4413286423842|\n",
      "| stddev|            300.0|      null|     null|  null|25.382114916132608|    null|95.00437130781461| null|        null|  null|   null|  8.47314252131656E9|2043.1281541827561|     NaN|18.04179115450588|3.290828862357974E7|                null| 829.8909432082621|\n",
      "|    min|              !!!|     Guest|   Aakash|     F|                 0| Acevedo|          1.12281| free|Aberdeen, WA|   GET|  About|       1463503881284|                 9|      #1|              200|      1513720872284|\"Mozilla/5.0 (Mac...|                  |\n",
      "|    max|ÃÂlafur Arnalds|Logged Out|     Zoie|     M|               163|  Zuniga|        1806.8371| paid|    Yuma, AZ|   PUT|Upgrade|       1513760702284|              7144|wingless|              404|      1513848349284|Mozilla/5.0 (comp...|               999|\n",
      "+-------+-----------------+----------+---------+------+------------------+--------+-----------------+-----+------------+------+-------+--------------------+------------------+--------+-----------------+-------------------+--------------------+------------------+\n",
      "\n"
     ]
    }
   ],
   "source": [
    "user_log.describe().show()"
   ]
  },
  {
   "cell_type": "code",
   "execution_count": 14,
   "metadata": {},
   "outputs": [
    {
     "name": "stdout",
     "output_type": "stream",
     "text": [
      "+-------+-----------------+\n",
      "|summary|           artist|\n",
      "+-------+-----------------+\n",
      "|  count|             8347|\n",
      "|   mean|            461.0|\n",
      "| stddev|            300.0|\n",
      "|    min|              !!!|\n",
      "|    max|ÃÂlafur Arnalds|\n",
      "+-------+-----------------+\n",
      "\n"
     ]
    }
   ],
   "source": [
    "user_log.describe('artist').show()"
   ]
  },
  {
   "cell_type": "code",
   "execution_count": 8,
   "metadata": {},
   "outputs": [
    {
     "name": "stdout",
     "output_type": "stream",
     "text": [
      "+----------------+\n",
      "|            page|\n",
      "+----------------+\n",
      "|           About|\n",
      "|       Downgrade|\n",
      "|           Error|\n",
      "|            Help|\n",
      "|            Home|\n",
      "|           Login|\n",
      "|          Logout|\n",
      "|        NextSong|\n",
      "|   Save Settings|\n",
      "|        Settings|\n",
      "|Submit Downgrade|\n",
      "|  Submit Upgrade|\n",
      "|         Upgrade|\n",
      "+----------------+\n",
      "\n"
     ]
    }
   ],
   "source": [
    "user_log.select(['page']).dropDuplicates().sort('page').show()"
   ]
  },
  {
   "cell_type": "code",
   "execution_count": 25,
   "metadata": {},
   "outputs": [
    {
     "data": {
      "text/plain": [
       "['artist',\n",
       " 'auth',\n",
       " 'firstName',\n",
       " 'gender',\n",
       " 'itemInSession',\n",
       " 'lastName',\n",
       " 'length',\n",
       " 'level',\n",
       " 'location',\n",
       " 'method',\n",
       " 'page',\n",
       " 'registration',\n",
       " 'sessionId',\n",
       " 'song',\n",
       " 'status',\n",
       " 'ts',\n",
       " 'userAgent',\n",
       " 'userId']"
      ]
     },
     "execution_count": 25,
     "metadata": {},
     "output_type": "execute_result"
    }
   ],
   "source": [
    "user_log.columns"
   ]
  },
  {
   "cell_type": "code",
   "execution_count": 33,
   "metadata": {},
   "outputs": [
    {
     "data": {
      "text/plain": [
       "[Row(userId='1046', firstname='Kenneth', page='NextSong', song='Under The Gun', ts=1513842410284),\n",
       " Row(userId='1046', firstname='Kenneth', page='NextSong', song='Secrets', ts=1513842186284),\n",
       " Row(userId='1046', firstname='Kenneth', page='NextSong', song=\"Qu'Est-Ce Que T'Es Belle\", ts=1513841947284),\n",
       " Row(userId='1046', firstname='Kenneth', page='NextSong', song='Tough Little Boys', ts=1513841710284),\n",
       " Row(userId='1046', firstname='Kenneth', page='NextSong', song='Rising Moon', ts=1513841519284),\n",
       " Row(userId='1046', firstname='Kenneth', page='NextSong', song='Spring', ts=1513841332284),\n",
       " Row(userId='1046', firstname='Kenneth', page='NextSong', song='Hero/Heroine', ts=1513841100284),\n",
       " Row(userId='1046', firstname='Kenneth', page='NextSong', song='El Cuatrero', ts=1513840929284),\n",
       " Row(userId='1046', firstname='Kenneth', page='NextSong', song='Given Up (Album Version)', ts=1513840740284),\n",
       " Row(userId='1046', firstname='Kenneth', page='NextSong', song='Ask The Mountains', ts=1513840267284),\n",
       " Row(userId='1046', firstname='Kenneth', page='NextSong', song='Catch You Baby (Steve Pitron & Max Sanna Radio Edit)', ts=1513840086284),\n",
       " Row(userId='1046', firstname='Kenneth', page='NextSong', song='The Invisible Man', ts=1513839785284),\n",
       " Row(userId='1046', firstname='Kenneth', page='NextSong', song=\"Ry Ry's Song (Album Version)\", ts=1513839573284),\n",
       " Row(userId='1046', firstname='Kenneth', page='NextSong', song='Love Rain', ts=1513839321284),\n",
       " Row(userId='1046', firstname='Kenneth', page='NextSong', song='Clocks', ts=1513839014284),\n",
       " Row(userId='1046', firstname='Kenneth', page='NextSong', song='Bleed It Out [Live At Milton Keynes]', ts=1513838520284),\n",
       " Row(userId='1046', firstname='Kenneth', page='NextSong', song='Heads Will Roll', ts=1513838300284),\n",
       " Row(userId='1046', firstname='Kenneth', page='Home', song=None, ts=1513838155284),\n",
       " Row(userId='1046', firstname='Kenneth', page='Logout', song=None, ts=1513838081284),\n",
       " Row(userId='1046', firstname='Kenneth', page='NextSong', song='Black & Blue', ts=1513838080284),\n",
       " Row(userId='1046', firstname='Kenneth', page='NextSong', song='Killermont Street', ts=1513837887284),\n",
       " Row(userId='1046', firstname='Kenneth', page='NextSong', song='War on war', ts=1513837660284),\n",
       " Row(userId='1046', firstname='Kenneth', page='Home', song=None, ts=1513837636284),\n",
       " Row(userId='1046', firstname='Kenneth', page='NextSong', song='Seventeen', ts=1513722161284),\n",
       " Row(userId='1046', firstname='Kenneth', page='NextSong', song='No. 5', ts=1513721976284),\n",
       " Row(userId='1046', firstname='Kenneth', page='NextSong', song='Father And Son', ts=1513721808284),\n",
       " Row(userId='1046', firstname='Kenneth', page='NextSong', song='Reign Of The Tyrants', ts=1513721591284),\n",
       " Row(userId='1046', firstname='Kenneth', page='NextSong', song='Public Enemy No.1', ts=1513721310284),\n",
       " Row(userId='1046', firstname='Kenneth', page='NextSong', song='Be Wary Of A Woman', ts=1513721104284),\n",
       " Row(userId='1046', firstname='Kenneth', page='NextSong', song='Christmas Tears Will Fall', ts=1513720872284)]"
      ]
     },
     "execution_count": 33,
     "metadata": {},
     "output_type": "execute_result"
    }
   ],
   "source": [
    "user_log.select([ \"userId\", \"firstname\", \"page\", \"song\",\"ts\"]).filter(\"userId == '1046'\").orderBy(desc(\"ts\")).collect()"
   ]
  },
  {
   "cell_type": "code",
   "execution_count": 9,
   "metadata": {},
   "outputs": [],
   "source": [
    "get_hour = udf(lambda x: datetime.datetime.fromtimestamp(x / 1000.0). hour)"
   ]
  },
  {
   "cell_type": "code",
   "execution_count": 10,
   "metadata": {},
   "outputs": [],
   "source": [
    "user_log = user_log.withColumn(\"hour\", get_hour(user_log.ts))"
   ]
  },
  {
   "cell_type": "code",
   "execution_count": 11,
   "metadata": {},
   "outputs": [
    {
     "data": {
      "text/plain": [
       "Row(artist='Showaddywaddy', auth='Logged In', firstName='Kenneth', gender='M', itemInSession=112, lastName='Matthews', length=232.93342, level='paid', location='Charlotte-Concord-Gastonia, NC-SC', method='PUT', page='NextSong', registration=1509380319284, sessionId=5132, song='Christmas Tears Will Fall', status=200, ts=1513720872284, userAgent='\"Mozilla/5.0 (Windows NT 6.1) AppleWebKit/537.36 (KHTML, like Gecko) Chrome/36.0.1985.125 Safari/537.36\"', userId='1046', hour='14')"
      ]
     },
     "execution_count": 11,
     "metadata": {},
     "output_type": "execute_result"
    }
   ],
   "source": [
    "user_log.head()"
   ]
  },
  {
   "cell_type": "code",
   "execution_count": 12,
   "metadata": {},
   "outputs": [],
   "source": [
    "songs_in_hour = user_log.filter(user_log.page == \"NextSong\").groupby(user_log.hour).count().orderBy(user_log.hour.cast(\"float\"))"
   ]
  },
  {
   "cell_type": "code",
   "execution_count": 13,
   "metadata": {},
   "outputs": [
    {
     "data": {
      "text/plain": [
       "[Row(hour='0', count=375),\n",
       " Row(hour='1', count=249),\n",
       " Row(hour='2', count=216),\n",
       " Row(hour='3', count=228),\n",
       " Row(hour='4', count=251),\n",
       " Row(hour='5', count=339),\n",
       " Row(hour='6', count=462),\n",
       " Row(hour='7', count=479),\n",
       " Row(hour='8', count=484),\n",
       " Row(hour='9', count=430),\n",
       " Row(hour='10', count=362),\n",
       " Row(hour='11', count=295),\n",
       " Row(hour='12', count=257),\n",
       " Row(hour='13', count=248),\n",
       " Row(hour='14', count=369),\n",
       " Row(hour='15', count=375),\n",
       " Row(hour='16', count=456),\n",
       " Row(hour='17', count=454),\n",
       " Row(hour='18', count=382),\n",
       " Row(hour='19', count=302),\n",
       " Row(hour='20', count=352),\n",
       " Row(hour='21', count=276),\n",
       " Row(hour='22', count=348),\n",
       " Row(hour='23', count=358)]"
      ]
     },
     "execution_count": 13,
     "metadata": {},
     "output_type": "execute_result"
    }
   ],
   "source": [
    "songs_in_hour.collect()"
   ]
  },
  {
   "cell_type": "code",
   "execution_count": 14,
   "metadata": {},
   "outputs": [],
   "source": [
    "songs_in_hour_pd = songs_in_hour.toPandas()\n",
    "songs_in_hour_pd.hour = pd.to_numeric(songs_in_hour_pd.hour)"
   ]
  },
  {
   "cell_type": "code",
   "execution_count": 15,
   "metadata": {},
   "outputs": [
    {
     "data": {
      "image/png": "[encoded data removed]",
      "text/plain": [
       "<Figure size 432x288 with 1 Axes>"
      ]
     },
     "metadata": {
      "needs_background": "light"
     },
     "output_type": "display_data"
    }
   ],
   "source": [
    "plt.scatter(songs_in_hour_pd[\"hour\"], songs_in_hour_pd[\"count\"])\n",
    "plt.xlim(-1, 24);\n",
    "plt.ylim(0, 1.2 * max(songs_in_hour_pd[\"count\"]))\n",
    "plt.xlabel(\"Hour\")\n",
    "plt.ylabel(\"Songs played\");"
   ]
  },
  {
   "cell_type": "code",
   "execution_count": 16,
   "metadata": {},
   "outputs": [],
   "source": [
    "user_log_valid = user_log.dropna(how = \"any\", subset = [\"userId\", \"sessionId\"])"
   ]
  },
  {
   "cell_type": "code",
   "execution_count": 17,
   "metadata": {},
   "outputs": [
    {
     "data": {
      "text/plain": [
       "10000"
      ]
     },
     "execution_count": 17,
     "metadata": {},
     "output_type": "execute_result"
    }
   ],
   "source": [
    "user_log_valid.count()"
   ]
  },
  {
   "cell_type": "code",
   "execution_count": 18,
   "metadata": {},
   "outputs": [
    {
     "name": "stdout",
     "output_type": "stream",
     "text": [
      "+------+\n",
      "|userId|\n",
      "+------+\n",
      "|      |\n",
      "|    10|\n",
      "|   100|\n",
      "|  1000|\n",
      "|  1003|\n",
      "|  1005|\n",
      "|  1006|\n",
      "|  1017|\n",
      "|  1019|\n",
      "|  1020|\n",
      "|  1022|\n",
      "|  1025|\n",
      "|  1030|\n",
      "|  1035|\n",
      "|  1037|\n",
      "|   104|\n",
      "|  1040|\n",
      "|  1042|\n",
      "|  1043|\n",
      "|  1046|\n",
      "+------+\n",
      "only showing top 20 rows\n",
      "\n"
     ]
    }
   ],
   "source": [
    "user_log.select(\"userId\").dropDuplicates().sort(\"userId\").show()"
   ]
  },
  {
   "cell_type": "code",
   "execution_count": 19,
   "metadata": {},
   "outputs": [],
   "source": [
    "user_log_valid = user_log_valid.filter(user_log_valid[\"userId\"] != \"\")"
   ]
  },
  {
   "cell_type": "code",
   "execution_count": 20,
   "metadata": {},
   "outputs": [
    {
     "data": {
      "text/plain": [
       "9664"
      ]
     },
     "execution_count": 20,
     "metadata": {},
     "output_type": "execute_result"
    }
   ],
   "source": [
    "user_log_valid.count()"
   ]
  },
  {
   "cell_type": "code",
   "execution_count": 46,
   "metadata": {},
   "outputs": [
    {
     "name": "stdout",
     "output_type": "stream",
     "text": [
      "+------+---------+---------+------+-------------+--------+------+-----+--------------------+------+----------------+-------------+---------+----+------+-------------+--------------------+------+----+\n",
      "|artist|     auth|firstName|gender|itemInSession|lastName|length|level|            location|method|            page| registration|sessionId|song|status|           ts|           userAgent|userId|hour|\n",
      "+------+---------+---------+------+-------------+--------+------+-----+--------------------+------+----------------+-------------+---------+----+------+-------------+--------------------+------+----+\n",
      "|  null|Logged In|    Kelly|     F|           24|  Newton|  null| paid|Houston-The Woodl...|   PUT|Submit Downgrade|1513283366284|     5931|null|   307|1513768454284|Mozilla/5.0 (Wind...|  1138|   3|\n",
      "+------+---------+---------+------+-------------+--------+------+-----+--------------------+------+----------------+-------------+---------+----+------+-------------+--------------------+------+----+\n",
      "\n"
     ]
    }
   ],
   "source": [
    "user_log_valid.filter(\"page = 'Submit Downgrade'\").show()"
   ]
  },
  {
   "cell_type": "code",
   "execution_count": 60,
   "metadata": {},
   "outputs": [
    {
     "data": {
      "text/plain": [
       "[Row(userId='1138', firstname='Kelly', page='NextSong', level='free', ts=1513833144284, downgraded=0, phase=0),\n",
       " Row(userId='1138', firstname='Kelly', page='Home', level='free', ts=1513821430284, downgraded=0, phase=0),\n",
       " Row(userId='1138', firstname='Kelly', page='NextSong', level='free', ts=1513814880284, downgraded=0, phase=0),\n",
       " Row(userId='1138', firstname='Kelly', page='Home', level='free', ts=1513768456284, downgraded=0, phase=0),\n",
       " Row(userId='1138', firstname='Kelly', page='Submit Downgrade', level='paid', ts=1513768454284, downgraded=1, phase=1),\n",
       " Row(userId='1138', firstname='Kelly', page='Downgrade', level='paid', ts=1513768453284, downgraded=0, phase=1),\n",
       " Row(userId='1138', firstname='Kelly', page='NextSong', level='paid', ts=1513768452284, downgraded=0, phase=1),\n",
       " Row(userId='1138', firstname='Kelly', page='NextSong', level='paid', ts=1513768242284, downgraded=0, phase=1),\n",
       " Row(userId='1138', firstname='Kelly', page='NextSong', level='paid', ts=1513768012284, downgraded=0, phase=1),\n",
       " Row(userId='1138', firstname='Kelly', page='NextSong', level='paid', ts=1513767643284, downgraded=0, phase=1),\n",
       " Row(userId='1138', firstname='Kelly', page='NextSong', level='paid', ts=1513767413284, downgraded=0, phase=1),\n",
       " Row(userId='1138', firstname='Kelly', page='NextSong', level='paid', ts=1513767203284, downgraded=0, phase=1),\n",
       " Row(userId='1138', firstname='Kelly', page='NextSong', level='paid', ts=1513766838284, downgraded=0, phase=1),\n",
       " Row(userId='1138', firstname='Kelly', page='NextSong', level='paid', ts=1513766599284, downgraded=0, phase=1),\n",
       " Row(userId='1138', firstname='Kelly', page='NextSong', level='paid', ts=1513766385284, downgraded=0, phase=1),\n",
       " Row(userId='1138', firstname='Kelly', page='NextSong', level='paid', ts=1513766189284, downgraded=0, phase=1),\n",
       " Row(userId='1138', firstname='Kelly', page='NextSong', level='paid', ts=1513766091284, downgraded=0, phase=1),\n",
       " Row(userId='1138', firstname='Kelly', page='NextSong', level='paid', ts=1513765818284, downgraded=0, phase=1),\n",
       " Row(userId='1138', firstname='Kelly', page='NextSong', level='paid', ts=1513765655284, downgraded=0, phase=1),\n",
       " Row(userId='1138', firstname='Kelly', page='NextSong', level='paid', ts=1513765448284, downgraded=0, phase=1),\n",
       " Row(userId='1138', firstname='Kelly', page='NextSong', level='paid', ts=1513765075284, downgraded=0, phase=1),\n",
       " Row(userId='1138', firstname='Kelly', page='Home', level='paid', ts=1513765075284, downgraded=0, phase=1),\n",
       " Row(userId='1138', firstname='Kelly', page='NextSong', level='paid', ts=1513764782284, downgraded=0, phase=1),\n",
       " Row(userId='1138', firstname='Kelly', page='NextSong', level='paid', ts=1513764462284, downgraded=0, phase=1),\n",
       " Row(userId='1138', firstname='Kelly', page='NextSong', level='paid', ts=1513764238284, downgraded=0, phase=1),\n",
       " Row(userId='1138', firstname='Kelly', page='NextSong', level='paid', ts=1513763890284, downgraded=0, phase=1),\n",
       " Row(userId='1138', firstname='Kelly', page='NextSong', level='paid', ts=1513763622284, downgraded=0, phase=1),\n",
       " Row(userId='1138', firstname='Kelly', page='NextSong', level='paid', ts=1513763453284, downgraded=0, phase=1),\n",
       " Row(userId='1138', firstname='Kelly', page='NextSong', level='paid', ts=1513763195284, downgraded=0, phase=1),\n",
       " Row(userId='1138', firstname='Kelly', page='NextSong', level='paid', ts=1513738432284, downgraded=0, phase=1),\n",
       " Row(userId='1138', firstname='Kelly', page='Help', level='paid', ts=1513738197284, downgraded=0, phase=1),\n",
       " Row(userId='1138', firstname='Kelly', page='NextSong', level='paid', ts=1513738144284, downgraded=0, phase=1),\n",
       " Row(userId='1138', firstname='Kelly', page='NextSong', level='paid', ts=1513737936284, downgraded=0, phase=1),\n",
       " Row(userId='1138', firstname='Kelly', page='NextSong', level='paid', ts=1513737728284, downgraded=0, phase=1),\n",
       " Row(userId='1138', firstname='Kelly', page='NextSong', level='paid', ts=1513737460284, downgraded=0, phase=1),\n",
       " Row(userId='1138', firstname='Kelly', page='NextSong', level='paid', ts=1513737160284, downgraded=0, phase=1),\n",
       " Row(userId='1138', firstname='Kelly', page='NextSong', level='paid', ts=1513736915284, downgraded=0, phase=1),\n",
       " Row(userId='1138', firstname='Kelly', page='NextSong', level='paid', ts=1513736709284, downgraded=0, phase=1),\n",
       " Row(userId='1138', firstname='Kelly', page='NextSong', level='paid', ts=1513736446284, downgraded=0, phase=1),\n",
       " Row(userId='1138', firstname='Kelly', page='NextSong', level='paid', ts=1513736237284, downgraded=0, phase=1),\n",
       " Row(userId='1138', firstname='Kelly', page='NextSong', level='paid', ts=1513736040284, downgraded=0, phase=1),\n",
       " Row(userId='1138', firstname='Kelly', page='NextSong', level='paid', ts=1513735385284, downgraded=0, phase=1),\n",
       " Row(userId='1138', firstname='Kelly', page='NextSong', level='paid', ts=1513735174284, downgraded=0, phase=1),\n",
       " Row(userId='1138', firstname='Kelly', page='NextSong', level='paid', ts=1513734863284, downgraded=0, phase=1),\n",
       " Row(userId='1138', firstname='Kelly', page='NextSong', level='paid', ts=1513734598284, downgraded=0, phase=1),\n",
       " Row(userId='1138', firstname='Kelly', page='NextSong', level='paid', ts=1513734289284, downgraded=0, phase=1),\n",
       " Row(userId='1138', firstname='Kelly', page='NextSong', level='paid', ts=1513733941284, downgraded=0, phase=1),\n",
       " Row(userId='1138', firstname='Kelly', page='NextSong', level='paid', ts=1513733738284, downgraded=0, phase=1),\n",
       " Row(userId='1138', firstname='Kelly', page='NextSong', level='paid', ts=1513733456284, downgraded=0, phase=1),\n",
       " Row(userId='1138', firstname='Kelly', page='NextSong', level='paid', ts=1513733223284, downgraded=0, phase=1),\n",
       " Row(userId='1138', firstname='Kelly', page='NextSong', level='paid', ts=1513732994284, downgraded=0, phase=1),\n",
       " Row(userId='1138', firstname='Kelly', page='NextSong', level='paid', ts=1513732770284, downgraded=0, phase=1),\n",
       " Row(userId='1138', firstname='Kelly', page='NextSong', level='paid', ts=1513732540284, downgraded=0, phase=1),\n",
       " Row(userId='1138', firstname='Kelly', page='NextSong', level='paid', ts=1513732302284, downgraded=0, phase=1),\n",
       " Row(userId='1138', firstname='Kelly', page='NextSong', level='paid', ts=1513732160284, downgraded=0, phase=1),\n",
       " Row(userId='1138', firstname='Kelly', page='NextSong', level='paid', ts=1513731857284, downgraded=0, phase=1),\n",
       " Row(userId='1138', firstname='Kelly', page='NextSong', level='paid', ts=1513731695284, downgraded=0, phase=1),\n",
       " Row(userId='1138', firstname='Kelly', page='NextSong', level='paid', ts=1513731435284, downgraded=0, phase=1),\n",
       " Row(userId='1138', firstname='Kelly', page='NextSong', level='paid', ts=1513731182284, downgraded=0, phase=1),\n",
       " Row(userId='1138', firstname='Kelly', page='NextSong', level='paid', ts=1513730768284, downgraded=0, phase=1),\n",
       " Row(userId='1138', firstname='Kelly', page='NextSong', level='paid', ts=1513730518284, downgraded=0, phase=1),\n",
       " Row(userId='1138', firstname='Kelly', page='NextSong', level='paid', ts=1513730263284, downgraded=0, phase=1),\n",
       " Row(userId='1138', firstname='Kelly', page='NextSong', level='paid', ts=1513730001284, downgraded=0, phase=1),\n",
       " Row(userId='1138', firstname='Kelly', page='NextSong', level='paid', ts=1513729783284, downgraded=0, phase=1),\n",
       " Row(userId='1138', firstname='Kelly', page='NextSong', level='paid', ts=1513729552284, downgraded=0, phase=1),\n",
       " Row(userId='1138', firstname='Kelly', page='NextSong', level='paid', ts=1513729313284, downgraded=0, phase=1),\n",
       " Row(userId='1138', firstname='Kelly', page='Home', level='paid', ts=1513729066284, downgraded=0, phase=1),\n",
       " Row(userId='1138', firstname='Kelly', page='NextSong', level='paid', ts=1513729066284, downgraded=0, phase=1)]"
      ]
     },
     "execution_count": 60,
     "metadata": {},
     "output_type": "execute_result"
    }
   ],
   "source": [
    "user_log_valid.select([\"userId\", \"firstname\", \"page\", \"level\",'ts',\"downgraded\",'phase']).where(user_log.userId == \"1138\").sort(desc('ts')).collect()"
   ]
  },
  {
   "cell_type": "code",
   "execution_count": 51,
   "metadata": {},
   "outputs": [],
   "source": [
    "flag_downgrade_event = udf(lambda x: 1 if x == \"Submit Downgrade\" else 0, IntegerType())"
   ]
  },
  {
   "cell_type": "code",
   "execution_count": 52,
   "metadata": {},
   "outputs": [],
   "source": [
    "user_log_valid = user_log_valid.withColumn(\"downgraded\", flag_downgrade_event(\"page\"))"
   ]
  },
  {
   "cell_type": "code",
   "execution_count": 53,
   "metadata": {},
   "outputs": [],
   "source": [
    "from pyspark.sql import Window"
   ]
  },
  {
   "cell_type": "code",
   "execution_count": 54,
   "metadata": {},
   "outputs": [],
   "source": [
    "windowval = Window.partitionBy(\"userId\").orderBy(desc(\"ts\")).rangeBetween(Window.unboundedPreceding, 0)"
   ]
  },
  {
   "cell_type": "code",
   "execution_count": 55,
   "metadata": {},
   "outputs": [],
   "source": [
    "user_log_valid = user_log_valid.withColumn(\"phase\", Fsum(\"downgraded\").over(windowval))"
   ]
  },
  {
   "cell_type": "code",
   "execution_count": 56,
   "metadata": {},
   "outputs": [
    {
     "data": {
      "text/plain": [
       "[Row(userId='1138', firstname='Kelly', ts=1513729066284, page='Home', level='paid', phase=1),\n",
       " Row(userId='1138', firstname='Kelly', ts=1513729066284, page='NextSong', level='paid', phase=1),\n",
       " Row(userId='1138', firstname='Kelly', ts=1513729313284, page='NextSong', level='paid', phase=1),\n",
       " Row(userId='1138', firstname='Kelly', ts=1513729552284, page='NextSong', level='paid', phase=1),\n",
       " Row(userId='1138', firstname='Kelly', ts=1513729783284, page='NextSong', level='paid', phase=1),\n",
       " Row(userId='1138', firstname='Kelly', ts=1513730001284, page='NextSong', level='paid', phase=1),\n",
       " Row(userId='1138', firstname='Kelly', ts=1513730263284, page='NextSong', level='paid', phase=1),\n",
       " Row(userId='1138', firstname='Kelly', ts=1513730518284, page='NextSong', level='paid', phase=1),\n",
       " Row(userId='1138', firstname='Kelly', ts=1513730768284, page='NextSong', level='paid', phase=1),\n",
       " Row(userId='1138', firstname='Kelly', ts=1513731182284, page='NextSong', level='paid', phase=1),\n",
       " Row(userId='1138', firstname='Kelly', ts=1513731435284, page='NextSong', level='paid', phase=1),\n",
       " Row(userId='1138', firstname='Kelly', ts=1513731695284, page='NextSong', level='paid', phase=1),\n",
       " Row(userId='1138', firstname='Kelly', ts=1513731857284, page='NextSong', level='paid', phase=1),\n",
       " Row(userId='1138', firstname='Kelly', ts=1513732160284, page='NextSong', level='paid', phase=1),\n",
       " Row(userId='1138', firstname='Kelly', ts=1513732302284, page='NextSong', level='paid', phase=1),\n",
       " Row(userId='1138', firstname='Kelly', ts=1513732540284, page='NextSong', level='paid', phase=1),\n",
       " Row(userId='1138', firstname='Kelly', ts=1513732770284, page='NextSong', level='paid', phase=1),\n",
       " Row(userId='1138', firstname='Kelly', ts=1513732994284, page='NextSong', level='paid', phase=1),\n",
       " Row(userId='1138', firstname='Kelly', ts=1513733223284, page='NextSong', level='paid', phase=1),\n",
       " Row(userId='1138', firstname='Kelly', ts=1513733456284, page='NextSong', level='paid', phase=1),\n",
       " Row(userId='1138', firstname='Kelly', ts=1513733738284, page='NextSong', level='paid', phase=1),\n",
       " Row(userId='1138', firstname='Kelly', ts=1513733941284, page='NextSong', level='paid', phase=1),\n",
       " Row(userId='1138', firstname='Kelly', ts=1513734289284, page='NextSong', level='paid', phase=1),\n",
       " Row(userId='1138', firstname='Kelly', ts=1513734598284, page='NextSong', level='paid', phase=1),\n",
       " Row(userId='1138', firstname='Kelly', ts=1513734863284, page='NextSong', level='paid', phase=1),\n",
       " Row(userId='1138', firstname='Kelly', ts=1513735174284, page='NextSong', level='paid', phase=1),\n",
       " Row(userId='1138', firstname='Kelly', ts=1513735385284, page='NextSong', level='paid', phase=1),\n",
       " Row(userId='1138', firstname='Kelly', ts=1513736040284, page='NextSong', level='paid', phase=1),\n",
       " Row(userId='1138', firstname='Kelly', ts=1513736237284, page='NextSong', level='paid', phase=1),\n",
       " Row(userId='1138', firstname='Kelly', ts=1513736446284, page='NextSong', level='paid', phase=1),\n",
       " Row(userId='1138', firstname='Kelly', ts=1513736709284, page='NextSong', level='paid', phase=1),\n",
       " Row(userId='1138', firstname='Kelly', ts=1513736915284, page='NextSong', level='paid', phase=1),\n",
       " Row(userId='1138', firstname='Kelly', ts=1513737160284, page='NextSong', level='paid', phase=1),\n",
       " Row(userId='1138', firstname='Kelly', ts=1513737460284, page='NextSong', level='paid', phase=1),\n",
       " Row(userId='1138', firstname='Kelly', ts=1513737728284, page='NextSong', level='paid', phase=1),\n",
       " Row(userId='1138', firstname='Kelly', ts=1513737936284, page='NextSong', level='paid', phase=1),\n",
       " Row(userId='1138', firstname='Kelly', ts=1513738144284, page='NextSong', level='paid', phase=1),\n",
       " Row(userId='1138', firstname='Kelly', ts=1513738197284, page='Help', level='paid', phase=1),\n",
       " Row(userId='1138', firstname='Kelly', ts=1513738432284, page='NextSong', level='paid', phase=1),\n",
       " Row(userId='1138', firstname='Kelly', ts=1513763195284, page='NextSong', level='paid', phase=1),\n",
       " Row(userId='1138', firstname='Kelly', ts=1513763453284, page='NextSong', level='paid', phase=1),\n",
       " Row(userId='1138', firstname='Kelly', ts=1513763622284, page='NextSong', level='paid', phase=1),\n",
       " Row(userId='1138', firstname='Kelly', ts=1513763890284, page='NextSong', level='paid', phase=1),\n",
       " Row(userId='1138', firstname='Kelly', ts=1513764238284, page='NextSong', level='paid', phase=1),\n",
       " Row(userId='1138', firstname='Kelly', ts=1513764462284, page='NextSong', level='paid', phase=1),\n",
       " Row(userId='1138', firstname='Kelly', ts=1513764782284, page='NextSong', level='paid', phase=1),\n",
       " Row(userId='1138', firstname='Kelly', ts=1513765075284, page='NextSong', level='paid', phase=1),\n",
       " Row(userId='1138', firstname='Kelly', ts=1513765075284, page='Home', level='paid', phase=1),\n",
       " Row(userId='1138', firstname='Kelly', ts=1513765448284, page='NextSong', level='paid', phase=1),\n",
       " Row(userId='1138', firstname='Kelly', ts=1513765655284, page='NextSong', level='paid', phase=1),\n",
       " Row(userId='1138', firstname='Kelly', ts=1513765818284, page='NextSong', level='paid', phase=1),\n",
       " Row(userId='1138', firstname='Kelly', ts=1513766091284, page='NextSong', level='paid', phase=1),\n",
       " Row(userId='1138', firstname='Kelly', ts=1513766189284, page='NextSong', level='paid', phase=1),\n",
       " Row(userId='1138', firstname='Kelly', ts=1513766385284, page='NextSong', level='paid', phase=1),\n",
       " Row(userId='1138', firstname='Kelly', ts=1513766599284, page='NextSong', level='paid', phase=1),\n",
       " Row(userId='1138', firstname='Kelly', ts=1513766838284, page='NextSong', level='paid', phase=1),\n",
       " Row(userId='1138', firstname='Kelly', ts=1513767203284, page='NextSong', level='paid', phase=1),\n",
       " Row(userId='1138', firstname='Kelly', ts=1513767413284, page='NextSong', level='paid', phase=1),\n",
       " Row(userId='1138', firstname='Kelly', ts=1513767643284, page='NextSong', level='paid', phase=1),\n",
       " Row(userId='1138', firstname='Kelly', ts=1513768012284, page='NextSong', level='paid', phase=1),\n",
       " Row(userId='1138', firstname='Kelly', ts=1513768242284, page='NextSong', level='paid', phase=1),\n",
       " Row(userId='1138', firstname='Kelly', ts=1513768452284, page='NextSong', level='paid', phase=1),\n",
       " Row(userId='1138', firstname='Kelly', ts=1513768453284, page='Downgrade', level='paid', phase=1),\n",
       " Row(userId='1138', firstname='Kelly', ts=1513768454284, page='Submit Downgrade', level='paid', phase=1),\n",
       " Row(userId='1138', firstname='Kelly', ts=1513768456284, page='Home', level='free', phase=0),\n",
       " Row(userId='1138', firstname='Kelly', ts=1513814880284, page='NextSong', level='free', phase=0),\n",
       " Row(userId='1138', firstname='Kelly', ts=1513821430284, page='Home', level='free', phase=0),\n",
       " Row(userId='1138', firstname='Kelly', ts=1513833144284, page='NextSong', level='free', phase=0)]"
      ]
     },
     "execution_count": 56,
     "metadata": {},
     "output_type": "execute_result"
    }
   ],
   "source": [
    "user_log_valid.select([\"userId\", \"firstname\", \"ts\", \"page\", \"level\", \"phase\"]).where(user_log.userId == \"1138\").sort(\"ts\").collect()"
   ]
  },
  {
   "cell_type": "code",
   "execution_count": 3,
   "metadata": {},
   "outputs": [],
   "source": [
    "path = \"sparkify_log_small.json\"\n",
    "user_log_a = spark.read.json(path)"
   ]
  },
  {
   "cell_type": "code",
   "execution_count": 22,
   "metadata": {},
   "outputs": [
    {
     "data": {
      "text/plain": [
       "[Row(page='Home'), Row(page='About'), Row(page='Login'), Row(page='Help')]"
      ]
     },
     "execution_count": 22,
     "metadata": {},
     "output_type": "execute_result"
    }
   ],
   "source": [
    "#user_log_a.select('userId').dropDuplicates().sort('page').show()\n",
    "user_log_a.filter(user_log_a['userid'] == '').select('page').dropDuplicates().collect()"
   ]
  },
  {
   "cell_type": "code",
   "execution_count": 23,
   "metadata": {},
   "outputs": [
    {
     "data": {
      "text/plain": [
       "462"
      ]
     },
     "execution_count": 23,
     "metadata": {},
     "output_type": "execute_result"
    }
   ],
   "source": [
    "#user_log_a.select(\"gender\").dropDuplicates().sort(\"userId\").show()\n",
    "#user_log_a.columns\n",
    "user_log_a.filter(user_log_a['gender'] == 'F').select(\"userId\").dropDuplicates().count()"
   ]
  },
  {
   "cell_type": "code",
   "execution_count": 43,
   "metadata": {},
   "outputs": [
    {
     "data": {
      "text/plain": [
       "83"
      ]
     },
     "execution_count": 43,
     "metadata": {},
     "output_type": "execute_result"
    }
   ],
   "source": [
    "#How many songs were played from the most played artist?\n",
    "#user_log_a.groupby('artist').count().alias('sum').orderBy(desc('count')).collect()\n",
    "user_log_a.filter(user_log_a['artist'] == 'Coldplay').select('song').count()"
   ]
  },
  {
   "cell_type": "code",
   "execution_count": 38,
   "metadata": {},
   "outputs": [
    {
     "data": {
      "text/plain": [
       "[Row(artist=None, count=1653),\n",
       " Row(artist='Coldplay', count=83),\n",
       " Row(artist='Kings Of Leon', count=69),\n",
       " Row(artist='Florence + The Machine', count=52),\n",
       " Row(artist='BjÃ\\x83Â¶rk', count=46),\n",
       " Row(artist='Dwight Yoakam', count=45),\n",
       " Row(artist='Justin Bieber', count=43),\n",
       " Row(artist='The Black Keys', count=40),\n",
       " Row(artist='OneRepublic', count=37),\n",
       " Row(artist='Jack Johnson', count=36),\n",
       " Row(artist='Muse', count=36),\n",
       " Row(artist='Radiohead', count=31),\n",
       " Row(artist='Taylor Swift', count=29),\n",
       " Row(artist='Lily Allen', count=28),\n",
       " Row(artist='Barry Tuckwell/Academy of St Martin-in-the-Fields/Sir Neville Marriner', count=28),\n",
       " Row(artist='Train', count=28),\n",
       " Row(artist='Nickelback', count=27),\n",
       " Row(artist='Metallica', count=27),\n",
       " Row(artist='Daft Punk', count=27),\n",
       " Row(artist='Kanye West', count=26),\n",
       " Row(artist='John Mayer', count=24),\n",
       " Row(artist='Red Hot Chili Peppers', count=24),\n",
       " Row(artist='Alliance Ethnik', count=24),\n",
       " Row(artist='Linkin Park', count=23),\n",
       " Row(artist='Eminem', count=23),\n",
       " Row(artist=\"Guns N' Roses\", count=23),\n",
       " Row(artist='The Killers', count=22),\n",
       " Row(artist='Harmonia', count=22),\n",
       " Row(artist='The All-American Rejects', count=22),\n",
       " Row(artist='Weezer', count=21),\n",
       " Row(artist='Evanescence', count=20),\n",
       " Row(artist='Rammstein', count=20),\n",
       " Row(artist='Creedence Clearwater Revival', count=20),\n",
       " Row(artist='Foo Fighters', count=19),\n",
       " Row(artist='Miley Cyrus', count=18),\n",
       " Row(artist='Gorillaz', count=18),\n",
       " Row(artist='Five Iron Frenzy', count=18),\n",
       " Row(artist='Arctic Monkeys', count=18),\n",
       " Row(artist='Vampire Weekend', count=18),\n",
       " Row(artist='BeyoncÃ\\x83Â©', count=18),\n",
       " Row(artist='Sam Cooke', count=17),\n",
       " Row(artist='Rihanna', count=16),\n",
       " Row(artist='Tub Ring', count=16),\n",
       " Row(artist='Angels and Airwaves', count=16),\n",
       " Row(artist='Paramore', count=16),\n",
       " Row(artist='Lady GaGa', count=16),\n",
       " Row(artist='Nine Inch Nails', count=16),\n",
       " Row(artist='Lifehouse', count=15),\n",
       " Row(artist='Man Man', count=15),\n",
       " Row(artist='Rise Against', count=15),\n",
       " Row(artist='matchbox twenty', count=15),\n",
       " Row(artist='The White Stripes', count=15),\n",
       " Row(artist='Beastie Boys', count=15),\n",
       " Row(artist='Phoenix', count=14),\n",
       " Row(artist='3 Doors Down', count=14),\n",
       " Row(artist='Octopus Project', count=14),\n",
       " Row(artist='Michael BublÃ\\x83Â©', count=14),\n",
       " Row(artist='Michael Jackson', count=14),\n",
       " Row(artist='Black Eyed Peas', count=14),\n",
       " Row(artist='Amy Winehouse', count=14),\n",
       " Row(artist='Slipknot', count=14),\n",
       " Row(artist='Enrique Iglesias', count=14),\n",
       " Row(artist='Cartola', count=13),\n",
       " Row(artist='Two Door Cinema Club', count=13),\n",
       " Row(artist='Jimmy Eat World', count=13),\n",
       " Row(artist='Cat Stevens', count=13),\n",
       " Row(artist='Van Halen', count=13),\n",
       " Row(artist='Charttraxx Karaoke', count=13),\n",
       " Row(artist='Hot Chip', count=13),\n",
       " Row(artist='Bon Iver', count=13),\n",
       " Row(artist='The Police', count=13),\n",
       " Row(artist='Pearl Jam', count=13),\n",
       " Row(artist='Aerosmith', count=13),\n",
       " Row(artist='Avril Lavigne', count=13),\n",
       " Row(artist='Katy Perry', count=13),\n",
       " Row(artist='Travie McCoy', count=13),\n",
       " Row(artist='The Smiths', count=12),\n",
       " Row(artist='Bon Jovi', count=12),\n",
       " Row(artist='Edward Sharpe & The Magnetic Zeros', count=12),\n",
       " Row(artist='The Kooks', count=12),\n",
       " Row(artist='MGMT', count=12),\n",
       " Row(artist='Franz Ferdinand', count=12),\n",
       " Row(artist='The Notorious B.I.G.', count=12),\n",
       " Row(artist='Blink-182', count=12),\n",
       " Row(artist='The Strokes', count=12),\n",
       " Row(artist='The New Pornographers', count=12),\n",
       " Row(artist='Eagles', count=12),\n",
       " Row(artist='Jason Mraz & Colbie Caillat', count=11),\n",
       " Row(artist='Deadmau5', count=11),\n",
       " Row(artist='Rage Against The Machine', count=11),\n",
       " Row(artist='LCD Soundsystem', count=11),\n",
       " Row(artist='Beirut', count=11),\n",
       " Row(artist='Interpol', count=11),\n",
       " Row(artist='Shakira', count=11),\n",
       " Row(artist='Owl City', count=11),\n",
       " Row(artist='Godsmack', count=11),\n",
       " Row(artist='A Day To Remember', count=11),\n",
       " Row(artist='Hollywood Undead', count=11),\n",
       " Row(artist='Panic At The Disco', count=11),\n",
       " Row(artist='Juanes', count=11),\n",
       " Row(artist='Enigma', count=11),\n",
       " Row(artist='Chromeo', count=11),\n",
       " Row(artist='Yann Tiersen', count=10),\n",
       " Row(artist='U2', count=10),\n",
       " Row(artist='Arcade Fire', count=10),\n",
       " Row(artist='Natiruts', count=10),\n",
       " Row(artist='The Pussycat Dolls', count=10),\n",
       " Row(artist='Mariah Carey', count=10),\n",
       " Row(artist=\"Plain White T's\", count=10),\n",
       " Row(artist='Modest Mouse', count=10),\n",
       " Row(artist='Maroon 5', count=10),\n",
       " Row(artist='Cradle Of Filth', count=10),\n",
       " Row(artist='Green Day', count=10),\n",
       " Row(artist='Radney Foster', count=10),\n",
       " Row(artist='Justin Timberlake', count=10),\n",
       " Row(artist='Fall Out Boy', count=10),\n",
       " Row(artist='Alceu ValenÃ\\x83Â§a', count=10),\n",
       " Row(artist='Lonnie Gordon', count=10),\n",
       " Row(artist='System of a Down', count=10),\n",
       " Row(artist='Justice', count=10),\n",
       " Row(artist='Elliott Smith', count=10),\n",
       " Row(artist='Randy Crawford', count=10),\n",
       " Row(artist='Todd Barry', count=10),\n",
       " Row(artist='Sheryl Crow', count=10),\n",
       " Row(artist='P.O.D.', count=9),\n",
       " Row(artist='La Roux', count=9),\n",
       " Row(artist='Angus & Julia Stone', count=9),\n",
       " Row(artist='Skillet', count=9),\n",
       " Row(artist='Metric', count=9),\n",
       " Row(artist='No Doubt', count=9),\n",
       " Row(artist='Anberlin', count=9),\n",
       " Row(artist='Jason Mraz', count=9),\n",
       " Row(artist='the bird and the bee', count=9),\n",
       " Row(artist='Massive Attack', count=9),\n",
       " Row(artist='The Ruts', count=9),\n",
       " Row(artist='The Kills', count=9),\n",
       " Row(artist='Matt Nathanson', count=9),\n",
       " Row(artist='Thursday', count=9),\n",
       " Row(artist='Apocalyptica', count=9),\n",
       " Row(artist='The Mars Volta', count=9),\n",
       " Row(artist='Stone Temple Pilots', count=9),\n",
       " Row(artist='Jason Derulo', count=9),\n",
       " Row(artist='Akon', count=9),\n",
       " Row(artist='Cat Power', count=9),\n",
       " Row(artist='Future Rock', count=9),\n",
       " Row(artist='Faith No More', count=9),\n",
       " Row(artist='Shinedown', count=9),\n",
       " Row(artist='Sting', count=8),\n",
       " Row(artist='Crystal Castles', count=8),\n",
       " Row(artist='Ron Carter', count=8),\n",
       " Row(artist='Holy Fuck', count=8),\n",
       " Row(artist='JosÃ\\x83Â© GonzÃ\\x83Â¡lez', count=8),\n",
       " Row(artist='Kid Cudi', count=8),\n",
       " Row(artist='The Avett Brothers', count=8),\n",
       " Row(artist='Dropkick Murphys', count=8),\n",
       " Row(artist='Colbie Caillat', count=8),\n",
       " Row(artist='Kelly Clarkson', count=8),\n",
       " Row(artist='Ratatat', count=8),\n",
       " Row(artist='The Verve', count=8),\n",
       " Row(artist='Mayday Parade', count=8),\n",
       " Row(artist='Bloc Party', count=8),\n",
       " Row(artist='Mike And The Mechanics', count=8),\n",
       " Row(artist='The Postal Service', count=8),\n",
       " Row(artist='Adam Lambert', count=8),\n",
       " Row(artist='3OH!3', count=8),\n",
       " Row(artist='Band Of Horses', count=8),\n",
       " Row(artist='The Decemberists', count=8),\n",
       " Row(artist='Snow Patrol', count=8),\n",
       " Row(artist='Alicia Keys', count=8),\n",
       " Row(artist='Three Drives', count=8),\n",
       " Row(artist='Iron Maiden', count=8),\n",
       " Row(artist='Thousand Foot Krutch', count=8),\n",
       " Row(artist='Days Of The New', count=8),\n",
       " Row(artist='Calle 13', count=7),\n",
       " Row(artist='Orishas', count=7),\n",
       " Row(artist='Pixies', count=7),\n",
       " Row(artist='DAVE MATTHEWS BAND', count=7),\n",
       " Row(artist='Death Cab for Cutie', count=7),\n",
       " Row(artist='Rilo Kiley', count=7),\n",
       " Row(artist='Wilco', count=7),\n",
       " Row(artist='Zac Brown Band', count=7),\n",
       " Row(artist='Bright Eyes', count=7),\n",
       " Row(artist='Sheena Easton', count=7),\n",
       " Row(artist='Carla Bruni', count=7),\n",
       " Row(artist='Ok Go', count=7),\n",
       " Row(artist='Damien Rice', count=7),\n",
       " Row(artist='N.E.R.D.', count=7),\n",
       " Row(artist='Josh Turner', count=7),\n",
       " Row(artist='The Temper Trap', count=7),\n",
       " Row(artist='Postal Service', count=7),\n",
       " Row(artist='Depeche Mode', count=7),\n",
       " Row(artist='My Chemical Romance', count=7),\n",
       " Row(artist='Avenged Sevenfold', count=7),\n",
       " Row(artist='Staind', count=7),\n",
       " Row(artist='Young Money featuring Lloyd', count=7),\n",
       " Row(artist='Bryan Adams', count=7),\n",
       " Row(artist='B.o.B', count=7),\n",
       " Row(artist='Jill Scott', count=7),\n",
       " Row(artist='Nick Cave & The Bad Seeds', count=7),\n",
       " Row(artist='Soltero', count=7),\n",
       " Row(artist='Thievery Corporation', count=7),\n",
       " Row(artist='Alison Krauss / Union Station', count=7),\n",
       " Row(artist='Queens Of The Stone Age', count=7),\n",
       " Row(artist='Alice In Chains', count=7),\n",
       " Row(artist='NOFX', count=7),\n",
       " Row(artist='Cake', count=7),\n",
       " Row(artist='Iron And Wine', count=7),\n",
       " Row(artist='Moby', count=7),\n",
       " Row(artist='Britney Spears', count=7),\n",
       " Row(artist='Enya', count=7),\n",
       " Row(artist='Base Ball Bear', count=7),\n",
       " Row(artist='Yeah Yeah Yeahs', count=7),\n",
       " Row(artist='Disturbed', count=7),\n",
       " Row(artist='T.I.', count=7),\n",
       " Row(artist='The Shins', count=6),\n",
       " Row(artist='Madonna', count=6),\n",
       " Row(artist='Digitalism', count=6),\n",
       " Row(artist='Feist', count=6),\n",
       " Row(artist='The Buggles', count=6),\n",
       " Row(artist='Mickie Krause', count=6),\n",
       " Row(artist='SOJA', count=6),\n",
       " Row(artist='Bloodhound Gang', count=6),\n",
       " Row(artist='Pepper', count=6),\n",
       " Row(artist='Vangelis', count=6),\n",
       " Row(artist='White Denim', count=6),\n",
       " Row(artist='Nirvana', count=6),\n",
       " Row(artist='Buckcherry', count=6),\n",
       " Row(artist='Five Finger Death Punch', count=6),\n",
       " Row(artist='Ludovico Einaudi', count=6),\n",
       " Row(artist='Eric Clapton', count=6),\n",
       " Row(artist='M83', count=6),\n",
       " Row(artist='Kid Cudi / MGMT / Ratatat', count=6),\n",
       " Row(artist='Phil Collins', count=6),\n",
       " Row(artist='Morcheeba', count=6),\n",
       " Row(artist='The Rapture', count=6),\n",
       " Row(artist='Boys Noize', count=6),\n",
       " Row(artist='Blind Melon', count=6),\n",
       " Row(artist='Carpenters', count=6),\n",
       " Row(artist='Pendulum', count=6),\n",
       " Row(artist='PJ Harvey', count=6),\n",
       " Row(artist='Los Fabulosos Cadillacs', count=6),\n",
       " Row(artist='Billy Idol', count=6),\n",
       " Row(artist='Cage The Elephant', count=6),\n",
       " Row(artist='Echo And The Bunnymen', count=6),\n",
       " Row(artist='Bill Withers', count=6),\n",
       " Row(artist='Bersuit Vergarabat', count=6),\n",
       " Row(artist='Tiziano Ferro', count=6),\n",
       " Row(artist='The Rolling Stones', count=6),\n",
       " Row(artist='Eminem / Nate Dogg', count=6),\n",
       " Row(artist='Girl Talk', count=6),\n",
       " Row(artist='Ulrich Schnauss', count=6),\n",
       " Row(artist='Frumpies', count=6),\n",
       " Row(artist='Tom Petty', count=6),\n",
       " Row(artist='J. Karjalainen & Mustat Lasit', count=6),\n",
       " Row(artist='Johnny Winter', count=6),\n",
       " Row(artist='Thrice', count=6),\n",
       " Row(artist='Primus', count=6),\n",
       " Row(artist='Timbaland / Keri Hilson / D.O.E.', count=6),\n",
       " Row(artist='Southside Spinners', count=6),\n",
       " Row(artist='LMFAO / Lil Jon', count=6),\n",
       " Row(artist='Dominique A', count=6),\n",
       " Row(artist='Camera Obscura', count=6),\n",
       " Row(artist='Sara Bareilles', count=6),\n",
       " Row(artist='Alanis Morissette', count=6),\n",
       " Row(artist='Foolish Things', count=6),\n",
       " Row(artist='Amos Lee', count=6),\n",
       " Row(artist='Lil Wayne / Eminem', count=6),\n",
       " Row(artist='California Swag District', count=6),\n",
       " Row(artist='Pavement', count=6),\n",
       " Row(artist='Belle & Sebastian', count=5),\n",
       " Row(artist='Sugarland', count=5),\n",
       " Row(artist='Kaiser Chiefs', count=5),\n",
       " Row(artist='Regina Spektor', count=5),\n",
       " Row(artist='Fleet Foxes', count=5),\n",
       " Row(artist='Alison Krauss', count=5),\n",
       " Row(artist='Fluke', count=5),\n",
       " Row(artist='Herb Alpert And The Tijuana Brass', count=5),\n",
       " Row(artist='Renegade Soundwave', count=5),\n",
       " Row(artist='LMFAO', count=5),\n",
       " Row(artist='Ace of Base', count=5),\n",
       " Row(artist='Jay-Z', count=5),\n",
       " Row(artist='Tab Benoit', count=5),\n",
       " Row(artist='Machine Head', count=5),\n",
       " Row(artist='Joshua Radin', count=5),\n",
       " Row(artist='Philippe Rochard', count=5),\n",
       " Row(artist='Skream', count=5),\n",
       " Row(artist='Corinne Bailey Rae', count=5),\n",
       " Row(artist='RÃ\\x83Â³isÃ\\x83Â\\xadn Murphy', count=5),\n",
       " Row(artist='Toby Keith', count=5),\n",
       " Row(artist=\"Jack's Mannequin\", count=5),\n",
       " Row(artist='CafÃ\\x83Â© Tacvba', count=5),\n",
       " Row(artist='Four Tet', count=5),\n",
       " Row(artist='Amon Amarth', count=5),\n",
       " Row(artist='Usher', count=5),\n",
       " Row(artist='Drowning Pool', count=5),\n",
       " Row(artist='Led Zeppelin', count=5),\n",
       " Row(artist='Hole', count=5),\n",
       " Row(artist='Parov Stelar', count=5),\n",
       " Row(artist='Eddie Vedder', count=5),\n",
       " Row(artist='The Mamas & The Papas', count=5),\n",
       " Row(artist='Michael Cretu', count=5),\n",
       " Row(artist='Basshunter', count=5),\n",
       " Row(artist='Tenth Avenue North', count=5),\n",
       " Row(artist='Blondie', count=5),\n",
       " Row(artist='Gotan Project', count=5),\n",
       " Row(artist='Bryan Ferry', count=5),\n",
       " Row(artist='Emmy The Great', count=5),\n",
       " Row(artist='Travis', count=5),\n",
       " Row(artist='Static-X', count=5),\n",
       " Row(artist='Olivia Newton-John', count=5),\n",
       " Row(artist='Smokey Robinson & The Miracles', count=5),\n",
       " Row(artist='Scooter', count=5),\n",
       " Row(artist='Kansas', count=5),\n",
       " Row(artist='They Might Be Giants', count=5),\n",
       " Row(artist='Deadmau5 & Kaskade', count=5),\n",
       " Row(artist='Silversun Pickups', count=5),\n",
       " Row(artist='Jaci Velasquez', count=5),\n",
       " Row(artist='Bobby McFerrin', count=5),\n",
       " Row(artist='Caribou', count=5),\n",
       " Row(artist='Boyzone', count=5),\n",
       " Row(artist='Taking Back Sunday', count=5),\n",
       " Row(artist='Cameo', count=5),\n",
       " Row(artist='Broken Social Scene', count=5),\n",
       " Row(artist='Matt Costa', count=5),\n",
       " Row(artist='Atomic Kitten', count=5),\n",
       " Row(artist='Soundgarden', count=5),\n",
       " Row(artist='We The Kings', count=5),\n",
       " Row(artist='The Prodigy', count=5),\n",
       " Row(artist='Jonny Lang', count=5),\n",
       " Row(artist='Miike Snow', count=5),\n",
       " Row(artist='Counting Crows', count=5),\n",
       " Row(artist='Frou Frou', count=5),\n",
       " Row(artist='Cut Copy', count=5),\n",
       " Row(artist='Eric B. & Rakim', count=5),\n",
       " Row(artist='Neutral Milk Hotel', count=5),\n",
       " Row(artist='Gary Allan', count=5),\n",
       " Row(artist='The Whitest Boy Alive', count=5),\n",
       " Row(artist='Tech N9ne', count=5),\n",
       " Row(artist='Josh Groban', count=5),\n",
       " Row(artist='Gym Class Heroes', count=5),\n",
       " Row(artist='Christina Aguilera', count=5),\n",
       " Row(artist='Penguin CafÃ\\x83Â© Orchestra', count=5),\n",
       " Row(artist='Katie Melua', count=5),\n",
       " Row(artist='Frightened Rabbit', count=5),\n",
       " Row(artist='Marilyn Manson', count=5),\n",
       " Row(artist='Eva Cassidy', count=4),\n",
       " Row(artist='Los Lobos', count=4),\n",
       " Row(artist='Stars', count=4),\n",
       " Row(artist='Beach House', count=4),\n",
       " Row(artist='The Gaslight Anthem', count=4),\n",
       " Row(artist='Second Hand Serenade', count=4),\n",
       " Row(artist='Secondhand Serenade', count=4),\n",
       " Row(artist='59 Times the Pain', count=4),\n",
       " Row(artist='Erin McKeown', count=4),\n",
       " Row(artist='Klaxons', count=4),\n",
       " Row(artist='Coheed and Cambria', count=4),\n",
       " Row(artist='DMX', count=4),\n",
       " Row(artist='Foreigner', count=4),\n",
       " Row(artist='DJ Dizzy', count=4),\n",
       " Row(artist='Leona Lewis', count=4),\n",
       " Row(artist='Ellie Goulding', count=4),\n",
       " Row(artist='Devo', count=4),\n",
       " Row(artist='AFI', count=4),\n",
       " Row(artist='The Cure', count=4),\n",
       " Row(artist='Dream Theater', count=4),\n",
       " Row(artist='Animal Collective', count=4),\n",
       " Row(artist='Streetlight Manifesto', count=4),\n",
       " Row(artist='Bachman-Turner Overdrive', count=4),\n",
       " Row(artist='Escape The Fate', count=4),\n",
       " Row(artist='The Crests', count=4),\n",
       " Row(artist='Portishead', count=4),\n",
       " Row(artist='Usher featuring will.i.am', count=4),\n",
       " Row(artist='Alter Bridge', count=4),\n",
       " Row(artist='Yung Joc', count=4),\n",
       " Row(artist='Prince', count=4),\n",
       " Row(artist='Andres Calamaro', count=4),\n",
       " Row(artist='Wiz Khalifa', count=4),\n",
       " Row(artist='CÃ\\x83Â©line Dion', count=4),\n",
       " Row(artist='Sean Kingston and Justin Bieber', count=4),\n",
       " Row(artist='Audioslave', count=4),\n",
       " Row(artist='Klaus Badelt', count=4),\n",
       " Row(artist='Panic! At The Disco', count=4),\n",
       " Row(artist='Cobra Starship', count=4),\n",
       " Row(artist='Alejandro Sanz', count=4),\n",
       " Row(artist='Patty Griffin', count=4),\n",
       " Row(artist='Sense Field', count=4),\n",
       " Row(artist='The Raconteurs', count=4),\n",
       " Row(artist='Subhumans', count=4),\n",
       " Row(artist='Epica', count=4),\n",
       " Row(artist='Sia', count=4),\n",
       " Row(artist='Savage Garden', count=4),\n",
       " Row(artist='K-OS', count=4),\n",
       " Row(artist='Tom Petty And The Heartbreakers', count=4),\n",
       " Row(artist='Darius Rucker', count=4),\n",
       " Row(artist='Deftones', count=4),\n",
       " Row(artist='Max Richter', count=4),\n",
       " Row(artist='Andrew Bird', count=4),\n",
       " Row(artist='Blake Shelton', count=4),\n",
       " Row(artist='Lil Scrappy', count=4),\n",
       " Row(artist='Chris Cagle', count=4),\n",
       " Row(artist='Simian Mobile Disco', count=4),\n",
       " Row(artist='Bruce Springsteen', count=4),\n",
       " Row(artist='The Cardigans', count=4),\n",
       " Row(artist='Kid Cudi Vs Crookers', count=4),\n",
       " Row(artist='Simon Harris', count=4),\n",
       " Row(artist='Fatboy Slim', count=4),\n",
       " Row(artist='Queen', count=4),\n",
       " Row(artist='Rob Zombie', count=4),\n",
       " Row(artist='Passion Pit', count=4),\n",
       " Row(artist='Limp Bizkit', count=4),\n",
       " Row(artist='The Script', count=4),\n",
       " Row(artist='Dierks Bentley', count=4),\n",
       " Row(artist='Steely Dan', count=4),\n",
       " Row(artist='India.Arie', count=4),\n",
       " Row(artist='Aventura', count=4),\n",
       " Row(artist='Ryan Adams', count=4),\n",
       " Row(artist='Tom Waits', count=4),\n",
       " Row(artist='Rick James', count=4),\n",
       " Row(artist='Vanessa Carlton', count=4),\n",
       " Row(artist='City And Colour', count=4),\n",
       " Row(artist='Lynyrd Skynyrd', count=4),\n",
       " Row(artist='Gin Blossoms', count=4),\n",
       " Row(artist='David Gray', count=4),\n",
       " Row(artist='Sade', count=4),\n",
       " Row(artist='Zero 7', count=4),\n",
       " Row(artist='Huey Lewis And The News', count=4),\n",
       " Row(artist='Delirious?', count=4),\n",
       " Row(artist='Eric Church', count=4),\n",
       " Row(artist='Yellowcard', count=4),\n",
       " Row(artist='US3 Featuring Rahsaan And Gerard Presencer', count=4),\n",
       " Row(artist='Flyleaf', count=4),\n",
       " Row(artist='Avantasia', count=4),\n",
       " Row(artist='Young Money', count=4),\n",
       " Row(artist='Fabolous', count=4),\n",
       " Row(artist='Selena Gomez & The Scene', count=4),\n",
       " Row(artist='Tiny Vipers', count=4),\n",
       " Row(artist='Public Image Ltd', count=4),\n",
       " Row(artist='Superchick', count=4),\n",
       " Row(artist='The Roots', count=4),\n",
       " Row(artist='Dido', count=4),\n",
       " Row(artist='Camila', count=4),\n",
       " Row(artist='Joe Nichols', count=4),\n",
       " Row(artist='Nick Drake', count=4),\n",
       " Row(artist='Flogging Molly', count=4),\n",
       " Row(artist='Yael NaÃ\\x83Â¯m', count=4),\n",
       " Row(artist='Midlake', count=4),\n",
       " Row(artist='KT Tunstall', count=4),\n",
       " Row(artist='Rufus Wainwright', count=4),\n",
       " Row(artist='Dispatch', count=4),\n",
       " Row(artist='Suzi Quatro', count=4),\n",
       " Row(artist='The Who', count=4),\n",
       " Row(artist='Marvin Gaye', count=4),\n",
       " Row(artist='The Gerbils', count=4),\n",
       " Row(artist='Sick Puppies', count=4),\n",
       " Row(artist='The Cool Kids', count=4),\n",
       " Row(artist='DeGarmo & Key', count=4),\n",
       " Row(artist='Janet Jackson', count=4),\n",
       " Row(artist='Maelo Ruiz', count=4),\n",
       " Row(artist='La Rue KÃ\\x83Â©tanou', count=4),\n",
       " Row(artist='The Weepies', count=4),\n",
       " Row(artist='DJ Shadow', count=4),\n",
       " Row(artist='Jonathan Coulton', count=4),\n",
       " Row(artist='Neko Case', count=4),\n",
       " Row(artist='Parachute', count=4),\n",
       " Row(artist='Hannah Montana', count=4),\n",
       " Row(artist='Rancid', count=4),\n",
       " Row(artist='Shania Twain', count=4),\n",
       " Row(artist='The Lonely Island / T-Pain', count=4),\n",
       " Row(artist='Les MisÃ\\x83Â©rables - 10th Anniversary Concert', count=4),\n",
       " Row(artist='TiÃ\\x83Â«sto', count=4),\n",
       " Row(artist='Billy Bragg', count=4),\n",
       " Row(artist='Bebel Gilberto', count=4),\n",
       " Row(artist='KMC Feat. Dhany', count=4),\n",
       " Row(artist='Neil Young', count=4),\n",
       " Row(artist='A Perfect Circle', count=4),\n",
       " Row(artist='Il Divo', count=4),\n",
       " Row(artist='Lindisfarne', count=4),\n",
       " Row(artist='The Misfits', count=4),\n",
       " Row(artist='RÃ\\x83Â¶yksopp', count=4),\n",
       " Row(artist='Chris Brown', count=4),\n",
       " Row(artist='Puff Daddy', count=4),\n",
       " Row(artist='Boston', count=4),\n",
       " Row(artist='UB40', count=4),\n",
       " Row(artist='The Game', count=4),\n",
       " Row(artist='Dashboard Confessional', count=3),\n",
       " Row(artist='Jarabe De Palo', count=3),\n",
       " Row(artist='Kate Nash', count=3),\n",
       " Row(artist='Gibonni', count=3),\n",
       " Row(artist='Biffy Clyro', count=3),\n",
       " Row(artist='Garbage', count=3),\n",
       " Row(artist='Ska-P', count=3),\n",
       " Row(artist='Peaches', count=3),\n",
       " Row(artist='Steve Green', count=3),\n",
       " Row(artist='Fischer-Z', count=3),\n",
       " Row(artist='Kajagoogoo', count=3),\n",
       " Row(artist='Steppenwolf', count=3),\n",
       " Row(artist='P. Diddy', count=3),\n",
       " Row(artist='ManÃ\\x83Â¡', count=3),\n",
       " Row(artist='Bat For Lashes', count=3),\n",
       " Row(artist='Stryper', count=3),\n",
       " Row(artist='Bodyrox', count=3),\n",
       " Row(artist='Luke Bryan', count=3),\n",
       " Row(artist='Incubus', count=3),\n",
       " Row(artist='The Knife', count=3),\n",
       " Row(artist='Kaskade', count=3),\n",
       " Row(artist='Despina Vandi', count=3),\n",
       " Row(artist='C.V. JÃ\\x83Â¸rgensen', count=3),\n",
       " Row(artist='Flying Lotus', count=3),\n",
       " Row(artist='Matthew Dear', count=3),\n",
       " Row(artist='Beats Antique', count=3),\n",
       " Row(artist='Wolfmother', count=3),\n",
       " Row(artist='Between The Buried And Me', count=3),\n",
       " Row(artist='Uncle Kracker', count=3),\n",
       " Row(artist='Groove Armada', count=3),\n",
       " Row(artist='Extreme', count=3),\n",
       " Row(artist='Something Corporate', count=3),\n",
       " Row(artist='New Found Glory', count=3),\n",
       " Row(artist='David Guetta - Joachim Garraud - Chris Willis', count=3),\n",
       " Row(artist='BeyoncÃ\\x83Â© feat. Jay-Z', count=3),\n",
       " Row(artist='Demi Lovato', count=3),\n",
       " Row(artist='The Doobie Brothers', count=3),\n",
       " Row(artist='Enur', count=3),\n",
       " Row(artist='Thelonious Monk', count=3),\n",
       " Row(artist='Homesick James', count=3),\n",
       " Row(artist='Blindside', count=3),\n",
       " Row(artist='Philmont', count=3),\n",
       " Row(artist='Flight Of The Conchords', count=3),\n",
       " Row(artist='Ferry Corsten', count=3),\n",
       " Row(artist='Alejandro Fernandez', count=3),\n",
       " Row(artist='Ramones', count=3),\n",
       " Row(artist='Seeed', count=3),\n",
       " Row(artist='Parkway Drive', count=3),\n",
       " Row(artist='Julia Fordham', count=3),\n",
       " Row(artist='Asking Alexandria', count=3),\n",
       " Row(artist='Creed', count=3),\n",
       " Row(artist='Fountains Of Wayne', count=3),\n",
       " Row(artist='The Corrs', count=3),\n",
       " Row(artist='The Rocket Summer', count=3),\n",
       " Row(artist='Jimi Hendrix', count=3),\n",
       " Row(artist='Simon & Garfunkel', count=3),\n",
       " Row(artist='John Cale', count=3),\n",
       " Row(artist='Chris Cornell', count=3),\n",
       " Row(artist='Laura Marling', count=3),\n",
       " Row(artist='Old Crow Medicine Show', count=3),\n",
       " Row(artist='Marcy Playground', count=3),\n",
       " Row(artist='Faithless', count=3),\n",
       " Row(artist='Colossal', count=3),\n",
       " Row(artist='The Presidents of the United States of America', count=3),\n",
       " Row(artist='Edwyn Collins', count=3),\n",
       " Row(artist='Ryan Bingham', count=3),\n",
       " Row(artist='Nando Reis', count=3),\n",
       " Row(artist='M Ward', count=3),\n",
       " Row(artist='Opeth', count=3),\n",
       " Row(artist='Kate Ryan', count=3),\n",
       " Row(artist='Lupe Fiasco', count=3),\n",
       " Row(artist='Glen Hansard & Marketa Irglova', count=3),\n",
       " Row(artist='Kate Bush', count=3),\n",
       " Row(artist='Harry Chapin', count=3),\n",
       " Row(artist='Fanfarlo', count=3),\n",
       " Row(artist='Redman', count=3),\n",
       " Row(artist='The Radio Dept.', count=3),\n",
       " Row(artist='Sean Paul', count=3),\n",
       " Row(artist='Triple Six Mafia', count=3),\n",
       " Row(artist='Lionel Richie', count=3),\n",
       " Row(artist='Bag Raiders', count=3),\n",
       " Row(artist='Puddle Of Mudd', count=3),\n",
       " Row(artist='Aphex Twin', count=3),\n",
       " Row(artist='Say Anything', count=3),\n",
       " Row(artist='Los Rodriguez', count=3),\n",
       " Row(artist='Lagwagon', count=3),\n",
       " Row(artist='Imogen Heap', count=3),\n",
       " Row(artist='Young Bleed', count=3),\n",
       " Row(artist='Jake Hess', count=3),\n",
       " Row(artist='Everything But The Girl', count=3),\n",
       " Row(artist='Natalie Imbruglia', count=3),\n",
       " Row(artist='The Devil Wears Prada', count=3),\n",
       " Row(artist='Jedi Mind Tricks', count=3),\n",
       " Row(artist='Erin Bode', count=3),\n",
       " Row(artist='Robert Palmer', count=3),\n",
       " Row(artist='The Rascals', count=3),\n",
       " Row(artist='Fleetwood Mac', count=3),\n",
       " Row(artist='Maighread Ni Dhomhnaill', count=3),\n",
       " Row(artist=\"Usher Featuring Lil' Jon & Ludacris\", count=3),\n",
       " Row(artist='Dot Allison', count=3),\n",
       " Row(artist='Roadrunner United', count=3),\n",
       " Row(artist='Breaking Benjamin', count=3),\n",
       " Row(artist='OutKast', count=3),\n",
       " Row(artist='Alexisonfire', count=3),\n",
       " Row(artist='Bram Vermeulen', count=3),\n",
       " Row(artist='David Bowie', count=3),\n",
       " Row(artist='Abba', count=3),\n",
       " Row(artist='Foals', count=3),\n",
       " Row(artist='Binary Star', count=3),\n",
       " Row(artist='Tracy Chapman', count=3),\n",
       " Row(artist='Van Hunt', count=3),\n",
       " Row(artist='Black Label Society', count=3),\n",
       " Row(artist='Billy Currington', count=3),\n",
       " Row(artist='N.W.A.', count=3),\n",
       " Row(artist='A Tribe Called Quest', count=3),\n",
       " Row(artist='Dash Berlin', count=3),\n",
       " Row(artist='Lykke Li', count=3),\n",
       " Row(artist='Imelda May', count=3),\n",
       " Row(artist='HAMMERFALL', count=3),\n",
       " Row(artist='Atlas Sound', count=3),\n",
       " Row(artist=\"Caribou (formerly Dan Snaith's Manitoba)\", count=3),\n",
       " Row(artist='iio', count=3),\n",
       " Row(artist='Tricky', count=3),\n",
       " Row(artist='Four Tops', count=3),\n",
       " Row(artist='Amy MacDonald', count=3),\n",
       " Row(artist='Armin van Buuren', count=3),\n",
       " Row(artist='Violeta Parra', count=3),\n",
       " Row(artist='As I Lay Dying', count=3),\n",
       " Row(artist='Pet Shop Boys', count=3),\n",
       " Row(artist='Traveling Wilburys', count=3),\n",
       " Row(artist='Viki Mosholiou', count=3),\n",
       " Row(artist='Shadows Fall', count=3),\n",
       " Row(artist='Dragonforce', count=3),\n",
       " Row(artist='Horse Feathers', count=3),\n",
       " Row(artist='Juanes / Nelly Furtado', count=3),\n",
       " Row(artist='Tenacious D', count=3),\n",
       " Row(artist='Tavares', count=3),\n",
       " Row(artist='Bob Dylan', count=3),\n",
       " Row(artist='Brooks & Dunn', count=3),\n",
       " Row(artist='Phosphorescent', count=3),\n",
       " Row(artist='Mystikal', count=3),\n",
       " Row(artist='Brad Paisley', count=3),\n",
       " Row(artist='Sondre Lerche', count=3),\n",
       " Row(artist='Rhonda Vincent', count=3),\n",
       " Row(artist='Fear Factory', count=3),\n",
       " Row(artist='Dixie Chicks', count=3),\n",
       " Row(artist='R.E.M.', count=3),\n",
       " Row(artist='Third Eye Blind', count=3),\n",
       " Row(artist='Ice Cube', count=3),\n",
       " Row(artist='Flo Rida', count=3),\n",
       " Row(artist='Kevin Blechdom', count=3),\n",
       " Row(artist='Fort Minor', count=3),\n",
       " Row(artist='Shpongle', count=3),\n",
       " Row(artist=\"Dexy's Midnight Runners\", count=3),\n",
       " Row(artist=\"Pandora's Box\", count=3),\n",
       " Row(artist='White Lion', count=3),\n",
       " Row(artist='Blur', count=3),\n",
       " Row(artist='Charly GarcÃ\\x83Â\\xada', count=3),\n",
       " Row(artist='Sugar Ray', count=3),\n",
       " Row(artist='Soul II Soul', count=3),\n",
       " Row(artist='Mando Diao', count=3),\n",
       " Row(artist='Gang Of Four', count=3),\n",
       " Row(artist='Karen O And The Kids', count=3),\n",
       " Row(artist='The Cinematic Orchestra', count=3),\n",
       " Row(artist='Nikolaj NÃ\\x83Â¸rlund', count=3),\n",
       " Row(artist='Daniel Bedingfield', count=3),\n",
       " Row(artist='Daddy Yankee', count=3),\n",
       " Row(artist='Sonny Rollins', count=3),\n",
       " Row(artist='Rick Astley', count=3),\n",
       " Row(artist='Kid Cudi / Kanye West / Common', count=3),\n",
       " Row(artist='Stacie Orrico', count=3),\n",
       " Row(artist='Soda Stereo', count=3),\n",
       " Row(artist='Jacky Terrasson', count=3),\n",
       " Row(artist=\"Lady GaGa / Colby O'Donis\", count=3),\n",
       " Row(artist='Killswitch Engage', count=3),\n",
       " Row(artist='Babasonicos', count=3),\n",
       " Row(artist='Cliff Richard & The Shadows', count=3),\n",
       " Row(artist='Bowerbirds', count=3),\n",
       " Row(artist='Dead Kennedys', count=3),\n",
       " Row(artist='Iam', count=3),\n",
       " Row(artist='James Blunt', count=3),\n",
       " Row(artist='Kanye West / T-Pain', count=3),\n",
       " Row(artist='Carlos Baute', count=3),\n",
       " Row(artist='D-12', count=3),\n",
       " Row(artist='Goldfrapp', count=3),\n",
       " Row(artist='Billy Talent', count=3),\n",
       " Row(artist='Gogol Bordello', count=3),\n",
       " Row(artist='House Of Pain', count=3),\n",
       " Row(artist='Beck', count=3),\n",
       " Row(artist='Restiform Bodies', count=3),\n",
       " Row(artist='Against Me!', count=3),\n",
       " Row(artist='John Legend', count=3),\n",
       " Row(artist='The Darkness', count=3),\n",
       " Row(artist='Primal Scream', count=3),\n",
       " Row(artist='Nacho Cano', count=3),\n",
       " Row(artist='Aaliyah', count=3),\n",
       " Row(artist='Brooke Fraser', count=3),\n",
       " Row(artist='Stephen Lynch', count=3),\n",
       " Row(artist='Wir Sind Helden', count=3),\n",
       " Row(artist='Ivete Sangalo', count=3),\n",
       " Row(artist='Breathe Carolina', count=3),\n",
       " Row(artist='Clan Of Xymox', count=3),\n",
       " Row(artist='Riverside', count=3),\n",
       " Row(artist='Blue Foundation', count=3),\n",
       " Row(artist='Medeski_ Martin & Wood', count=3),\n",
       " Row(artist='Theory Of A Deadman', count=3),\n",
       " Row(artist='Intocable', count=3),\n",
       " Row(artist='Tarkan', count=3),\n",
       " Row(artist='Luis Alberto Spinetta', count=3),\n",
       " Row(artist='Anti-Flag', count=3),\n",
       " Row(artist='Macaco', count=3),\n",
       " Row(artist='You Me At Six', count=3),\n",
       " Row(artist='Red', count=3),\n",
       " Row(artist='The Red Jumpsuit Apparatus', count=3),\n",
       " Row(artist='Ten Years After', count=3),\n",
       " Row(artist='Sufjan Stevens', count=3),\n",
       " Row(artist='LegiÃ\\x83Â£o Urbana', count=3),\n",
       " Row(artist='Timbaland & Magoo', count=3),\n",
       " Row(artist='Soft', count=3),\n",
       " Row(artist='Pork Dukes', count=3),\n",
       " Row(artist='The Libertines', count=3),\n",
       " Row(artist='Keith Sweat Featuring Athena Cage', count=3),\n",
       " Row(artist='Easton Corbin', count=3),\n",
       " Row(artist='Harvey Danger', count=3),\n",
       " Row(artist='The Distillers', count=3),\n",
       " Row(artist='Sub Focus', count=3),\n",
       " Row(artist='The Blues Brothers', count=3),\n",
       " Row(artist='Slightly Stoopid', count=3),\n",
       " Row(artist='Eric Prydz', count=3),\n",
       " Row(artist='Mike Jones', count=3),\n",
       " Row(artist='Emiliana Torrini', count=3),\n",
       " Row(artist='Brand New', count=3),\n",
       " Row(artist='Bullet For My Valentine', count=3),\n",
       " Row(artist='The Ark', count=3),\n",
       " Row(artist='Spoon', count=3),\n",
       " Row(artist='In Flames', count=3),\n",
       " Row(artist='The Crystal Method', count=3),\n",
       " Row(artist='Steel Pulse', count=3),\n",
       " Row(artist='Hot Hot Heat', count=3),\n",
       " Row(artist='Brooklyn Bounce', count=3),\n",
       " Row(artist='Antony & The Johnsons', count=3),\n",
       " Row(artist='Asia 2001', count=3),\n",
       " Row(artist='Deerhunter', count=3),\n",
       " Row(artist='Tunng', count=3),\n",
       " Row(artist='Phil Wickham', count=3),\n",
       " Row(artist='311', count=3),\n",
       " Row(artist='Operation Ivy', count=3),\n",
       " Row(artist='Haloo Helsinki!', count=3),\n",
       " Row(artist='MÃ\\x83Â¶tley CrÃ\\x83Â¼e', count=3),\n",
       " Row(artist='HÃ\\x83Â©roes del Silencio', count=3),\n",
       " Row(artist='Delorean', count=3),\n",
       " Row(artist='Jonas Brothers', count=3),\n",
       " Row(artist='Tim Wilson', count=3),\n",
       " Row(artist='Amanda Perez', count=3),\n",
       " Row(artist='The Format', count=3),\n",
       " Row(artist='The Airborne Toxic Event', count=3),\n",
       " Row(artist='August Burns Red', count=3),\n",
       " Row(artist='Skunk Anansie', count=2),\n",
       " Row(artist='Barry White', count=2),\n",
       " Row(artist='The Cranberries', count=2),\n",
       " Row(artist='The Spill Canvas', count=2),\n",
       " Row(artist='Josh Rouse', count=2),\n",
       " Row(artist='The Jets', count=2),\n",
       " Row(artist='12 Stones', count=2),\n",
       " Row(artist='Silverchair', count=2),\n",
       " Row(artist='Robin Thicke', count=2),\n",
       " Row(artist='Black Light Burns', count=2),\n",
       " Row(artist='Leonard Cohen', count=2),\n",
       " Row(artist='Lil Wayne / Kevin Rudolf', count=2),\n",
       " Row(artist='Aqua', count=2),\n",
       " Row(artist='Forever The Sickest Kids', count=2),\n",
       " Row(artist='Bob Marley', count=2),\n",
       " Row(artist='Far Corner', count=2),\n",
       " Row(artist='The Velvet Underground / Nico', count=2),\n",
       " Row(artist='Switchblade Symphony', count=2),\n",
       " Row(artist='The Undertones', count=2),\n",
       " Row(artist='Busdriver', count=2),\n",
       " Row(artist='Los Pericos', count=2),\n",
       " Row(artist='Santigold', count=2),\n",
       " Row(artist='The Ordinary Boys', count=2),\n",
       " Row(artist='Chet Baker', count=2),\n",
       " Row(artist='MotÃ\\x83Â¶rhead', count=2),\n",
       " Row(artist='STEVE CAMP', count=2),\n",
       " Row(artist='The Grass Roots', count=2),\n",
       " Row(artist='Bayside', count=2),\n",
       " Row(artist='Raheem Devaughn', count=2),\n",
       " Row(artist='Motion City Soundtrack', count=2),\n",
       " Row(artist='A Taste Of Honey', count=2),\n",
       " Row(artist='Jonny L', count=2),\n",
       " Row(artist='La UniÃ\\x83Â³n', count=2),\n",
       " Row(artist='Charly Garcia', count=2),\n",
       " Row(artist='Relient K', count=2),\n",
       " Row(artist='Del The Funky Homosapien', count=2),\n",
       " Row(artist='Tokyo Police Club', count=2),\n",
       " Row(artist='Caifanes', count=2),\n",
       " Row(artist='tobyMac', count=2),\n",
       " Row(artist='Charlie Louvin', count=2),\n",
       " Row(artist='Slayer', count=2),\n",
       " Row(artist='Leggo Beast', count=2),\n",
       " Row(artist='Armored Saint', count=2),\n",
       " Row(artist='Stephane Pompougnac', count=2),\n",
       " Row(artist='Atreyu', count=2),\n",
       " Row(artist='Ry Cooder', count=2),\n",
       " Row(artist='Ron Van Den Beuken', count=2),\n",
       " Row(artist='Nightwish', count=2),\n",
       " Row(artist='John Scofield', count=2),\n",
       " Row(artist='Nouvelle Vague feat. Martin Gore', count=2),\n",
       " Row(artist='Marina And The Diamonds', count=2),\n",
       " Row(artist='Leona Naess', count=2),\n",
       " Row(artist='Carolina Liar', count=2),\n",
       " Row(artist='Cherokee', count=2),\n",
       " Row(artist='Crosby_ Stills_ Nash & Young', count=2),\n",
       " Row(artist='Miami Horror', count=2),\n",
       " Row(artist='Vox Dei', count=2),\n",
       " Row(artist='Christy Nockels', count=2),\n",
       " Row(artist='Gaelic Storm', count=2),\n",
       " Row(artist='Jadakiss / Swizz Beatz / OJ Da Juiceman', count=2),\n",
       " Row(artist='New Boyz', count=2),\n",
       " Row(artist='Another Sunny Day', count=2),\n",
       " Row(artist='The Animals', count=2),\n",
       " Row(artist='Platero Y Tu', count=2),\n",
       " Row(artist='Strawbs', count=2),\n",
       " Row(artist='Bobby Brown', count=2),\n",
       " Row(artist='Fernando Delgadillo', count=2),\n",
       " Row(artist='Sondaschule', count=2),\n",
       " Row(artist='Symphony X', count=2),\n",
       " Row(artist='Deana Carter', count=2),\n",
       " Row(artist='M.I.A.', count=2),\n",
       " Row(artist='Common', count=2),\n",
       " Row(artist='Marc Anthony', count=2),\n",
       " Row(artist='Deborah Harry & Iggy Pop', count=2),\n",
       " Row(artist='The Mad Capsule Markets', count=2),\n",
       " Row(artist='Once Tiros', count=2),\n",
       " Row(artist='Martina McBride', count=2),\n",
       " Row(artist='Flaco Jimenez', count=2),\n",
       " Row(artist='Air France', count=2),\n",
       " Row(artist='Shelby Lynne', count=2),\n",
       " Row(artist='La Renga', count=2),\n",
       " Row(artist='Bezerra Da Silva', count=2),\n",
       " Row(artist='Reality Check', count=2),\n",
       " Row(artist='You Love Her Coz Shes Dead', count=2),\n",
       " Row(artist='Jon & Vangelis', count=2),\n",
       " Row(artist='Hamilton_ Joe Frank & Reynolds', count=2),\n",
       " Row(artist='Banda PequeÃ\\x83Â±os Musical', count=2),\n",
       " Row(artist='Alan Jackson', count=2),\n",
       " Row(artist='Elton John / Kiki Dee', count=2),\n",
       " Row(artist='Lene Marlin', count=2),\n",
       " Row(artist='Gripin', count=2),\n",
       " Row(artist='The Beatnuts', count=2),\n",
       " Row(artist='Sun Kil Moon', count=2),\n",
       " Row(artist='Don McLean', count=2),\n",
       " Row(artist='Nelly', count=2),\n",
       " Row(artist='Maldita Nerea', count=2),\n",
       " Row(artist='Ying Yang Twins ft. Pitbull', count=2),\n",
       " Row(artist='Stray Cats', count=2),\n",
       " Row(artist='Carnal Forge', count=2),\n",
       " Row(artist='Bacilos', count=2),\n",
       " Row(artist='Wild Nothing', count=2),\n",
       " Row(artist='Bohren & Der Club Of Gore', count=2),\n",
       " Row(artist='Paulina Rubio', count=2),\n",
       " Row(artist='Gustavo Santaolalla', count=2),\n",
       " Row(artist='Jesper Kyd', count=2),\n",
       " Row(artist='Waldeck', count=2),\n",
       " Row(artist='Ginuwine', count=2),\n",
       " Row(artist='Layo & Bushwacka', count=2),\n",
       " Row(artist='Alela Diane', count=2),\n",
       " Row(artist='Nevermore', count=2),\n",
       " Row(artist='Scarlett Johansson', count=2),\n",
       " Row(artist='Marty Stuart', count=2),\n",
       " Row(artist='Edgar Oceransky', count=2),\n",
       " Row(artist='Hawk Nelson', count=2),\n",
       " Row(artist='The Bloody Beetroots', count=2),\n",
       " Row(artist='Gyroscope', count=2),\n",
       " Row(artist='Slim Dusty', count=2),\n",
       " Row(artist='Cyndi Lauper', count=2),\n",
       " Row(artist='R. Kelly', count=2),\n",
       " Row(artist='Richard Grey', count=2),\n",
       " Row(artist='Clarika', count=2),\n",
       " Row(artist='Halestorm', count=2),\n",
       " Row(artist='Crystal', count=2),\n",
       " Row(artist='Tanya Tucker', count=2),\n",
       " Row(artist='Film School', count=2),\n",
       " Row(artist='Ultra Vivid Scene', count=2),\n",
       " Row(artist='Kenny Wayne Shepherd Band', count=2),\n",
       " Row(artist='Mudcrutch', count=2),\n",
       " Row(artist='Kenny Wayne Shepherd', count=2),\n",
       " Row(artist='Weird Al Yankovic', count=2),\n",
       " Row(artist='Black Sabbath', count=2),\n",
       " Row(artist='Sugar Ray feat. Super Cat', count=2),\n",
       " Row(artist='HYPOCRISY', count=2),\n",
       " Row(artist='Me First And The Gimme Gimmes', count=2),\n",
       " Row(artist='Chesney Hawkes', count=2),\n",
       " Row(artist='Extrawelt', count=2),\n",
       " Row(artist='Datarock', count=2),\n",
       " Row(artist='Viola', count=2),\n",
       " Row(artist='Noir DÃ\\x83Â©sir', count=2),\n",
       " Row(artist='Paul Cardall', count=2),\n",
       " Row(artist='The Last Shadow Puppets', count=2),\n",
       " Row(artist='Gian Marco', count=2),\n",
       " Row(artist='LL Cool J', count=2),\n",
       " Row(artist='Casting Crowns', count=2),\n",
       " Row(artist='Brad Mehldau', count=2),\n",
       " Row(artist='Dr. Dre / Snoop Dogg', count=2),\n",
       " Row(artist=\"P. Diddy feat. The Notorious B.I.G._ The Lox_ Lil' Kim\", count=2),\n",
       " Row(artist='A-Ha', count=2),\n",
       " Row(artist='Robert Johnson', count=2),\n",
       " Row(artist='Ben Folds', count=2),\n",
       " Row(artist='Sheila Walsh', count=2),\n",
       " Row(artist='Osker', count=2),\n",
       " Row(artist='Black Sheep', count=2),\n",
       " Row(artist='Erykah Badu', count=2),\n",
       " Row(artist='Fergie', count=2),\n",
       " Row(artist='Ska Cubano', count=2),\n",
       " Row(artist='Michael Learns To Rock', count=2),\n",
       " Row(artist='Rhymefest featuring Citizen Cope', count=2),\n",
       " Row(artist='Discovery', count=2),\n",
       " Row(artist='Toots & The Maytals', count=2),\n",
       " Row(artist='No Te Va Gustar', count=2),\n",
       " Row(artist='The Most Serene Republic', count=2),\n",
       " Row(artist='Gang Starr/Inspectah Deck', count=2),\n",
       " Row(artist='Good Riddance', count=2),\n",
       " Row(artist='Andrew Lloyd Webber', count=2),\n",
       " Row(artist='Sisters Of Mercy', count=2),\n",
       " Row(artist='Lauryn Hill', count=2),\n",
       " Row(artist='Rebelution', count=2),\n",
       " Row(artist='Jennifer Lopez', count=2),\n",
       " Row(artist='Big & Rich', count=2),\n",
       " Row(artist='N.W.A ft. Eazy-E', count=2),\n",
       " Row(artist='From First to Last', count=2),\n",
       " Row(artist='Ratt', count=2),\n",
       " Row(artist=\"Diam's\", count=2),\n",
       " Row(artist='Alberto Plaza', count=2),\n",
       " Row(artist='Ryan Adams & The Cardinals', count=2),\n",
       " Row(artist='Twista', count=2),\n",
       " Row(artist='The Donnas', count=2),\n",
       " Row(artist='Keith Sweat', count=2),\n",
       " Row(artist='Peter Cetera', count=2),\n",
       " Row(artist='Queen Latifah', count=2),\n",
       " Row(artist='BjÃ\\x83Â¶rn Afzelius', count=2),\n",
       " Row(artist='The Church', count=2),\n",
       " Row(artist='Trivium', count=2),\n",
       " Row(artist='Alex Ubago', count=2),\n",
       " Row(artist='JoJo', count=2),\n",
       " Row(artist='Edith MÃ\\x83Â¡rquez', count=2),\n",
       " Row(artist='Maria GadÃ\\x83Âº', count=2),\n",
       " Row(artist='Clint Mansell', count=2),\n",
       " Row(artist='Hinder', count=2),\n",
       " Row(artist='Afrika Bambaataa & The Soul Sonic Force', count=2),\n",
       " Row(artist='Strapping Young Lad', count=2),\n",
       " Row(artist='Joe Veras', count=2),\n",
       " Row(artist='The Last Goodnight', count=2),\n",
       " Row(artist='Blackstreet', count=2),\n",
       " Row(artist='Tears For Fears', count=2),\n",
       " Row(artist='Fila Brazillia', count=2),\n",
       " Row(artist='Dangerdoom', count=2),\n",
       " Row(artist='Bleeding Through', count=2),\n",
       " Row(artist='Alesana', count=2),\n",
       " Row(artist='Azure Ray', count=2),\n",
       " Row(artist='Basement Jaxx', count=2),\n",
       " Row(artist='Grinderman', count=2),\n",
       " Row(artist='Milczenie Owiec', count=2),\n",
       " Row(artist='Melendi', count=2),\n",
       " Row(artist=\"O'Rosko Raricim\", count=2),\n",
       " Row(artist='R.I.O.', count=2),\n",
       " Row(artist='Mastodon', count=2),\n",
       " Row(artist='Brett Dennen', count=2),\n",
       " Row(artist='Squeeze', count=2),\n",
       " Row(artist='Hieroglyphics', count=2),\n",
       " Row(artist='Jamie Cullum', count=2),\n",
       " Row(artist='Blind Guardian', count=2),\n",
       " Row(artist='Justin Bieber / Usher', count=2),\n",
       " Row(artist='Chalino Sanchez', count=2),\n",
       " Row(artist='Children Of Bodom', count=2),\n",
       " Row(artist='Collective Soul', count=2),\n",
       " Row(artist='Carolina Chocolate Drops', count=2),\n",
       " Row(artist='Mind.In.A.Box', count=2),\n",
       " Row(artist='Modjo', count=2),\n",
       " Row(artist='SAMULI PUTRO', count=2),\n",
       " Row(artist='Prince & The Revolution', count=2),\n",
       " Row(artist='Sam Sparro', count=2),\n",
       " Row(artist='Charlotte Gainsbourg', count=2),\n",
       " Row(artist='Chicago', count=2),\n",
       " Row(artist='Pulp', count=2),\n",
       " Row(artist='Imagination', count=2),\n",
       " Row(artist='Christina Milian', count=2),\n",
       " Row(artist='April Wine', count=2),\n",
       " Row(artist='Polly Paulusma', count=2),\n",
       " Row(artist='Sidewinder', count=2),\n",
       " Row(artist='Scott Walker', count=2),\n",
       " Row(artist='Basshunter Feat. DJ Mental Theo\\x19s Bazzheadz', count=2),\n",
       " Row(artist='R.L. Burnside', count=2),\n",
       " Row(artist='Young Jeezy', count=2),\n",
       " Row(artist='Victor Manuelle', count=2),\n",
       " Row(artist='The Almost', count=2),\n",
       " Row(artist='Julieta Venegas', count=2),\n",
       " Row(artist='DecembeRadio', count=2),\n",
       " Row(artist='Animals As Leaders', count=2),\n",
       " Row(artist='Thomas Newman', count=2),\n",
       " Row(artist='Ennio Morricone', count=2),\n",
       " Row(artist='The George Shearing Quintet with Nancy Wilson', count=2),\n",
       " Row(artist='Black Kids', count=2),\n",
       " Row(artist='Circle Jerks', count=2),\n",
       " Row(artist='Vince Gill', count=2),\n",
       " Row(artist='Bob Newhart', count=2),\n",
       " Row(artist='Moloko', count=2),\n",
       " Row(artist='50 Cent', count=2),\n",
       " Row(artist='Santana', count=2),\n",
       " Row(artist='Sean Kingston', count=2),\n",
       " Row(artist='Madder Mortem', count=2),\n",
       " Row(artist='JoÃ\\x83Â£o Gilberto', count=2),\n",
       " Row(artist='Monsters Of Folk', count=2),\n",
       " Row(artist='Starfield', count=2),\n",
       " Row(artist='BoDeans', count=2),\n",
       " Row(artist='Conjure One', count=2),\n",
       " Row(artist='Mediaeval Baebes', count=2),\n",
       " Row(artist='Devin Townsend', count=2),\n",
       " ...]"
      ]
     },
     "execution_count": 38,
     "metadata": {},
     "output_type": "execute_result"
    }
   ],
   "source": [
    "user_log_a.groupby('artist').count().alias('sum').orderBy(desc('count')).collect()"
   ]
  },
  {
   "cell_type": "code",
   "execution_count": 48,
   "metadata": {},
   "outputs": [
    {
     "name": "stdout",
     "output_type": "stream",
     "text": [
      "+---------+-------------+--------+\n",
      "|sessionId|itemInSession|    page|\n",
      "+---------+-------------+--------+\n",
      "|        9|            0|NextSong|\n",
      "|       10|            0|    Home|\n",
      "|       10|            1|NextSong|\n",
      "|       10|            2|NextSong|\n",
      "|       27|            0|    Home|\n",
      "|       27|            1|NextSong|\n",
      "|       27|            2|NextSong|\n",
      "|       27|            3|NextSong|\n",
      "|       27|            4|NextSong|\n",
      "|       27|            5|NextSong|\n",
      "|       27|            6|NextSong|\n",
      "|       27|            7|NextSong|\n",
      "|       27|            8|NextSong|\n",
      "|       27|            9|NextSong|\n",
      "|       27|           10|NextSong|\n",
      "|       27|           11|    Home|\n",
      "|       27|           12|NextSong|\n",
      "|       27|           13|NextSong|\n",
      "|       27|           14|NextSong|\n",
      "|       27|           15|NextSong|\n",
      "+---------+-------------+--------+\n",
      "only showing top 20 rows\n",
      "\n"
     ]
    }
   ],
   "source": [
    "user_log_a.sort(['sessionId','itemInSession']).select(['sessionId','itemInSession','page']).show()\n",
    "udf_home = udf(lambda x : 1 if x == 'Home' else 0,IntegerType())\n",
    "user_log_a = user_log_a.withColumn('home_check',)"
   ]
  },
  {
   "cell_type": "code",
   "execution_count": 39,
   "metadata": {},
   "outputs": [
    {
     "data": {
      "text/plain": [
       "964"
      ]
     },
     "execution_count": 39,
     "metadata": {},
     "output_type": "execute_result"
    }
   ],
   "source": [
    "from pyspark.sql.functions import desc\n",
    "path = \"sparkify_log_small.json\"\n",
    "user_log_a = spark.read.json(path)\n",
    "user_log_a = user_log_a.orderBy(user_log_a.userId , user_log_a.ts.cast(\"float\").desc())\n",
    "user_log_a.select('artist').dropDuplicates().collect()\n",
    "user_log_a.select(['artist','userid']).dropDuplicates().orderBy('artist').collect()\n",
    "user_log_a.select(['userid']).dropDuplicates().orderBy('userid').count()"
   ]
  },
  {
   "cell_type": "code",
   "execution_count": 43,
   "metadata": {},
   "outputs": [
    {
     "name": "stdout",
     "output_type": "stream",
     "text": [
      "+------+---------+---------+------+-------------+---------+------+-----+--------------------+------+----+-------------+---------+----+------+-------------+--------------------+------+\n",
      "|artist|     auth|firstName|gender|itemInSession| lastName|length|level|            location|method|page| registration|sessionId|song|status|           ts|           userAgent|userId|\n",
      "+------+---------+---------+------+-------------+---------+------+-----+--------------------+------+----+-------------+---------+----+------+-------------+--------------------+------+\n",
      "|  null|Logged In|   Elijah|     M|            0|    Moore|  null| free|New Orleans-Metai...|   GET|Home|1488073913284|     6316|null|   200|1513839673284|\"Mozilla/5.0 (Win...|   100|\n",
      "|  null|Logged In|   Elijah|     M|            3|    Moore|  null| free|New Orleans-Metai...|   GET|Home|1488073913284|     6040|null|   200|1513776194284|\"Mozilla/5.0 (Win...|   100|\n",
      "|  null|Logged In|   Elijah|     M|            0|    Moore|  null| free|New Orleans-Metai...|   GET|Home|1488073913284|     6040|null|   200|1513775431284|\"Mozilla/5.0 (Win...|   100|\n",
      "|  null|Logged In|  Kendale|     F|            0| Robinson|  null| free|San Diego-Carlsba...|   GET|Home|1500655861284|     1002|null|   200|1513749501284|\"Mozilla/5.0 (Mac...|  1003|\n",
      "|  null|Logged In|  Kendale|     F|            2| Robinson|  null| free|San Diego-Carlsba...|   GET|Home|1500655861284|     1002|null|   200|1513749525284|\"Mozilla/5.0 (Mac...|  1003|\n",
      "|  null|Logged In|   Connor|     M|            1|Gillespie|  null| paid|Santa Cruz-Watson...|   GET|Home|1506639389284|     6536|null|   200|1513802601284|\"Mozilla/5.0 (Win...|  1035|\n",
      "|  null|Logged In|   Connor|     M|            0|Gillespie|  null| paid|Santa Cruz-Watson...|   GET|Home|1506639389284|     6536|null|   200|1513802382284|\"Mozilla/5.0 (Win...|  1035|\n",
      "|  null|Logged In|   Connor|     M|            1|Gillespie|  null| paid|Santa Cruz-Watson...|   GET|Home|1506639389284|     6463|null|   200|1513784410284|\"Mozilla/5.0 (Win...|  1035|\n",
      "|  null|Logged In|   Connor|     M|            0|Gillespie|  null| paid|Santa Cruz-Watson...|   GET|Home|1506639389284|     6463|null|   200|1513784300284|\"Mozilla/5.0 (Win...|  1035|\n",
      "|  null|Logged In|    Diego|     M|            0|   Thomas|  null| paid|       Blackfoot, ID|   GET|Home|1506879344284|     5579|null|   200|1513746328284|\"Mozilla/5.0 (Mac...|  1019|\n",
      "|  null|Logged In|    Diego|     M|            1|   Thomas|  null| paid|       Blackfoot, ID|   GET|Home|1506879344284|     5579|null|   200|1513746335284|\"Mozilla/5.0 (Mac...|  1019|\n",
      "|  null|Logged In|     Kyle|     M|            0|  Johnson|  null| free|       Asheville, NC|   GET|Home|1511238781284|     3931|null|   200|1513741324284|\"Mozilla/5.0 (Mac...|  1020|\n",
      "|  null|Logged In|  Trayton|     M|            0|    Jones|  null| free|          Dayton, OH|   GET|Home|1511701285284|     6014|null|   200|1513788604284|Mozilla/5.0 (Wind...|  1025|\n",
      "|  null|Logged In|   Connor|     M|           26|Gillespie|  null| paid|Santa Cruz-Watson...|   GET|Home|1506639389284|     6856|null|   200|1513818818284|\"Mozilla/5.0 (Win...|  1035|\n",
      "|  null|Logged In| Jamarian|     M|            4|    Moore|  null| free|San Diego-Carlsba...|   GET|Home|1497924129284|     6987|null|   200|1513822400284|Mozilla/5.0 (Wind...|  1017|\n",
      "|  null|Logged In| Jamarian|     M|            0|    Moore|  null| free|San Diego-Carlsba...|   GET|Home|1497924129284|     6987|null|   200|1513820906284|Mozilla/5.0 (Wind...|  1017|\n",
      "|  null|Logged In|    Diego|     M|            0|   Thomas|  null| paid|       Blackfoot, ID|   GET|Home|1506879344284|     6767|null|   200|1513826961284|\"Mozilla/5.0 (Mac...|  1019|\n",
      "|  null|Logged In|    Diego|     M|            1|   Thomas|  null| paid|       Blackfoot, ID|   GET|Home|1506879344284|     6691|null|   200|1513797224284|\"Mozilla/5.0 (Mac...|  1019|\n",
      "|  null|Logged In|    Diego|     M|            0|   Thomas|  null| paid|       Blackfoot, ID|   GET|Home|1506879344284|     6018|null|   200|1513791259284|\"Mozilla/5.0 (Mac...|  1019|\n",
      "|  null|Logged In|  Kenneth|     M|            9| Matthews|  null| paid|Charlotte-Concord...|   GET|Home|1509380319284|     5786|null|   200|1513838155284|\"Mozilla/5.0 (Win...|  1046|\n",
      "+------+---------+---------+------+-------------+---------+------+-----+--------------------+------+----+-------------+---------+----+------+-------------+--------------------+------+\n",
      "only showing top 20 rows\n",
      "\n"
     ]
    }
   ],
   "source": [
    "from pyspark.sql.functions import col\n",
    "user_log_a.filter(user_log_a['page'] == 'Home').where(col('userid')!= \"\").orderBy('artist').show()"
   ]
  },
  {
   "cell_type": "code",
   "execution_count": 44,
   "metadata": {},
   "outputs": [],
   "source": [
    "user_log_a = user_log_a.where(col('userid')!= \"\")"
   ]
  },
  {
   "cell_type": "code",
   "execution_count": 47,
   "metadata": {},
   "outputs": [],
   "source": [
    "user_log_a = user_log_a.orderBy(col('userid'),col('ts').desc())"
   ]
  },
  {
   "cell_type": "code",
   "execution_count": 106,
   "metadata": {},
   "outputs": [
    {
     "name": "stdout",
     "output_type": "stream",
     "text": [
      "+--------------------+---------+---------+------+-------------+---------+---------+-----+--------------------+------+--------+-------------+---------+--------------------+------+-------------+--------------------+------+----+\n",
      "|              artist|     auth|firstName|gender|itemInSession| lastName|   length|level|            location|method|    page| registration|sessionId|                song|status|           ts|           userAgent|userId|hour|\n",
      "+--------------------+---------+---------+------+-------------+---------+---------+-----+--------------------+------+--------+-------------+---------+--------------------+------+-------------+--------------------+------+----+\n",
      "|       Showaddywaddy|Logged In|  Kenneth|     M|          112| Matthews|232.93342| paid|Charlotte-Concord...|   PUT|NextSong|1509380319284|     5132|Christmas Tears W...|   200|1513720872284|\"Mozilla/5.0 (Win...|  1046|  14|\n",
      "|          Lily Allen|Logged In|Elizabeth|     F|            7|    Chase|195.23873| free|Shreveport-Bossie...|   PUT|NextSong|1512718541284|     5027|       Cheryl Tweedy|   200|1513720878284|\"Mozilla/5.0 (Win...|  1000|  14|\n",
      "|Cobra Starship Fe...|Logged In|     Vera|     F|            6|Blackwell|196.20526| paid|          Racine, WI|   PUT|NextSong|1499855749284|     5516|Good Girls Go Bad...|   200|1513720881284|\"Mozilla/5.0 (Mac...|  2219|  14|\n",
      "|          Alex Smoke|Logged In|   Sophee|     F|            8|   Barker|405.99465| paid|San Luis Obispo-P...|   PUT|NextSong|1513009647284|     2372| Don't See The Point|   200|1513720905284|\"Mozilla/5.0 (Win...|  2373|  14|\n",
      "|                null|Logged In|   Jordyn|     F|            0|    Jones|     null| free|        Syracuse, NY|   GET|    Home|1513648531284|     1746|                null|   200|1513720913284|\"Mozilla/5.0 (Mac...|  1747|  14|\n",
      "|                null|Logged In|   Jordyn|     F|            1|    Jones|     null| free|        Syracuse, NY|   GET|Settings|1513648531284|     1746|                null|   200|1513720932284|\"Mozilla/5.0 (Mac...|  1747|  14|\n",
      "|              Redman|Logged In|    Paige|     F|            0|   Hunter|154.53995| free|       Brownwood, TX|   PUT|NextSong|1498414068284|     4406|        Smoke Buddah|   200|1513720955284|\"Mozilla/5.0 (Mac...|  1162|  14|\n",
      "|     Ulrich Schnauss|Logged In|  Gabriel|     M|            2|     Koch|402.93832| paid|     Panama City, FL|   PUT|NextSong|1505820418284|     1060|           On My Own|   200|1513720959284|Mozilla/5.0 (Wind...|  1061|  14|\n",
      "|                null|Logged In|    Mason|     M|            2|   Thomas|     null| paid|Indianapolis-Carm...|   GET|    Home|1487015656284|     5661|                null|   200|1513720959284|Mozilla/5.0 (comp...|   748|  14|\n",
      "|                null|Logged In|Alexander|     M|            0|    Short|     null| free|       Green Bay, WI|   GET|    Home|1513594398284|     3689|                null|   200|1513720980284|\"Mozilla/5.0 (Win...|   597|  14|\n",
      "|               Jay-Z|Logged In|  Micheal|     M|           23|   Morgan|223.26812| paid|        Sterling, CO|   PUT|NextSong|1485051492284|     5175|Heart Of The City...|   200|1513720983284|\"Mozilla/5.0 (Win...|  1806|  14|\n",
      "|         Evanescence|Logged In|    Mason|     M|            3|   Thomas|237.11302| paid|Indianapolis-Carm...|   PUT|NextSong|1487015656284|     5661|    Bring Me To Life|   200|1513720993284|Mozilla/5.0 (comp...|   748|  14|\n",
      "|     Scissor Sisters|Logged In|   Justin|     M|           82|    Jones|218.01751| paid|          Dayton, TN|   PUT|NextSong|1504706730284|     1175|               Laura|   200|1513721031284|\"Mozilla/5.0 (Win...|  1176|  14|\n",
      "|        3 Doors Down|Logged In|     Zoie|     F|           28|   Wright|237.13914| paid|Chicago-Napervill...|   PUT|NextSong|1512172030284|     2163|    Here Without You|   200|1513721045284|\"Mozilla/5.0 (Mac...|  2164|  14|\n",
      "|       George Younce|Logged In|  Malachi|     M|            3|     Lane|191.68608| free|     Sioux Falls, SD|   PUT|NextSong|1510109243284|     5272|This Old House w/...|   200|1513721058284|Mozilla/5.0 (Wind...|  2146|  14|\n",
      "|              Aly-Us|Logged In|     Vera|     F|            7|Blackwell|383.58159| paid|          Racine, WI|   PUT|NextSong|1499855749284|     5516|Follow Me (Club Mix)|   200|1513721077284|\"Mozilla/5.0 (Mac...|  2219|  14|\n",
      "|                null|Logged In|   Justin|     M|           83|    Jones|     null| paid|          Dayton, TN|   GET|    Home|1504706730284|     1175|                null|   200|1513721088284|\"Mozilla/5.0 (Win...|  1176|  14|\n",
      "|            BjÃÂ¶rk|Logged In|    Elena|     F|            0|   Newman|348.57751| free|Boston-Cambridge-...|   PUT|NextSong|1513494341284|     2903|                Undo|   200|1513721095284|Mozilla/5.0 (Wind...|  2904|  14|\n",
      "|      David Bromberg|Logged In|Alexander|     M|            1|    Short|146.36363| free|       Green Bay, WI|   PUT|NextSong|1513594398284|     3689|Sheebeg And Sheemore|   200|1513721097284|\"Mozilla/5.0 (Win...|   597|  14|\n",
      "|          Nickelback|Logged In|  Abigail|     F|            4| Davidson|238.18404| paid|Lansing-East Lans...|   PUT|NextSong|1513173389284|     4591|Far Away (Album V...|   200|1513721104284|\"Mozilla/5.0 (Mac...|   226|  14|\n",
      "+--------------------+---------+---------+------+-------------+---------+---------+-----+--------------------+------+--------+-------------+---------+--------------------+------+-------------+--------------------+------+----+\n",
      "only showing top 20 rows\n",
      "\n"
     ]
    }
   ],
   "source": [
    "from pyspark.sql.functions import udf\n",
    "from pyspark.sql.types import IntegerType\n",
    "import datetime \n",
    "path = \"sparkify_log_small.json\"\n",
    "user_log_a = spark.read.json(path)\n",
    "udf_hour = udf(lambda x : datetime.datetime.fromtimestamp(x/1000).hour, IntegerType())\n",
    "user_log_a = user_log_a.withColumn('hour',udf_hour('ts'))\n",
    "user_log_a.show()"
   ]
  },
  {
   "cell_type": "code",
   "execution_count": 68,
   "metadata": {},
   "outputs": [
    {
     "name": "stdout",
     "output_type": "stream",
     "text": [
      "+------+-----+\n",
      "|userid|count|\n",
      "+------+-----+\n",
      "|   429|    3|\n",
      "|  1165|    3|\n",
      "|  2168|    3|\n",
      "|  1398|    3|\n",
      "|  2412|    3|\n",
      "|   761|    3|\n",
      "|   308|    3|\n",
      "|   926|    3|\n",
      "|   649|    3|\n",
      "|  1854|    3|\n",
      "|  1911|    3|\n",
      "|  2164|    3|\n",
      "|   856|    3|\n",
      "|   644|    3|\n",
      "|  1079|    3|\n",
      "|  2426|    3|\n",
      "|   512|    3|\n",
      "|   100|    3|\n",
      "|  2759|    3|\n",
      "|  1887|    3|\n",
      "+------+-----+\n",
      "only showing top 20 rows\n",
      "\n"
     ]
    }
   ],
   "source": [
    "user_log_a.where(col('page') == 'Home').groupBy('userid').count().orderBy('count').where(col('count') > 2 ).show()"
   ]
  },
  {
   "cell_type": "code",
   "execution_count": 71,
   "metadata": {},
   "outputs": [
    {
     "name": "stdout",
     "output_type": "stream",
     "text": [
      "+--------------------+---------+---------+------+-------------+--------+---------+-----+--------------------+------+---------+-------------+---------+--------------------+------+-------------+--------------------+------+----+\n",
      "|              artist|     auth|firstName|gender|itemInSession|lastName|   length|level|            location|method|     page| registration|sessionId|                song|status|           ts|           userAgent|userId|hour|\n",
      "+--------------------+---------+---------+------+-------------+--------+---------+-----+--------------------+------+---------+-------------+---------+--------------------+------+-------------+--------------------+------+----+\n",
      "|        Donald Fagen|Logged In|    Cesar|     M|            0| Johnson|381.09995| paid|San Antonio-New B...|   PUT| NextSong|1513431505284|     6789|New Frontier (Alb...|   200|1513848289284|\"Mozilla/5.0 (Win...|   429|   1|\n",
      "|                null|Logged In|    Cesar|     M|            0| Johnson|     null| paid|San Antonio-New B...|   GET|     Home|1513431505284|     6043|                null|   200|1513799442284|\"Mozilla/5.0 (Win...|   429|  11|\n",
      "|                null|Logged In|    Cesar|     M|            6| Johnson|     null| paid|San Antonio-New B...|   GET|     Home|1513431505284|     5777|                null|   200|1513750624284|\"Mozilla/5.0 (Win...|   429|  22|\n",
      "|Nick Cave & The B...|Logged In|    Cesar|     M|            5| Johnson|265.27302| paid|San Antonio-New B...|   PUT| NextSong|1513431505284|     5777|               Spell|   200|1513750601284|\"Mozilla/5.0 (Win...|   429|  22|\n",
      "|   Fanfare Ciocarlia|Logged In|    Cesar|     M|            4| Johnson| 256.9922| paid|San Antonio-New B...|   PUT| NextSong|1513431505284|     5777|               Alili|   200|1513750345284|\"Mozilla/5.0 (Win...|   429|  22|\n",
      "|        Taylor Swift|Logged In|    Cesar|     M|            3| Johnson|213.02812| paid|San Antonio-New B...|   PUT| NextSong|1513431505284|     5777|I'm Only Me When ...|   200|1513750132284|\"Mozilla/5.0 (Win...|   429|  22|\n",
      "|                null|Logged In|    Cesar|     M|            2| Johnson|     null| paid|San Antonio-New B...|   GET|Downgrade|1513431505284|     5777|                null|   200|1513750124284|\"Mozilla/5.0 (Win...|   429|  22|\n",
      "|                null|Logged In|    Cesar|     M|            1| Johnson|     null| paid|San Antonio-New B...|   GET|     Home|1513431505284|     5777|                null|   200|1513750118284|\"Mozilla/5.0 (Win...|   429|  22|\n",
      "|                null|Logged In|    Cesar|     M|           25| Johnson|     null| paid|San Antonio-New B...|   PUT|   Logout|1513431505284|      428|                null|   307|1513721267284|\"Mozilla/5.0 (Win...|   429|  14|\n",
      "|         Labi Siffre|Logged In|    Cesar|     M|           24| Johnson|244.81914| paid|San Antonio-New B...|   PUT| NextSong|1513431505284|      428|Entertainment Val...|   200|1513721266284|\"Mozilla/5.0 (Win...|   429|  14|\n",
      "+--------------------+---------+---------+------+-------------+--------+---------+-----+--------------------+------+---------+-------------+---------+--------------------+------+-------------+--------------------+------+----+\n",
      "\n"
     ]
    }
   ],
   "source": [
    "user_log_a.where(col('userid') == '429').show()"
   ]
  },
  {
   "cell_type": "code",
   "execution_count": 13,
   "metadata": {},
   "outputs": [],
   "source": [
    "from pyspark.sql import Window\n",
    "from pyspark.sql.functions import sum as Fsum"
   ]
  },
  {
   "cell_type": "code",
   "execution_count": 112,
   "metadata": {},
   "outputs": [],
   "source": [
    "udf_home = udf(lambda x : 1 if x == 'Home' else 0,IntegerType())"
   ]
  },
  {
   "cell_type": "code",
   "execution_count": 113,
   "metadata": {},
   "outputs": [
    {
     "data": {
      "text/plain": [
       "['artist',\n",
       " 'auth',\n",
       " 'firstName',\n",
       " 'gender',\n",
       " 'itemInSession',\n",
       " 'lastName',\n",
       " 'length',\n",
       " 'level',\n",
       " 'location',\n",
       " 'method',\n",
       " 'page',\n",
       " 'registration',\n",
       " 'sessionId',\n",
       " 'song',\n",
       " 'status',\n",
       " 'ts',\n",
       " 'userAgent',\n",
       " 'userId',\n",
       " 'hour',\n",
       " 'home_page']"
      ]
     },
     "execution_count": 113,
     "metadata": {},
     "output_type": "execute_result"
    }
   ],
   "source": [
    "user_log_a = user_log_a.withColumn(\"home_page\",udf_home(col('page')))\n",
    "user_log_a.columns"
   ]
  },
  {
   "cell_type": "code",
   "execution_count": 114,
   "metadata": {},
   "outputs": [
    {
     "data": {
      "text/plain": [
       "['artist',\n",
       " 'auth',\n",
       " 'firstName',\n",
       " 'gender',\n",
       " 'itemInSession',\n",
       " 'lastName',\n",
       " 'length',\n",
       " 'level',\n",
       " 'location',\n",
       " 'method',\n",
       " 'page',\n",
       " 'registration',\n",
       " 'sessionId',\n",
       " 'song',\n",
       " 'status',\n",
       " 'ts',\n",
       " 'userAgent',\n",
       " 'userId',\n",
       " 'hour',\n",
       " 'home_page']"
      ]
     },
     "execution_count": 114,
     "metadata": {},
     "output_type": "execute_result"
    }
   ],
   "source": [
    "user_log_a.columns"
   ]
  },
  {
   "cell_type": "code",
   "execution_count": 116,
   "metadata": {},
   "outputs": [],
   "source": [
    "user_log_a = user_log_a.select('userId', 'firstName', 'sessionId', 'itemInSession', 'lastName',  'level',   'method', 'page', 'song',  'ts', 'hour', 'home_page')"
   ]
  },
  {
   "cell_type": "code",
   "execution_count": 117,
   "metadata": {},
   "outputs": [],
   "source": [
    "window_range = Window.partitionBy('userid').orderBy(desc('ts')).rangeBetween(Window.unboundedPreceding,0)\n",
    "window_rows = Window.partitionBy('userid').orderBy(desc('ts')).rowsBetween(Window.unboundedPreceding,0)"
   ]
  },
  {
   "cell_type": "code",
   "execution_count": 118,
   "metadata": {},
   "outputs": [],
   "source": [
    "user_log_a = user_log_a.withColumn('window_range',sum('home_page').over(window_range)).withColumn('window_rows',sum('home_page').over(window_rows))"
   ]
  },
  {
   "cell_type": "code",
   "execution_count": 122,
   "metadata": {},
   "outputs": [
    {
     "name": "stdout",
     "output_type": "stream",
     "text": [
      "+------+---------+---------+-------------+--------+-----+------+--------+--------------------+-------------+----+---------+------------+-----------+\n",
      "|userId|firstName|sessionId|itemInSession|lastName|level|method|    page|                song|           ts|hour|home_page|window_range|window_rows|\n",
      "+------+---------+---------+-------------+--------+-----+------+--------+--------------------+-------------+----+---------+------------+-----------+\n",
      "|  2294|   Tyanna|     2293|           65|   Jones| paid|   PUT|  Logout|                null|1513787468284|   8|        0|           0|          0|\n",
      "|  2294|   Tyanna|     2293|           64|   Jones| paid|   PUT|NextSong| California Dreaming|1513787467284|   8|        0|           0|          0|\n",
      "|  2294|   Tyanna|     2293|           63|   Jones| paid|   PUT|NextSong|    ThÃÂ¨me De Yoyo|1513786920284|   8|        0|           0|          0|\n",
      "|  2294|   Tyanna|     2293|           62|   Jones| paid|   PUT|NextSong|Shine On (Album V...|1513786737284|   8|        0|           0|          0|\n",
      "|  2294|   Tyanna|     2293|           61|   Jones| paid|   PUT|NextSong|        Como Me Mira|1513786461284|   8|        0|           0|          0|\n",
      "|  2294|   Tyanna|     2293|           60|   Jones| paid|   GET|    Home|                null|1513786339284|   8|        1|           1|          1|\n",
      "|  2294|   Tyanna|     2293|           59|   Jones| paid|   PUT|NextSong|El Temperamento (...|1513786261284|   8|        0|           1|          1|\n",
      "|  2294|   Tyanna|     2293|           58|   Jones| paid|   PUT|NextSong|          Devil Town|1513786041284|   8|        0|           1|          1|\n",
      "|  2294|   Tyanna|     2293|           57|   Jones| paid|   PUT|NextSong|  Indian Thick Jawns|1513785806284|   8|        0|           1|          1|\n",
      "|  2294|   Tyanna|     2293|           56|   Jones| paid|   PUT|NextSong|If You're Not The...|1513785549284|   7|        0|           1|          1|\n",
      "|  2294|   Tyanna|     2293|           55|   Jones| paid|   PUT|NextSong|           Gas Dance|1513785330284|   7|        0|           1|          1|\n",
      "|  2294|   Tyanna|     2293|           54|   Jones| paid|   PUT|NextSong|   Hell Breaks Loose|1513785086284|   7|        0|           1|          1|\n",
      "|  2294|   Tyanna|     2293|           53|   Jones| paid|   PUT|NextSong|Passin' Me By (Br...|1513784808284|   7|        0|           1|          1|\n",
      "|  2294|   Tyanna|     2293|           52|   Jones| paid|   PUT|NextSong|               Outro|1513784296284|   7|        0|           1|          1|\n",
      "|  2294|   Tyanna|     2293|           51|   Jones| paid|   PUT|NextSong|North Sea Storm (...|1513783984284|   7|        0|           1|          1|\n",
      "|  2294|   Tyanna|     2293|           50|   Jones| paid|   PUT|NextSong| Pieces Of You In Me|1513783804284|   7|        0|           1|          1|\n",
      "|  2294|   Tyanna|     2293|           49|   Jones| paid|   PUT|NextSong|Dog Days Are Over...|1513783585284|   7|        0|           1|          1|\n",
      "|  2294|   Tyanna|     2293|           48|   Jones| paid|   PUT|NextSong|Black Planet (Rem...|1513783319284|   7|        0|           1|          1|\n",
      "|  2294|   Tyanna|     2293|           47|   Jones| paid|   PUT|NextSong|With Twilight as ...|1513782847284|   7|        0|           1|          1|\n",
      "|  2294|   Tyanna|     2293|           46|   Jones| paid|   PUT|NextSong|Finish What You S...|1513782658284|   7|        0|           1|          1|\n",
      "+------+---------+---------+-------------+--------+-----+------+--------+--------------------+-------------+----+---------+------------+-----------+\n",
      "only showing top 20 rows\n",
      "\n"
     ]
    }
   ],
   "source": [
    "user_log_a.filter(col('userid') ==  '2294').show()"
   ]
  },
  {
   "cell_type": "code",
   "execution_count": 1,
   "metadata": {},
   "outputs": [],
   "source": [
    "path = \"sparkify_log_small.json\"\n",
    "cusum = spark.read.json(path)"
   ]
  },
  {
   "cell_type": "code",
   "execution_count": 8,
   "metadata": {},
   "outputs": [
    {
     "name": "stdout",
     "output_type": "stream",
     "text": [
      "+------+-------------+---------+-------------+--------+\n",
      "|userid|           ts|sessionid|itemInSession|    page|\n",
      "+------+-------------+---------+-------------+--------+\n",
      "|    10|1513828388284|     6676|            0|NextSong|\n",
      "|    10|1513790894284|        9|            0|NextSong|\n",
      "|   100|1513839673284|     6316|            0|    Home|\n",
      "|   100|1513776308284|     6040|            4|NextSong|\n",
      "|   100|1513776194284|     6040|            3|    Home|\n",
      "|   100|1513775710284|     6040|            2|NextSong|\n",
      "|   100|1513775556284|     6040|            1|NextSong|\n",
      "|   100|1513775431284|     6040|            0|    Home|\n",
      "|   100|1513750442284|     5762|            1|NextSong|\n",
      "|   100|1513750214284|     5762|            0|NextSong|\n",
      "|  1000|1513720878284|     5027|            7|NextSong|\n",
      "|  1003|1513749525284|     1002|            2|    Home|\n",
      "|  1003|1513749516284|     1002|            1|NextSong|\n",
      "|  1003|1513749501284|     1002|            0|    Home|\n",
      "|  1005|1513782278284|     4250|            0|NextSong|\n",
      "|  1006|1513774019284|     1005|            2|NextSong|\n",
      "|  1006|1513773777284|     1005|            1|NextSong|\n",
      "|  1006|1513773548284|     1005|            0|NextSong|\n",
      "|  1017|1513822643284|     6987|            5|NextSong|\n",
      "|  1017|1513822400284|     6987|            4|    Home|\n",
      "+------+-------------+---------+-------------+--------+\n",
      "only showing top 20 rows\n",
      "\n"
     ]
    }
   ],
   "source": [
    "from pyspark.sql.functions import col\n",
    "\n",
    "df.select(['userid','ts','sessionid','itemInSession','page']).filter(col('userid') != '').orderBy('userid',col('ts').desc()).show()"
   ]
  },
  {
   "cell_type": "code",
   "execution_count": 34,
   "metadata": {},
   "outputs": [],
   "source": [
    "from pyspark.sql.functions import udf\n",
    "from pyspark.sql.types import IntegerType\n",
    "from pyspark.sql.functions import desc \n",
    "function = udf(lambda ishome : int(ishome == 'Home'), IntegerType())\n",
    "path = \"sparkify_log_small.json\"\n",
    "cusum = spark.read.json(path)\n",
    "user_window = Window \\\n",
    "    .partitionBy('userID') \\\n",
    "    .orderBy(desc('ts')) \\\n",
    "    .rangeBetween(Window.unboundedPreceding, 0)\n",
    "\n",
    "cusum = df.filter((df.page == 'NextSong') | (df.page == 'Home')) \\\n",
    "    .select('userID', 'page', 'ts') \\\n",
    "    .withColumn('homevisit', function(col('page'))).orderBy('userid','ts') \\\n",
    "    .withColumn('period', Fsum('homevisit').over(user_window)).filter(col('userid') != '') \n",
    "\n",
    "#cusum.filter((cusum.page == 'NextSong')) \\\n",
    "#    .groupBy('userID', 'period') \\\n",
    "#    .agg({'period':'count'}) \\\n",
    "#    .agg({'count(period)':'avg'}).show()"
   ]
  },
  {
   "cell_type": "code",
   "execution_count": 40,
   "metadata": {},
   "outputs": [
    {
     "data": {
      "text/plain": [
       "[Row(userID='761', page='NextSong', ts=1513785588284, homevisit=0, period=0),\n",
       " Row(userID='761', page='NextSong', ts=1513785411284, homevisit=0, period=0),\n",
       " Row(userID='761', page='NextSong', ts=1513785181284, homevisit=0, period=0),\n",
       " Row(userID='761', page='NextSong', ts=1513784910284, homevisit=0, period=0),\n",
       " Row(userID='761', page='NextSong', ts=1513784687284, homevisit=0, period=0),\n",
       " Row(userID='761', page='NextSong', ts=1513784491284, homevisit=0, period=0),\n",
       " Row(userID='761', page='NextSong', ts=1513784262284, homevisit=0, period=0),\n",
       " Row(userID='761', page='NextSong', ts=1513784027284, homevisit=0, period=0),\n",
       " Row(userID='761', page='NextSong', ts=1513783827284, homevisit=0, period=0),\n",
       " Row(userID='761', page='NextSong', ts=1513783598284, homevisit=0, period=0),\n",
       " Row(userID='761', page='NextSong', ts=1513783325284, homevisit=0, period=0),\n",
       " Row(userID='761', page='NextSong', ts=1513783154284, homevisit=0, period=0),\n",
       " Row(userID='761', page='NextSong', ts=1513782904284, homevisit=0, period=0),\n",
       " Row(userID='761', page='NextSong', ts=1513782643284, homevisit=0, period=0),\n",
       " Row(userID='761', page='NextSong', ts=1513782483284, homevisit=0, period=0),\n",
       " Row(userID='761', page='NextSong', ts=1513782274284, homevisit=0, period=0),\n",
       " Row(userID='761', page='NextSong', ts=1513782071284, homevisit=0, period=0),\n",
       " Row(userID='761', page='Home', ts=1513781815284, homevisit=1, period=1),\n",
       " Row(userID='761', page='NextSong', ts=1513781794284, homevisit=0, period=1),\n",
       " Row(userID='761', page='NextSong', ts=1513781552284, homevisit=0, period=1),\n",
       " Row(userID='761', page='NextSong', ts=1513781034284, homevisit=0, period=1),\n",
       " Row(userID='761', page='NextSong', ts=1513780830284, homevisit=0, period=1),\n",
       " Row(userID='761', page='NextSong', ts=1513780654284, homevisit=0, period=1),\n",
       " Row(userID='761', page='NextSong', ts=1513780421284, homevisit=0, period=1),\n",
       " Row(userID='761', page='NextSong', ts=1513780175284, homevisit=0, period=1),\n",
       " Row(userID='761', page='NextSong', ts=1513779929284, homevisit=0, period=1),\n",
       " Row(userID='761', page='NextSong', ts=1513779640284, homevisit=0, period=1),\n",
       " Row(userID='761', page='NextSong', ts=1513779357284, homevisit=0, period=1),\n",
       " Row(userID='761', page='NextSong', ts=1513779113284, homevisit=0, period=1),\n",
       " Row(userID='761', page='NextSong', ts=1513778894284, homevisit=0, period=1),\n",
       " Row(userID='761', page='NextSong', ts=1513778841284, homevisit=0, period=1),\n",
       " Row(userID='761', page='NextSong', ts=1513778708284, homevisit=0, period=1),\n",
       " Row(userID='761', page='NextSong', ts=1513778453284, homevisit=0, period=1),\n",
       " Row(userID='761', page='NextSong', ts=1513778020284, homevisit=0, period=1),\n",
       " Row(userID='761', page='NextSong', ts=1513777812284, homevisit=0, period=1),\n",
       " Row(userID='761', page='NextSong', ts=1513777650284, homevisit=0, period=1),\n",
       " Row(userID='761', page='Home', ts=1513777598284, homevisit=1, period=2),\n",
       " Row(userID='761', page='NextSong', ts=1513754876284, homevisit=0, period=2),\n",
       " Row(userID='761', page='NextSong', ts=1513754679284, homevisit=0, period=2),\n",
       " Row(userID='761', page='NextSong', ts=1513754457284, homevisit=0, period=2),\n",
       " Row(userID='761', page='NextSong', ts=1513754218284, homevisit=0, period=2),\n",
       " Row(userID='761', page='NextSong', ts=1513753997284, homevisit=0, period=2),\n",
       " Row(userID='761', page='NextSong', ts=1513753837284, homevisit=0, period=2),\n",
       " Row(userID='761', page='Home', ts=1513753598284, homevisit=1, period=3),\n",
       " Row(userID='761', page='NextSong', ts=1513753595284, homevisit=0, period=3),\n",
       " Row(userID='761', page='NextSong', ts=1513753298284, homevisit=0, period=3),\n",
       " Row(userID='761', page='NextSong', ts=1513752973284, homevisit=0, period=3),\n",
       " Row(userID='761', page='NextSong', ts=1513752708284, homevisit=0, period=3),\n",
       " Row(userID='761', page='NextSong', ts=1513752324284, homevisit=0, period=3),\n",
       " Row(userID='761', page='NextSong', ts=1513752086284, homevisit=0, period=3),\n",
       " Row(userID='761', page='NextSong', ts=1513751796284, homevisit=0, period=3),\n",
       " Row(userID='761', page='NextSong', ts=1513751472284, homevisit=0, period=3),\n",
       " Row(userID='761', page='NextSong', ts=1513751277284, homevisit=0, period=3),\n",
       " Row(userID='761', page='NextSong', ts=1513751080284, homevisit=0, period=3)]"
      ]
     },
     "execution_count": 40,
     "metadata": {},
     "output_type": "execute_result"
    }
   ],
   "source": [
    "#cusum.filter(col('period') > 2).orderBy(desc('userid')).show()\n",
    "cusum.filter(col('userid') == '761').collect()"
   ]
  },
  {
   "cell_type": "code",
   "execution_count": 50,
   "metadata": {},
   "outputs": [
    {
     "name": "stdout",
     "output_type": "stream",
     "text": [
      "+------------------+\n",
      "|avg(count(period))|\n",
      "+------------------+\n",
      "|              51.0|\n",
      "+------------------+\n",
      "\n"
     ]
    }
   ],
   "source": [
    "cusum.filter((cusum.page == 'NextSong')) \\\n",
    "    .groupBy('userID', 'period') \\\n",
    "    .agg({'period':'count'}).filter(col('userid') == '761')\\\n",
    "    .agg({'count(period)':'avg'}).show()\n",
    "#.collect() \n",
    "##\\.agg({'count(period)':'avg'}).show()"
   ]
  },
  {
   "cell_type": "code",
   "execution_count": 49,
   "metadata": {},
   "outputs": [],
   "source": [
    "cusum.filter((cusum.page == 'NextSong')) \\\n",
    "    .groupBy('userID', 'period') \\\n",
    "    .agg({'period':'count'}).filter(col('userid') == '761').show()"
   ]
  },
  {
   "cell_type": "code",
   "execution_count": 46,
   "metadata": {},
   "outputs": [
    {
     "data": {
      "text/plain": [
       "51"
      ]
     },
     "execution_count": 46,
     "metadata": {},
     "output_type": "execute_result"
    }
   ],
   "source": []
  },
  {
   "cell_type": "code",
   "execution_count": 47,
   "metadata": {},
   "outputs": [
    {
     "data": {
      "text/plain": [
       "12.75"
      ]
     },
     "execution_count": 47,
     "metadata": {},
     "output_type": "execute_result"
    }
   ],
   "source": []
  },
  {
   "cell_type": "code",
   "execution_count": null,
   "metadata": {},
   "outputs": [],
   "source": []
  }
 ],
 "metadata": {
  "kernelspec": {
   "display_name": "Python 3",
   "language": "python",
   "name": "python3"
  },
  "language_info": {
   "codemirror_mode": {
    "name": "ipython",
    "version": 3
   },
   "file_extension": ".py",
   "mimetype": "text/x-python",
   "name": "python",
   "nbconvert_exporter": "python",
   "pygments_lexer": "ipython3",
   "version": "3.7.3"
  }
 },
 "nbformat": 4,
 "nbformat_minor": 4
}
