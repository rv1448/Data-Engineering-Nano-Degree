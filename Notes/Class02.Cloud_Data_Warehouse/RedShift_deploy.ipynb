{
 "cells": [
  {
   "cell_type": "code",
   "execution_count": 15,
   "metadata": {},
   "outputs": [],
   "source": [
    "import pandas as pd\n",
    "import boto3\n",
    "import json\n",
    "import sys \n",
    "import configparser"
   ]
  },
  {
   "cell_type": "code",
   "execution_count": 16,
   "metadata": {},
   "outputs": [],
   "source": [
    "config = configparser.ConfigParser()\n",
    "config.read_file(open('/Users/RahulReddy/dwh.cfg'))\n",
    "\n",
    "KEY                    = config.get('AWS','KEY')\n",
    "SECRET                 = config.get('AWS','SECRET')\n",
    "\n",
    "DWH_CLUSTER_TYPE       = config.get(\"DWH\",\"DWH_CLUSTER_TYPE\")\n",
    "DWH_NUM_NODES          = config.get(\"DWH\",\"DWH_NUM_NODES\")\n",
    "DWH_NODE_TYPE          = config.get(\"DWH\",\"DWH_NODE_TYPE\")\n",
    "\n",
    "DWH_CLUSTER_IDENTIFIER = config.get(\"DWH\",\"DWH_CLUSTER_IDENTIFIER\")\n",
    "DWH_DB                 = config.get(\"DWH\",\"DWH_DB\")\n",
    "DWH_DB_USER            = config.get(\"DWH\",\"DWH_DB_USER\")\n",
    "DWH_DB_PASSWORD        = config.get(\"DWH\",\"DWH_DB_PASSWORD\")\n",
    "DWH_PORT               = config.get(\"DWH\",\"DWH_PORT\")\n",
    "\n",
    "DWH_IAM_ROLE_NAME      = config.get(\"DWH\", \"DWH_IAM_ROLE_NAME\")\n",
    "\n",
    "## Creating a dictionary with columns Param and Value \n",
    "\n",
    "df = pd.DataFrame({\"Param\":\n",
    "                  [\"DWH_CLUSTER_TYPE\", \"DWH_NUM_NODES\", \"DWH_NODE_TYPE\", \"DWH_CLUSTER_IDENTIFIER\", \"DWH_DB\", \"DWH_DB_USER\", \"DWH_DB_PASSWORD\", \"DWH_PORT\", \"DWH_IAM_ROLE_NAME\"],\n",
    "              \"Value\":\n",
    "                  [DWH_CLUSTER_TYPE, DWH_NUM_NODES, DWH_NODE_TYPE, DWH_CLUSTER_IDENTIFIER, DWH_DB, DWH_DB_USER, DWH_DB_PASSWORD, DWH_PORT, DWH_IAM_ROLE_NAME]\n",
    "             })"
   ]
  },
  {
   "cell_type": "code",
   "execution_count": 17,
   "metadata": {},
   "outputs": [],
   "source": [
    "import boto3\n",
    "\n",
    "ec2 = boto3.resource('ec2',region_name='us-west-2',aws_access_key_id=KEY,aws_secret_access_key=SECRET)\n",
    "\n",
    "s3 = boto3.resource('s3',region_name='us-west-2',aws_access_key_id=KEY,aws_secret_access_key=SECRET)\n",
    "\n",
    "iam = boto3.client('iam',region_name='us-west-2',aws_access_key_id=KEY,aws_secret_access_key=SECRET)\n",
    "\n",
    "redshift = boto3.client('redshift',region_name='us-west-2',aws_access_key_id=KEY,aws_secret_access_key=SECRET)"
   ]
  },
  {
   "cell_type": "code",
   "execution_count": 4,
   "metadata": {},
   "outputs": [
    {
     "name": "stdout",
     "output_type": "stream",
     "text": [
      "s3.ObjectSummary(bucket_name='awssampledbuswest2', key='ssbgz/')\n",
      "s3.ObjectSummary(bucket_name='awssampledbuswest2', key='ssbgz/customer0002_part_00.gz')\n",
      "s3.ObjectSummary(bucket_name='awssampledbuswest2', key='ssbgz/dwdate.tbl.gz')\n",
      "s3.ObjectSummary(bucket_name='awssampledbuswest2', key='ssbgz/lineorder0000_part_00.gz')\n",
      "s3.ObjectSummary(bucket_name='awssampledbuswest2', key='ssbgz/lineorder0001_part_00.gz')\n",
      "s3.ObjectSummary(bucket_name='awssampledbuswest2', key='ssbgz/lineorder0002_part_00.gz')\n",
      "s3.ObjectSummary(bucket_name='awssampledbuswest2', key='ssbgz/lineorder0003_part_00.gz')\n",
      "s3.ObjectSummary(bucket_name='awssampledbuswest2', key='ssbgz/lineorder0004_part_00.gz')\n",
      "s3.ObjectSummary(bucket_name='awssampledbuswest2', key='ssbgz/lineorder0005_part_00.gz')\n",
      "s3.ObjectSummary(bucket_name='awssampledbuswest2', key='ssbgz/lineorder0006_part_00.gz')\n",
      "s3.ObjectSummary(bucket_name='awssampledbuswest2', key='ssbgz/lineorder0007_part_00.gz')\n",
      "s3.ObjectSummary(bucket_name='awssampledbuswest2', key='ssbgz/part0000_part_00.gz')\n",
      "s3.ObjectSummary(bucket_name='awssampledbuswest2', key='ssbgz/part0001_part_00.gz')\n",
      "s3.ObjectSummary(bucket_name='awssampledbuswest2', key='ssbgz/part0002_part_00.gz')\n",
      "s3.ObjectSummary(bucket_name='awssampledbuswest2', key='ssbgz/part0003_part_00.gz')\n",
      "s3.ObjectSummary(bucket_name='awssampledbuswest2', key='ssbgz/supplier.tbl_0000_part_00.gz')\n",
      "s3.ObjectSummary(bucket_name='awssampledbuswest2', key='ssbgz/supplier0001_part_00.gz')\n",
      "s3.ObjectSummary(bucket_name='awssampledbuswest2', key='ssbgz/supplier0002_part_00.gz')\n",
      "s3.ObjectSummary(bucket_name='awssampledbuswest2', key='ssbgz/supplier0003_part_00.gz')\n"
     ]
    }
   ],
   "source": [
    "samplebucket = s3.Bucket(\"awssampledbuswest2\")\n",
    "for i in samplebucket.objects.filter(Prefix='ssbgz'):\n",
    "    print(i)"
   ]
  },
  {
   "cell_type": "code",
   "execution_count": 18,
   "metadata": {},
   "outputs": [],
   "source": [
    "dwhRole = iam.create_role(\n",
    "          Path='/',\n",
    "          RoleName=DWH_IAM_ROLE_NAME,\n",
    "          AssumeRolePolicyDocument=json.dumps(\n",
    "          {'Statement': [{'Action': 'sts:AssumeRole',\n",
    "                       'Effect': 'Allow',\n",
    "                       'Principal': {'Service': 'redshift.amazonaws.com'}}],\n",
    "                        'Version': '2012-10-17'\n",
    "          }\n",
    "          ),\n",
    "          Description='Redshift role to run the select on S3 bucket',\n",
    "          Tags=[\n",
    "              {\n",
    "                  'Key': 'role of the Red',\n",
    "                  'Value': 'redshiftcluser'\n",
    "              },\n",
    "             ]\n",
    ") "
   ]
  },
  {
   "cell_type": "code",
   "execution_count": 7,
   "metadata": {},
   "outputs": [],
   "source": [
    "delete_role = iam.delete_role(RoleName='DWH_IAM_ROLE_NAME')"
   ]
  },
  {
   "cell_type": "code",
   "execution_count": 21,
   "metadata": {},
   "outputs": [
    {
     "data": {
      "text/plain": [
       "\u001b[0;31mSignature:\u001b[0m \u001b[0miam\u001b[0m\u001b[0;34m.\u001b[0m\u001b[0mget_role_policy\u001b[0m\u001b[0;34m(\u001b[0m\u001b[0;34m*\u001b[0m\u001b[0margs\u001b[0m\u001b[0;34m,\u001b[0m \u001b[0;34m**\u001b[0m\u001b[0mkwargs\u001b[0m\u001b[0;34m)\u001b[0m\u001b[0;34m\u001b[0m\u001b[0m\n",
       "\u001b[0;31mDocstring:\u001b[0m\n",
       "Retrieves the specified inline policy document that is embedded with the specified IAM role.\n",
       "\n",
       " \n",
       "\n",
       ".. note::\n",
       "\n",
       "   \n",
       "\n",
       "  Policies returned by this API are URL-encoded compliant with `RFC 3986 <https://tools.ietf.org/html/rfc3986>`__ . You can use a URL decoding method to convert the policy back to plain JSON text. For example, if you use Java, you can use the ``decode`` method of the ``java.net.URLDecoder`` utility class in the Java SDK. Other languages and SDKs provide similar functionality.\n",
       "\n",
       "   \n",
       "\n",
       " \n",
       "\n",
       "An IAM role can also have managed policies attached to it. To retrieve a managed policy document that is attached to a role, use  GetPolicy to determine the policy's default version, then use  GetPolicyVersion to retrieve the policy document.\n",
       "\n",
       " \n",
       "\n",
       "For more information about policies, see `Managed Policies and Inline Policies <https://docs.aws.amazon.com/IAM/latest/UserGuide/policies-managed-vs-inline.html>`__ in the *IAM User Guide* .\n",
       "\n",
       " \n",
       "\n",
       "For more information about roles, see `Using Roles to Delegate Permissions and Federate Identities <https://docs.aws.amazon.com/IAM/latest/UserGuide/roles-toplevel.html>`__ .\n",
       "\n",
       "\n",
       "\n",
       "See also: `AWS API Documentation <https://docs.aws.amazon.com/goto/WebAPI/iam-2010-05-08/GetRolePolicy>`_\n",
       "\n",
       "\n",
       "**Request Syntax** \n",
       "::\n",
       "\n",
       "  response = client.get_role_policy(\n",
       "      RoleName='string',\n",
       "      PolicyName='string'\n",
       "  )\n",
       ":type RoleName: string\n",
       ":param RoleName: **[REQUIRED]** \n",
       "\n",
       "  The name of the role associated with the policy.\n",
       "\n",
       "   \n",
       "\n",
       "  This parameter allows (through its `regex pattern <http://wikipedia.org/wiki/regex>`__ ) a string of characters consisting of upper and lowercase alphanumeric characters with no spaces. You can also include any of the following characters: _+=,.@-\n",
       "\n",
       "  \n",
       "\n",
       "\n",
       ":type PolicyName: string\n",
       ":param PolicyName: **[REQUIRED]** \n",
       "\n",
       "  The name of the policy document to get.\n",
       "\n",
       "   \n",
       "\n",
       "  This parameter allows (through its `regex pattern <http://wikipedia.org/wiki/regex>`__ ) a string of characters consisting of upper and lowercase alphanumeric characters with no spaces. You can also include any of the following characters: _+=,.@-\n",
       "\n",
       "  \n",
       "\n",
       "\n",
       "\n",
       ":rtype: dict\n",
       ":returns: \n",
       "  \n",
       "  **Response Syntax** \n",
       "\n",
       "  \n",
       "  ::\n",
       "\n",
       "    {\n",
       "        'RoleName': 'string',\n",
       "        'PolicyName': 'string',\n",
       "        'PolicyDocument': 'string'\n",
       "    }\n",
       "  **Response Structure** \n",
       "\n",
       "  \n",
       "\n",
       "  - *(dict) --* \n",
       "\n",
       "    Contains the response to a successful  GetRolePolicy request. \n",
       "\n",
       "    \n",
       "    \n",
       "\n",
       "    - **RoleName** *(string) --* \n",
       "\n",
       "      The role the policy is associated with.\n",
       "\n",
       "      \n",
       "    \n",
       "\n",
       "    - **PolicyName** *(string) --* \n",
       "\n",
       "      The name of the policy.\n",
       "\n",
       "      \n",
       "    \n",
       "\n",
       "    - **PolicyDocument** *(string) --* \n",
       "\n",
       "      The policy document.\n",
       "\n",
       "       \n",
       "\n",
       "      IAM stores policies in JSON format. However, resources that were created using AWS CloudFormation templates can be formatted in YAML. AWS CloudFormation always converts a YAML policy to JSON format before submitting it to IAM.\n",
       "\n",
       "      \n",
       "\u001b[0;31mSource:\u001b[0m   \n",
       "        \u001b[0;32mdef\u001b[0m \u001b[0m_api_call\u001b[0m\u001b[0;34m(\u001b[0m\u001b[0mself\u001b[0m\u001b[0;34m,\u001b[0m \u001b[0;34m*\u001b[0m\u001b[0margs\u001b[0m\u001b[0;34m,\u001b[0m \u001b[0;34m**\u001b[0m\u001b[0mkwargs\u001b[0m\u001b[0;34m)\u001b[0m\u001b[0;34m:\u001b[0m\u001b[0;34m\u001b[0m\n",
       "\u001b[0;34m\u001b[0m            \u001b[0;31m# We're accepting *args so that we can give a more helpful\u001b[0m\u001b[0;34m\u001b[0m\n",
       "\u001b[0;34m\u001b[0m            \u001b[0;31m# error message than TypeError: _api_call takes exactly\u001b[0m\u001b[0;34m\u001b[0m\n",
       "\u001b[0;34m\u001b[0m            \u001b[0;31m# 1 argument.\u001b[0m\u001b[0;34m\u001b[0m\n",
       "\u001b[0;34m\u001b[0m            \u001b[0;32mif\u001b[0m \u001b[0margs\u001b[0m\u001b[0;34m:\u001b[0m\u001b[0;34m\u001b[0m\n",
       "\u001b[0;34m\u001b[0m                \u001b[0;32mraise\u001b[0m \u001b[0mTypeError\u001b[0m\u001b[0;34m(\u001b[0m\u001b[0;34m\u001b[0m\n",
       "\u001b[0;34m\u001b[0m                    \u001b[0;34m\"%s() only accepts keyword arguments.\"\u001b[0m \u001b[0;34m%\u001b[0m \u001b[0mpy_operation_name\u001b[0m\u001b[0;34m)\u001b[0m\u001b[0;34m\u001b[0m\n",
       "\u001b[0;34m\u001b[0m            \u001b[0;31m# The \"self\" in this scope is referring to the BaseClient.\u001b[0m\u001b[0;34m\u001b[0m\n",
       "\u001b[0;34m\u001b[0m            \u001b[0;32mreturn\u001b[0m \u001b[0mself\u001b[0m\u001b[0;34m.\u001b[0m\u001b[0m_make_api_call\u001b[0m\u001b[0;34m(\u001b[0m\u001b[0moperation_name\u001b[0m\u001b[0;34m,\u001b[0m \u001b[0mkwargs\u001b[0m\u001b[0;34m)\u001b[0m\u001b[0;34m\u001b[0m\u001b[0m\n",
       "\u001b[0;31mFile:\u001b[0m      /Library/Frameworks/Python.framework/Versions/3.6/lib/python3.6/site-packages/botocore/client.py\n",
       "\u001b[0;31mType:\u001b[0m      method\n"
      ]
     },
     "metadata": {},
     "output_type": "display_data"
    }
   ],
   "source": [
    "iam.get_role_policy??"
   ]
  },
  {
   "cell_type": "code",
   "execution_count": 8,
   "metadata": {},
   "outputs": [
    {
     "name": "stdout",
     "output_type": "stream",
     "text": [
      "{'PolicyName': 'AWSLambdaExecute', 'PolicyId': 'ANPAJE5FX7FQZSU5XAKGO', 'Arn': 'arn:aws:iam::aws:policy/AWSLambdaExecute', 'Path': '/', 'DefaultVersionId': 'v1', 'AttachmentCount': 0, 'PermissionsBoundaryUsageCount': 0, 'IsAttachable': True, 'Description': 'Provides Put, Get access to S3 and full access to CloudWatch Logs.', 'CreateDate': datetime.datetime(2015, 2, 6, 18, 40, 46, tzinfo=tzutc()), 'UpdateDate': datetime.datetime(2015, 2, 6, 18, 40, 46, tzinfo=tzutc())}\n"
     ]
    }
   ],
   "source": [
    "#iam.list_policies(OnlyAttached=True)['Policies']\n",
    "response = iam.get_policy(\n",
    "    PolicyArn='arn:aws:iam::aws:policy/AWSLambdaExecute'\n",
    ")\n",
    "print(response['Policy'])"
   ]
  },
  {
   "cell_type": "code",
   "execution_count": 19,
   "metadata": {},
   "outputs": [
    {
     "data": {
      "text/plain": [
       "200"
      ]
     },
     "execution_count": 19,
     "metadata": {},
     "output_type": "execute_result"
    }
   ],
   "source": [
    "\n",
    "iam.attach_role_policy(RoleName=DWH_IAM_ROLE_NAME,\n",
    "                       PolicyArn=\"arn:aws:iam::aws:policy/AmazonS3ReadOnlyAccess\"\n",
    "                      )['ResponseMetadata']['HTTPStatusCode']\n",
    "\n"
   ]
  },
  {
   "cell_type": "code",
   "execution_count": 21,
   "metadata": {},
   "outputs": [
    {
     "name": "stdout",
     "output_type": "stream",
     "text": [
      "1.3 Get the IAM role ARN\n",
      "arn:aws:iam::846457387363:role/dwhRole\n"
     ]
    }
   ],
   "source": [
    "print(\"1.3 Get the IAM role ARN\")\n",
    "roleArn = iam.get_role(RoleName=DWH_IAM_ROLE_NAME)['Role']['Arn']\n",
    "print(roleArn)\n"
   ]
  },
  {
   "cell_type": "code",
   "execution_count": 23,
   "metadata": {},
   "outputs": [],
   "source": [
    "import random"
   ]
  },
  {
   "cell_type": "code",
   "execution_count": 24,
   "metadata": {},
   "outputs": [],
   "source": [
    "x = [random.randint(0,9) for i in range(10)]"
   ]
  },
  {
   "cell_type": "code",
   "execution_count": 26,
   "metadata": {},
   "outputs": [
    {
     "name": "stdout",
     "output_type": "stream",
     "text": [
      " index at 1 data at:5\n",
      " index at 2 data at:0\n",
      " index at 3 data at:5\n",
      " index at 4 data at:5\n",
      " index at 5 data at:8\n",
      " index at 6 data at:7\n",
      " index at 7 data at:8\n",
      " index at 8 data at:9\n",
      " index at 9 data at:7\n",
      " index at 10 data at:0\n"
     ]
    }
   ],
   "source": [
    " "
   ]
  },
  {
   "cell_type": "code",
   "execution_count": null,
   "metadata": {},
   "outputs": [],
   "source": []
  }
 ],
 "metadata": {
  "kernelspec": {
   "display_name": "Python 3",
   "language": "python",
   "name": "python3"
  },
  "language_info": {
   "codemirror_mode": {
    "name": "ipython",
    "version": 3
   },
   "file_extension": ".py",
   "mimetype": "text/x-python",
   "name": "python",
   "nbconvert_exporter": "python",
   "pygments_lexer": "ipython3",
   "version": "3.7.3"
  }
 },
 "nbformat": 4,
 "nbformat_minor": 4
}
