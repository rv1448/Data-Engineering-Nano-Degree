{
 "cells": [
  {
   "cell_type": "code",
   "execution_count": 1,
   "metadata": {},
   "outputs": [],
   "source": [
    "import os\n",
    "from configparser import ConfigParser"
   ]
  },
  {
   "cell_type": "code",
   "execution_count": 2,
   "metadata": {},
   "outputs": [],
   "source": [
    "from pyspark import SparkContext\n",
    "from pyspark.sql import SparkSession"
   ]
  },
  {
   "cell_type": "code",
   "execution_count": 83,
   "metadata": {},
   "outputs": [],
   "source": [
    " spark = SparkSession \\\n",
    "        .builder \\\n",
    "        .config(\"spark.jars.packages\", \"org.apache.hadoop:hadoop-aws:2.7.0\") \\\n",
    "        .getOrCreate()\n",
    "\n",
    "#spark = SparkSession.builder.config('spark.jars.packages','org.apache.hadoop.fs.s3a.S3AFileSystem').appName(\"os\").getOrCreate()\n",
    "#spark.conf.set(\"spark.hadoop.fs.s3a.impl\", \"org.apache.hadoop.fs.s3a.S3AFileSystem\")"
   ]
  },
  {
   "cell_type": "code",
   "execution_count": 37,
   "metadata": {},
   "outputs": [],
   "source": [
    "#spark\n",
    "df_log = spark.read.json(\"/home/workspace/data/log-data.zip\")\n",
    "#!pwd"
   ]
  },
  {
   "cell_type": "code",
   "execution_count": 36,
   "metadata": {},
   "outputs": [
    {
     "data": {
      "text/plain": [
       "2989"
      ]
     },
     "execution_count": 36,
     "metadata": {},
     "output_type": "execute_result"
    }
   ],
   "source": [
    "df_song.count()"
   ]
  },
  {
   "cell_type": "code",
   "execution_count": 89,
   "metadata": {},
   "outputs": [],
   "source": [
    "from pyspark.sql.types import StructType, StructField\n",
    "from pyspark.sql.types import  IntegerType,StringType,DecimalType,LongType,DoubleType\n",
    "\n",
    "song_schema = StructType([\n",
    "    StructField('artist_id',StringType()),  \n",
    "    StructField('artist_latitude',DoubleType()),\n",
    "    StructField('artist_location',StringType()),\n",
    "    StructField('artist_longitude',DoubleType()),\n",
    "    StructField('artist_name',StringType()),\n",
    "    StructField('duration',DoubleType()),\n",
    "    StructField('num_songs' ,IntegerType()),\n",
    "    StructField('song_id',StringType()),\n",
    "    StructField('title',StringType()),\n",
    "    StructField('year',IntegerType())   \n",
    "])\n",
    "log_schema = StructType([\n",
    "    StructField('artist',StringType()),\n",
    "    StructField('auth',StringType()),\n",
    "    StructField('firstName',StringType()),\n",
    "    StructField('gender',StringType()),\n",
    "    StructField('itemInSession',IntegerType()),\n",
    "    StructField('lastName',StringType()),\n",
    "    StructField('length',DoubleType()),\n",
    "    StructField('level',StringType()),\n",
    "    StructField('location',StringType()),\n",
    "    StructField('method',StringType()),\n",
    "    StructField('page',StringType()),\n",
    "    StructField('registration',StringType()),\n",
    "    StructField('sessionId',IntegerType()),    \n",
    "    StructField('song',StringType()),\n",
    "    StructField('status',IntegerType()),\n",
    "    StructField('ts',LongType()),\n",
    "    StructField('userAgent',StringType()),\n",
    "    StructField('userId',StringType())\n",
    "    \n",
    "])\n",
    "df_song = spark.read.json(\"/home/workspace/data/song_data/*/*/*/*.json\",schema=song_schema)\n",
    "df_log = spark.read.json(\"/home/workspace/data/*.json\",schema=log_schema)\n",
    "\n",
    "#df_song = spark.read.json(\"s3a://udacity-dend/song_data/*/*/*/*.json\",schema=song_schema)\n",
    "#df_log = spark.read.json(\"s3a://udacity-dend/log_data/*/*/*.json\",schema=log_schema)"
   ]
  },
  {
   "cell_type": "code",
   "execution_count": 90,
   "metadata": {},
   "outputs": [
    {
     "name": "stdout",
     "output_type": "stream",
     "text": [
      "+------+---------+--------+------+-----+\n",
      "|userid|firstname|lastName|gender|level|\n",
      "+------+---------+--------+------+-----+\n",
      "|    26|     Ryan|   Smith|     M| free|\n",
      "|     7|   Adelyn|  Jordan|     F| free|\n",
      "|    71|   Ayleen|    Wise|     F| free|\n",
      "|    81|   Sienna|   Colon|     F| free|\n",
      "|    87|   Dustin|     Lee|     M| free|\n",
      "+------+---------+--------+------+-----+\n",
      "only showing top 5 rows\n",
      "\n",
      "+------------------+------------------+---------+--------------------+----+\n",
      "|           song_id|         artist_id| duration|               title|year|\n",
      "+------------------+------------------+---------+--------------------+----+\n",
      "|SOHUOAP12A8AE488E9|ARD842G1187B997376|491.12771|            Floating|1987|\n",
      "|SOKEJEJ12A8C13E0D0|ARC43071187B990240|245.21098|The Urgency (LP V...|   0|\n",
      "|SONHOTT12A8C13493C|AR7G5I41187FB4CE6C|233.40363|     Something Girls|1982|\n",
      "|SOHKNRJ12A6701D1F8|AR10USD1187B99F3F1|189.57016|        Drop of Rain|   0|\n",
      "|SOOLYAZ12A6701F4A6|AREBBGV1187FB523D2|173.66159|Laws Patrolling (...|   0|\n",
      "+------------------+------------------+---------+--------------------+----+\n",
      "only showing top 5 rows\n",
      "\n",
      "+--------------------+----+---+----+-----+----+---------+\n",
      "|                time|hour|day|week|month|year|  weekday|\n",
      "+--------------------+----+---+----+-----+----+---------+\n",
      "|2018-11-15 10:07:...|  10| 15|  46|   11|2018| Thursday|\n",
      "|2018-11-15 14:23:...|  14| 15|  46|   11|2018| Thursday|\n",
      "|2018-11-15 16:28:...|  16| 15|  46|   11|2018| Thursday|\n",
      "|2018-11-21 05:10:...|   5| 21|  47|   11|2018|Wednesday|\n",
      "|2018-11-21 20:11:...|  20| 21|  47|   11|2018|Wednesday|\n",
      "+--------------------+----+---+----+-----+----+---------+\n",
      "only showing top 5 rows\n",
      "\n",
      "+------------------+---------------+---------------+---------------+----------------+\n",
      "|         artist_id|    artist_name|artist_location|artist_latitude|artist_longitude|\n",
      "+------------------+---------------+---------------+---------------+----------------+\n",
      "|AR3JMC51187B9AE49D|Backstreet Boys|    Orlando, FL|       28.53823|       -81.37739|\n",
      "|AR0IAWL1187B9A96D0|   Danilo Perez|         Panama|         8.4177|       -80.11278|\n",
      "|ARWB3G61187FB49404|    Steve Morse| Hamilton, Ohio|           null|            null|\n",
      "|AR47JEX1187B995D81|   SUE THOMPSON|     Nevada, MO|       37.83721|       -94.35868|\n",
      "|ARHHO3O1187B989413|      Bob Azzam|               |           null|            null|\n",
      "+------------------+---------------+---------------+---------------+----------------+\n",
      "only showing top 5 rows\n",
      "\n"
     ]
    }
   ],
   "source": [
    "from pyspark.sql.functions import col\n",
    "from pyspark.sql.functions import udf\n",
    "from pyspark.sql.types import TimestampType\n",
    "from pyspark.sql.functions import to_timestamp\n",
    "dim_user_columns = ['userid','firstname','lastName','gender','level']\n",
    "dim_song_columns = ['song_id','artist_id','duration','title','year']\n",
    "dim_artist_columns = ['artist_id', 'artist_name', 'artist_location', 'artist_latitude', 'artist_longitude']\n",
    "\n",
    "dim_user = df_log.selectExpr(*dim_user_columns).dropDuplicates().filter(col('userid').isNotNull()) \n",
    "dim_song = df_song.selectExpr(*dim_song_columns).dropDuplicates() \n",
    "dim_artist =  df_song.selectExpr(*dim_artist_columns).dropDuplicates()\n",
    "\n",
    "df_log.selectExpr(\"cast(ts/1000 as timestamp) as time\").alias('time').createOrReplaceTempView(\"time_table\")\n",
    "dim_time = spark.sql(\"select DISTINCT time, hour(time) as hour, day(time) as day,weekofyear(time) as week,\\\n",
    "          month(time) as month,year(time) as year,date_format(time, 'EEEE') as weekday  FROM time_table\")\n",
    "\n",
    "\n",
    "#####################################\n",
    "dim_user.show(n=5)\n",
    "dim_song.show(n=5)\n",
    "dim_time.show(n=5)\n",
    "dim_artist.show(n=5)"
   ]
  },
  {
   "cell_type": "code",
   "execution_count": 91,
   "metadata": {},
   "outputs": [
    {
     "data": {
      "text/plain": [
       "[Row(songplay_id=0, user_id='15', level='paid', song_id='SOZCTXZ12AB0182364', artist_id='AR5KOSW1187FB35FF4', session_id=818, location='Chicago-Naperville-Elgin, IL-IN-WI', user_agent='\"Mozilla/5.0 (X11; Linux x86_64) AppleWebKit/537.36 (KHTML, like Gecko) Ubuntu Chromium/36.0.1985.125 Chrome/36.0.1985.125 Safari/537.36\"'),\n",
       " Row(songplay_id=1, user_id='10', level='free', song_id='SOGDBUF12A8C140FAA', artist_id='AR558FS1187FB45658', session_id=484, location='Washington-Arlington-Alexandria, DC-VA-MD-WV', user_agent='\"Mozilla/5.0 (Macintosh; Intel Mac OS X 10_9_4) AppleWebKit/537.77.4 (KHTML, like Gecko) Version/7.0.5 Safari/537.77.4\"'),\n",
       " Row(songplay_id=2, user_id='24', level='paid', song_id='SOGDBUF12A8C140FAA', artist_id='AR558FS1187FB45658', session_id=672, location='Lake Havasu City-Kingman, AZ', user_agent='\"Mozilla/5.0 (Windows NT 6.1; WOW64) AppleWebKit/537.36 (KHTML, like Gecko) Chrome/36.0.1985.125 Safari/537.36\"'),\n",
       " Row(songplay_id=3, user_id='80', level='paid', song_id='SOGDBUF12A8C140FAA', artist_id='AR558FS1187FB45658', session_id=992, location='Portland-South Portland, ME', user_agent='\"Mozilla/5.0 (Macintosh; Intel Mac OS X 10_9_4) AppleWebKit/537.36 (KHTML, like Gecko) Chrome/36.0.1985.143 Safari/537.36\"')]"
      ]
     },
     "execution_count": 91,
     "metadata": {},
     "output_type": "execute_result"
    }
   ],
   "source": [
    "from pyspark.sql.functions import monotonically_increasing_id \n",
    "from pyspark.sql.window import Window\n",
    "from pyspark.sql import functions as F \n",
    "columns_l = ['start_time, user_id, level, song_id, artist_id, session_id, location, user_agent']\n",
    "#df_log.selectExpr(\"cast( ts/1000 as timestamp)\").show(n=5)\n",
    "#df_songplay = df_log.where(col('page') == 'NextSong').join(dim_song,df_log.song  == dim_song.title) \\\n",
    "#.selectExpr(*columns_l).show(5)\n",
    "#df_songplay.limit(5).select( F.monotonically_increasing_id()).show()\n",
    "df_log.where(col('page') == 'NextSong')\\\n",
    ".join(dim_song,df_log.song  == dim_song.title)\\\n",
    ".selectExpr('monotonically_increasing_id() as songplay_id','userId as user_id','level','song_id','artist_id','sessionId as session_id','location','userAgent as user_agent') \\\n",
    ".collect() "
   ]
  },
  {
   "cell_type": "code",
   "execution_count": 88,
   "metadata": {},
   "outputs": [
    {
     "data": {
      "text/plain": [
       "['artist',\n",
       " 'auth',\n",
       " 'firstName',\n",
       " 'gender',\n",
       " 'itemInSession',\n",
       " 'lastName',\n",
       " 'length',\n",
       " 'level',\n",
       " 'location',\n",
       " 'method',\n",
       " 'page',\n",
       " 'registration',\n",
       " 'sessionId',\n",
       " 'song',\n",
       " 'status',\n",
       " 'ts',\n",
       " 'userAgent',\n",
       " 'userId',\n",
       " 'song_id',\n",
       " 'artist_id',\n",
       " 'duration',\n",
       " 'title',\n",
       " 'year']"
      ]
     },
     "execution_count": 88,
     "metadata": {},
     "output_type": "execute_result"
    }
   ],
   "source": [
    "df_songplay.columns"
   ]
  },
  {
   "cell_type": "code",
   "execution_count": null,
   "metadata": {},
   "outputs": [],
   "source": []
  }
 ],
 "metadata": {
  "kernelspec": {
   "display_name": "Python 3",
   "language": "python",
   "name": "python3"
  },
  "language_info": {
   "codemirror_mode": {
    "name": "ipython",
    "version": 3
   },
   "file_extension": ".py",
   "mimetype": "text/x-python",
   "name": "python",
   "nbconvert_exporter": "python",
   "pygments_lexer": "ipython3",
   "version": "3.6.3"
  }
 },
 "nbformat": 4,
 "nbformat_minor": 4
}
