{
 "cells": [
  {
   "cell_type": "code",
   "execution_count": 22,
   "metadata": {
    "collapsed": false
   },
   "outputs": [],
   "source": [
    "import psycopg2 as py"
   ]
  },
  {
   "cell_type": "code",
   "execution_count": 23,
   "metadata": {
    "collapsed": true
   },
   "outputs": [],
   "source": [
    "## Get the connection to the DB \n",
    "\n",
    "try:\n",
    "    conn = py.connect(\"dbname=udacity\")\n",
    "except py.Error as e:\n",
    "    print(\"Error making the connection to the DB\")\n",
    "try:\n",
    "    cur = conn.cursor()\n",
    "except py.Error as e:\n",
    "    print(\"Couldn't get a curser to the database\")\n",
    "    print(e)\n",
    "conn.set_session(autocommit=True)\n",
    "\n",
    "try:\n",
    "    cur.execute(\"DROP TABLE music_library\")\n",
    "except py.Error as e: \n",
    "    print(e)\n",
    "    "
   ]
  },
  {
   "cell_type": "code",
   "execution_count": 25,
   "metadata": {
    "collapsed": false
   },
   "outputs": [],
   "source": [
    "## albumid albumname artistname year Listofsongs\n",
    "try:\n",
    "    cur.execute(\"INSERT INTO music_library (album_id, album_name, artist_name,year,songs) \\\n",
    "                VALUES(%s,%s,%s,%s,%s)\", \\\n",
    "               (1,\"rubber soul\", \"The beatles\",1965,[\"michelle\",\"Think For Yourself\",\"In my life\"]))\n",
    "except py.Error as e: \n",
    "    print(e)\n",
    "\n",
    "try:\n",
    "    cur.execute(\"INSERT INTO music_library (album_id, album_name, artist_name,year,songs) \\\n",
    "                VALUES(%s,%s,%s,%s,%s)\", \\\n",
    "               (2,\"Let it be\", \"The beatles\",1970,[\"Let it be\",\"Across the Universe\"]))\n",
    "except py.Error as e: \n",
    "    print(e)"
   ]
  },
  {
   "cell_type": "code",
   "execution_count": 24,
   "metadata": {
    "collapsed": true
   },
   "outputs": [],
   "source": [
    "try:\n",
    "    cur.execute(\"CREATE TABLE IF NOT EXISTS music_library (album_id int, album_name varchar, artist_name varchar, \\\n",
    "               year int, songs text[] );\")\n",
    "except py.Error as e: \n",
    "    print(e)"
   ]
  },
  {
   "cell_type": "code",
   "execution_count": 26,
   "metadata": {
    "collapsed": false
   },
   "outputs": [
    {
     "name": "stdout",
     "output_type": "stream",
     "text": [
      "(1, 'rubber soul', 'The beatles', 1965, ['michelle', 'Think For Yourself', 'In my life'])\n",
      "(2, 'Let it be', 'The beatles', 1970, ['Let it be', 'Across the Universe'])\n"
     ]
    }
   ],
   "source": [
    "try:\n",
    "    cur.execute(\"select * from music_library\")\n",
    "except py.Error as e: \n",
    "    print(e)\n",
    "row = cur.fetchone()\n",
    "while row:\n",
    "    print(row)\n",
    "    row = cur.fetchone()"
   ]
  },
  {
   "cell_type": "code",
   "execution_count": 29,
   "metadata": {
    "collapsed": false
   },
   "outputs": [],
   "source": [
    "## Normalize using first Normal Form \n",
    "try:\n",
    "    cur.execute(\"CREATE TABLE IF NOT EXISTS music_library2 (album_id int, album_name varchar, artist_name varchar, \\\n",
    "               year int, song_name varchar);\")\n",
    "except py.Error as e: \n",
    "    print(e)\n",
    "    \n",
    "try:\n",
    "    cur.execute(\"INSERT INTO music_library2 (album_id, album_name, artist_name,year,song_name) \\\n",
    "                VALUES(%s,%s,%s,%s,%s)\", \\\n",
    "               (1,\"rubber soul\", \"The beatles\",1965,\"michelle\"))\n",
    "except py.Error as e: \n",
    "    print(e)\n",
    "    \n",
    "try:\n",
    "    cur.execute(\"INSERT INTO music_library2 (album_id, album_name, artist_name,year,song_name) \\\n",
    "                VALUES(%s,%s,%s,%s,%s)\", \\\n",
    "               (1,\"rubber soul\", \"The beatles\",1965,\"Think For Yourself\"))\n",
    "except py.Error as e: \n",
    "    print(e)\n",
    "    \n",
    "try:\n",
    "    cur.execute(\"INSERT INTO music_library2 (album_id, album_name, artist_name,year,song_name) \\\n",
    "                VALUES(%s,%s,%s,%s,%s)\", \\\n",
    "               (1,\"rubber soul\", \"The beatles\",1965,\"In my life\"))\n",
    "except py.Error as e: \n",
    "    print(e)"
   ]
  },
  {
   "cell_type": "code",
   "execution_count": 30,
   "metadata": {
    "collapsed": true
   },
   "outputs": [],
   "source": [
    "try:\n",
    "    cur.execute(\"INSERT INTO music_library2 (album_id, album_name, artist_name,year,song_name) \\\n",
    "                VALUES(%s,%s,%s,%s,%s)\", \\\n",
    "               (2,\"Let it be\", \"The beatles\",1970, \"Let it be\"))\n",
    "except py.Error as e: \n",
    "    print(e)\n",
    "try:\n",
    "    cur.execute(\"INSERT INTO music_library2 (album_id, album_name, artist_name,year,song_name) \\\n",
    "                VALUES(%s,%s,%s,%s,%s)\", \\\n",
    "               (2,\"Let it be\", \"The beatles\",1970, \"Across the Universe\"))\n",
    "except py.Error as e: \n",
    "    print(e)"
   ]
  },
  {
   "cell_type": "code",
   "execution_count": 31,
   "metadata": {
    "collapsed": false
   },
   "outputs": [
    {
     "name": "stdout",
     "output_type": "stream",
     "text": [
      "(1, 'rubber soul', 'The beatles', 1965, 'michelle')\n",
      "(1, 'rubber soul', 'The beatles', 1965, 'Think For Yourself')\n",
      "(1, 'rubber soul', 'The beatles', 1965, 'In my life')\n",
      "(2, 'Let it be', 'The beatles', 1970, 'Let it be')\n",
      "(2, 'Let it be', 'The beatles', 1970, 'Across the Universe')\n"
     ]
    }
   ],
   "source": [
    "try:\n",
    "    cur.execute(\"select * from music_library2\")\n",
    "except py.Error as e: \n",
    "    print(e)\n",
    "    \n",
    "row = cur.fetchone()\n",
    "while row:\n",
    "    print(row)\n",
    "    row = cur.fetchone()"
   ]
  },
  {
   "cell_type": "code",
   "execution_count": 40,
   "metadata": {
    "collapsed": true
   },
   "outputs": [],
   "source": [
    "## 2NF \n",
    "try:\n",
    "    cur.execute(\"DROP TABLE album_library;\")\n",
    "except py.Error as e: \n",
    "    print(e)\n",
    "try:\n",
    "      cur.execute(\"DROP TABLE song_library;\")\n",
    "except py.Error as e: \n",
    "    print(e)\n",
    "\n",
    "\n",
    "try:\n",
    "    cur.execute(\"CREATE TABLE IF NOT EXISTS album_library(album_id int, album_name varchar, artist_name varchar, \\\n",
    "               year int);\")\n",
    "except py.Error as e: \n",
    "    print(e)\n",
    "try:\n",
    "    cur.execute(\"CREATE TABLE IF NOT EXISTS song_library(song_id int, album_id int, song_name varchar);\")\n",
    "except py.Error as e: \n",
    "    print(e)"
   ]
  },
  {
   "cell_type": "code",
   "execution_count": 41,
   "metadata": {
    "collapsed": false
   },
   "outputs": [],
   "source": [
    "try:\n",
    "    cur.execute(\"INSERT INTO album_library (album_id, album_name, artist_name,year) \\\n",
    "                VALUES(%s,%s,%s,%s)\", \\\n",
    "               (2,\"Let it be\", \"The beatles\",1970))\n",
    "except py.Error as e: \n",
    "    print(e)\n",
    "    \n",
    "try:\n",
    "    cur.execute(\"INSERT INTO album_library (album_id, album_name, artist_name,year) \\\n",
    "                VALUES(%s,%s,%s,%s)\", \\\n",
    "               (1,\"rubber soul\", \"The beatles\",1965))\n",
    "except py.Error as e: \n",
    "    print(e)\n",
    "    \n",
    "    \n",
    "try:\n",
    "    cur.execute(\"INSERT INTO song_library (song_id, album_id, song_name) \\\n",
    "                VALUES(%s,%s,%s)\", \\\n",
    "               (1,1, \"Michelle\"))\n",
    "except py.Error as e: \n",
    "    print(e)\n",
    "    \n",
    "try:\n",
    "    cur.execute(\"INSERT INTO song_library (song_id, album_id, song_name) \\\n",
    "                VALUES(%s,%s,%s)\", \\\n",
    "               (2,1, \"Think for yourself\"))\n",
    "except py.Error as e: \n",
    "    print(e)\n",
    "    \n",
    "try:\n",
    "    cur.execute(\"INSERT INTO song_library (song_id, album_id, song_name) \\\n",
    "                VALUES(%s,%s,%s)\", \\\n",
    "               (3,1, \"In my life\"))\n",
    "except py.Error as e: \n",
    "    print(e)\n",
    "    \n",
    "try:\n",
    "    cur.execute(\"INSERT INTO song_library (song_id, album_id, song_name) \\\n",
    "                VALUES(%s,%s,%s)\", \\\n",
    "               (4,2, \"Let it be\"))\n",
    "except py.Error as e: \n",
    "    print(e)\n",
    "    \n",
    "    \n",
    "try:\n",
    "    cur.execute(\"INSERT INTO song_library (song_id, album_id, song_name) \\\n",
    "                VALUES(%s,%s,%s)\", \\\n",
    "               (5,2, \"Across the Universe\"))\n",
    "except py.Error as e: \n",
    "    print(e)"
   ]
  },
  {
   "cell_type": "code",
   "execution_count": 42,
   "metadata": {
    "collapsed": false
   },
   "outputs": [
    {
     "name": "stdout",
     "output_type": "stream",
     "text": [
      "(2, 'Let it be', 'The beatles', 1970)\n",
      "(1, 'rubber soul', 'The beatles', 1965)\n",
      "\n",
      " Table: song library \n",
      "\n",
      "(1, 1, 'Michelle')\n",
      "(2, 1, 'Think for yourself')\n",
      "(3, 1, 'In my life')\n",
      "(4, 2, 'Let it be')\n",
      "(5, 2, 'Across the Universe')\n"
     ]
    }
   ],
   "source": [
    "try:\n",
    "    cur.execute(\"select * from album_library\")\n",
    "except py.Error as e: \n",
    "    print(e)\n",
    "    \n",
    "row = cur.fetchone()\n",
    "while row:\n",
    "    print(row)\n",
    "    row = cur.fetchone()\n",
    "\n",
    "print(\"\\n Table: song library \\n\")\n",
    "try:\n",
    "    cur.execute(\"select * from song_library\")\n",
    "except py.Error as e: \n",
    "    print(e)\n",
    "    \n",
    "row = cur.fetchone()\n",
    "while row:\n",
    "    print(row)\n",
    "    row = cur.fetchone()"
   ]
  },
  {
   "cell_type": "code",
   "execution_count": 58,
   "metadata": {
    "collapsed": true
   },
   "outputs": [],
   "source": [
    "try:\n",
    "    cur.execute(\"DROP TABLE album_library2;\")\n",
    "except py.Error as e: \n",
    "    print(e)\n",
    "    \n",
    "try:\n",
    "    cur.execute(\"DROP TABLE song_library2;\")\n",
    "except py.Error as e: \n",
    "    print(e)   \n",
    "    \n",
    "try:\n",
    "    cur.execute(\"DROP TABLE artist_library2;\")\n",
    "except py.Error as e: \n",
    "    print(e)\n",
    "\n",
    "try:\n",
    "    cur.execute(\"CREATE TABLE IF NOT EXISTS album_library2(album_id int,  album_name varchar,  \\\n",
    "               artist_id int, year int);\")\n",
    "except py.Error as e: \n",
    "    print(e)\n",
    "    \n",
    "try:\n",
    "    cur.execute(\"CREATE TABLE IF NOT EXISTS song_library2(song_id int, album_id int, song_name varchar);\")\n",
    "except py.Error as e: \n",
    "    print(e)   \n",
    "    \n",
    "try:\n",
    "    cur.execute(\"CREATE TABLE IF NOT EXISTS artist_library2(artist_id int, artist_name varchar);\")\n",
    "except py.Error as e: \n",
    "    print(e)\n",
    "    "
   ]
  },
  {
   "cell_type": "code",
   "execution_count": 59,
   "metadata": {
    "collapsed": false
   },
   "outputs": [],
   "source": [
    "\n",
    "    \n",
    "try:\n",
    "    cur.execute(\"INSERT INTO album_library2 (album_id, album_name, artist_id, year) \\\n",
    "                VALUES(%s,%s,%s,%s)\", \\\n",
    "               (1,\"rubber soul\", 1,1965))\n",
    "except py.Error as e: \n",
    "    print(e)\n",
    "    \n",
    "    \n",
    "try:\n",
    "    cur.execute(\"INSERT INTO song_library2 (song_id, album_id, song_name) \\\n",
    "                VALUES(%s,%s,%s)\", \\\n",
    "               (1,1, \"Michelle\"))\n",
    "except py.Error as e: \n",
    "    print(e)\n",
    "    \n",
    "try:\n",
    "    cur.execute(\"INSERT INTO song_library2 (song_id, album_id, song_name) \\\n",
    "                VALUES(%s,%s,%s)\", \\\n",
    "               (2,1, \"Think for yourself\"))\n",
    "except py.Error as e: \n",
    "    print(e)\n",
    "    \n",
    "try:\n",
    "    cur.execute(\"INSERT INTO song_library2 (song_id, album_id, song_name) \\\n",
    "                VALUES(%s,%s,%s)\", \\\n",
    "               (3,1, \"In my life\"))\n",
    "except py.Error as e: \n",
    "    print(e)\n",
    "    \n",
    "try:\n",
    "    cur.execute(\"INSERT INTO song_library2 (song_id, album_id, song_name) \\\n",
    "                VALUES(%s,%s,%s)\", \\\n",
    "               (4,2, \"Let it be\"))\n",
    "except py.Error as e: \n",
    "    print(e)\n",
    "    \n",
    "    \n",
    "try:\n",
    "    cur.execute(\"INSERT INTO song_library2 (song_id, album_id, song_name) \\\n",
    "                VALUES(%s,%s,%s)\", \\\n",
    "               (5,2, \"Across the Universe\"))\n",
    "except py.Error as e: \n",
    "    print(e)\n",
    "    \n",
    "try:\n",
    "    cur.execute(\"INSERT INTO artist_library2 (artist_id  , artist_name  ) \\\n",
    "                VALUES(%s,%s)\", \\\n",
    "               (1,\"The Beatles\"))\n",
    "except py.Error as e: \n",
    "    print(e)"
   ]
  },
  {
   "cell_type": "code",
   "execution_count": 60,
   "metadata": {
    "collapsed": true
   },
   "outputs": [],
   "source": [
    "try:\n",
    "    cur.execute(\"INSERT INTO album_library2 (album_id, album_name,artist_id, year) \\\n",
    "                VALUES(%s,%s,%s,%s)\", \\\n",
    "               (2,\"Let it be\",1,1970))\n",
    "except py.Error as e: \n",
    "    print(e)"
   ]
  },
  {
   "cell_type": "code",
   "execution_count": 61,
   "metadata": {
    "collapsed": false
   },
   "outputs": [
    {
     "name": "stdout",
     "output_type": "stream",
     "text": [
      "(1, 'rubber soul', 1, 1965)\n",
      "(2, 'Let it be', 1, 1970)\n",
      "\n",
      " Table: song library \n",
      "\n",
      "(1, 1, 'Michelle')\n",
      "(2, 1, 'Think for yourself')\n",
      "(3, 1, 'In my life')\n",
      "(4, 2, 'Let it be')\n",
      "(5, 2, 'Across the Universe')\n",
      "\n",
      " Table: song library \n",
      "\n",
      "(1, 'The Beatles')\n"
     ]
    }
   ],
   "source": [
    "try:\n",
    "    cur.execute(\"select * from album_library2\")\n",
    "except py.Error as e: \n",
    "    print(e)\n",
    "    \n",
    "row = cur.fetchone()\n",
    "while row:\n",
    "    print(row)\n",
    "    row = cur.fetchone()\n",
    "\n",
    "print(\"\\n Table: song library \\n\")\n",
    "try:\n",
    "    cur.execute(\"select * from song_library2\")\n",
    "except py.Error as e: \n",
    "    print(e)\n",
    "    \n",
    "row = cur.fetchone()\n",
    "while row:\n",
    "    print(row)\n",
    "    row = cur.fetchone()\n",
    "print(\"\\n Table: song library \\n\")\n",
    "try:\n",
    "    cur.execute(\"select * from artist_library2\")\n",
    "except py.Error as e: \n",
    "    print(e)\n",
    "    \n",
    "row = cur.fetchone()\n",
    "while row:\n",
    "    print(row)\n",
    "    row = cur.fetchone()"
   ]
  },
  {
   "cell_type": "code",
   "execution_count": 64,
   "metadata": {
    "collapsed": false
   },
   "outputs": [
    {
     "ename": "AttributeError",
     "evalue": "'psycopg2.extensions.connection' object has no attribute 'shutdown'",
     "output_type": "error",
     "traceback": [
      "\u001b[0;31m---------------------------------------------------------------------------\u001b[0m",
      "\u001b[0;31mAttributeError\u001b[0m                            Traceback (most recent call last)",
      "\u001b[0;32m<ipython-input-64-490abc02bc98>\u001b[0m in \u001b[0;36m<module>\u001b[0;34m\u001b[0m\n\u001b[1;32m      1\u001b[0m \u001b[0;34m\u001b[0m\u001b[0m\n\u001b[0;32m----> 2\u001b[0;31m \u001b[0mconn\u001b[0m\u001b[0;34m.\u001b[0m\u001b[0mshutdown\u001b[0m\u001b[0;34m(\u001b[0m\u001b[0;34m)\u001b[0m\u001b[0;34m\u001b[0m\u001b[0;34m\u001b[0m\u001b[0m\n\u001b[0m",
      "\u001b[0;31mAttributeError\u001b[0m: 'psycopg2.extensions.connection' object has no attribute 'shutdown'"
     ]
    }
   ],
   "source": [
    "\n",
    "conn.shutdown()"
   ]
  },
  {
   "cell_type": "code",
   "execution_count": null,
   "metadata": {
    "collapsed": true
   },
   "outputs": [],
   "source": []
  }
 ],
 "metadata": {
  "kernelspec": {
   "display_name": "postgre",
   "language": "python",
   "name": "postgre"
  },
  "language_info": {
   "codemirror_mode": {
    "name": "ipython",
    "version": 3
   },
   "file_extension": ".py",
   "mimetype": "text/x-python",
   "name": "python",
   "nbconvert_exporter": "python",
   "pygments_lexer": "ipython3",
   "version": "3.6.7"
  }
 },
 "nbformat": 4,
 "nbformat_minor": 0
}
