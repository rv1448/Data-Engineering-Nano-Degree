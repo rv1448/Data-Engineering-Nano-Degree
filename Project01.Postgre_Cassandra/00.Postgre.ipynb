{
 "cells": [
  {
   "cell_type": "code",
   "execution_count": 10,
   "metadata": {
    "collapsed": false
   },
   "outputs": [],
   "source": [
    "import psycopg2 as py "
   ]
  },
  {
   "cell_type": "code",
   "execution_count": 11,
   "metadata": {
    "collapsed": false
   },
   "outputs": [],
   "source": [
    "try:\n",
    "    conn = py.connect(host=\"127.0.0.1\", dbname = \"udacity\", user=\"test1\",password = \"test1\",port=\"5432\")\n",
    "except py.Error as e:\n",
    "    print(\"There is an error\")\n",
    "    print(e)\n",
    "#     user = \"test1\",\n",
    "#     password = \"test1\",\n",
    "#     host = \"127.0.0.1\",\n",
    "#     port = \"5432\",\n",
    "#     database = \"udacity\"\n",
    "    "
   ]
  },
  {
   "cell_type": "code",
   "execution_count": 12,
   "metadata": {
    "collapsed": true
   },
   "outputs": [],
   "source": [
    "try:\n",
    "    cur = conn.cursor() \n",
    "except py.Error as e:\n",
    "    print(\"There is an error\")\n",
    "    print(e)"
   ]
  },
  {
   "cell_type": "code",
   "execution_count": 13,
   "metadata": {
    "collapsed": true
   },
   "outputs": [],
   "source": [
    "conn.set_session(autocommit=True)"
   ]
  },
  {
   "cell_type": "code",
   "execution_count": 14,
   "metadata": {
    "collapsed": false
   },
   "outputs": [
    {
     "name": "stdout",
     "output_type": "stream",
     "text": [
      "database \"udacity\" already exists\n",
      "\n"
     ]
    }
   ],
   "source": [
    "try:\n",
    "    cur.execute(\"create database udacity\")\n",
    "except py.Error as e:\n",
    "    print(e)"
   ]
  },
  {
   "cell_type": "code",
   "execution_count": 15,
   "metadata": {
    "collapsed": false
   },
   "outputs": [],
   "source": [
    "try:\n",
    "    conn1 = py.connect(dbname=\"udacity\")\n",
    "except py.Error as e:\n",
    "    print(e)\n",
    "    \n",
    "try:\n",
    "    cur1 = conn1.cursor()\n",
    "except py.Error as e:\n",
    "    print(e)\n",
    "conn1.set_session(autocommit=True)"
   ]
  },
  {
   "cell_type": "code",
   "execution_count": 21,
   "metadata": {
    "collapsed": true
   },
   "outputs": [],
   "source": [
    "try:\n",
    "    cur1.execute(\"create table if not exists music_library(album_name varchar, artist_name varchar, year int);\")\n",
    "except py.Error as e:\n",
    "    print(\"Error: Issue creating table\")\n",
    "    print(e)"
   ]
  },
  {
   "cell_type": "code",
   "execution_count": 20,
   "metadata": {
    "collapsed": false
   },
   "outputs": [
    {
     "data": {
      "text/plain": [
       "[(0,)]"
      ]
     },
     "execution_count": 20,
     "metadata": {},
     "output_type": "execute_result"
    }
   ],
   "source": [
    "try:\n",
    "    cur1.execute(\"create table if not exists test123(col1 int, col2 int);\")\n",
    "except:\n",
    "    print(e)\n",
    "\n",
    "try:\n",
    "    cur1.execute(\"select * from test123;\")\n",
    "except:\n",
    "    print(e)\n",
    "try:\n",
    "    cur1.execute(\"select count(1) from test123;\")\n",
    "except:\n",
    "    print(e)\n",
    "    \n",
    "cur1.fetchall() "
   ]
  },
  {
   "cell_type": "code",
   "execution_count": 22,
   "metadata": {
    "collapsed": false
   },
   "outputs": [
    {
     "name": "stdout",
     "output_type": "stream",
     "text": [
      "[(3,)]\n"
     ]
    }
   ],
   "source": [
    "try:\n",
    "    cur1.execute(\"select count(*) from music_library;\")\n",
    "except py.Error as e:\n",
    "    print(e)\n",
    "print(cur1.fetchall())"
   ]
  },
  {
   "cell_type": "code",
   "execution_count": 9,
   "metadata": {
    "collapsed": false
   },
   "outputs": [],
   "source": [
    "try:\n",
    "    cur1.execute(\"INSERT INTO music_library(album_name  , artist_name  , year)  \\\n",
    "                 VALUES(%s,%s,%s)\", \\\n",
    "                (\"Let it be\",\"The Beatles\",1970))\n",
    "except py.Error as e:\n",
    "    print(e)"
   ]
  },
  {
   "cell_type": "code",
   "execution_count": 29,
   "metadata": {
    "collapsed": true
   },
   "outputs": [],
   "source": [
    "try:\n",
    "    cur1.execute(\"INSERT INTO music_library(album_name  , artist_name  , year)  \\\n",
    "                 VALUES(%s,%s,%s)\", \\\n",
    "                (\"Rubber soul\",\"The Beatles\",1965))\n",
    "except py.Error as e:\n",
    "    print(e)"
   ]
  },
  {
   "cell_type": "code",
   "execution_count": 37,
   "metadata": {
    "collapsed": false
   },
   "outputs": [
    {
     "name": "stdout",
     "output_type": "stream",
     "text": [
      "('Let it be', 'The Beatles', 1970)\n",
      "('Rubber soul', 'The Beatles', 1965)\n"
     ]
    }
   ],
   "source": [
    "try:\n",
    "    cur1.execute(\"select * from music_library\")\n",
    "except py.Error as py:\n",
    "    print(\"Error: select * \")\n",
    "    print(e)\n",
    "row = cur1.fetchone()\n",
    "while row:\n",
    "    print(row)\n",
    "    row = cur1.fetchone()"
   ]
  },
  {
   "cell_type": "code",
   "execution_count": 23,
   "metadata": {
    "collapsed": true
   },
   "outputs": [],
   "source": [
    "#cur1.close()\n",
    "#conn.close()"
   ]
  },
  {
   "cell_type": "code",
   "execution_count": 24,
   "metadata": {
    "collapsed": true
   },
   "outputs": [],
   "source": [
    "try:\n",
    "    conn1 = py.connect(host=\"127.0.0.1\", dbname = \"udacity\", user=\"test1\",password = \"test1\",port=\"5432\")\n",
    "except py.Error as e:\n",
    "    print(\"There is an error\")\n",
    "    print(e)"
   ]
  },
  {
   "cell_type": "code",
   "execution_count": 25,
   "metadata": {
    "collapsed": true
   },
   "outputs": [],
   "source": [
    "try:\n",
    "    cur2 = conn1.cursor()\n",
    "except py.Error as e:\n",
    "    print(\"Error: Could not get curser to the database\")\n",
    "    print(e)"
   ]
  },
  {
   "cell_type": "code",
   "execution_count": 26,
   "metadata": {
    "collapsed": true
   },
   "outputs": [],
   "source": [
    "conn1.set_session(autocommit=True)"
   ]
  },
  {
   "cell_type": "code",
   "execution_count": 28,
   "metadata": {
    "collapsed": false
   },
   "outputs": [
    {
     "name": "stdout",
     "output_type": "stream",
     "text": [
      "database \"udacity\" already exists\n",
      "\n"
     ]
    }
   ],
   "source": [
    "try: \n",
    "    cur.execute(\"create database udacity\")\n",
    "except py.Error as e:\n",
    "    print(e)"
   ]
  },
  {
   "cell_type": "code",
   "execution_count": 54,
   "metadata": {
    "collapsed": false
   },
   "outputs": [],
   "source": [
    "try:\n",
    "    conn3 = py.connect(host=\"127.0.0.1\", dbname = \"udacity\", user=\"test1\",password = \"test1\",port=\"5432\")\n",
    "except py.Error as e:\n",
    "    print(\"There is an error\")\n",
    "    print(e)\n",
    "    \n",
    "concur = conn3.cursor()\n",
    "conn3.set_session(autocommit=True)    \n",
    "    "
   ]
  },
  {
   "cell_type": "code",
   "execution_count": 55,
   "metadata": {
    "collapsed": false
   },
   "outputs": [],
   "source": [
    "\n",
    "\n",
    "try:\n",
    "    concur.execute(\"create table if not exists songs1(artist_name varchar,songs varchar, single boolean);\")\n",
    "except py.Error as e:\n",
    "    print(e)\n",
    "    print(\"error creating the table\")"
   ]
  },
  {
   "cell_type": "code",
   "execution_count": 57,
   "metadata": {
    "collapsed": false
   },
   "outputs": [],
   "source": [
    "\n",
    "    \n",
    "try:\n",
    "    concur.execute(\"INSERT INTO songs1(artist_name,songs,single) \\\n",
    "    values(%s,%s,%s)\", (\"John mayer\",\"Heart break warfare\",True))\n",
    "except py.Error as e:\n",
    "    print(\"error Inserting data into table\")  \n",
    "\n",
    "try:\n",
    "    concur.execute(\"INSERT INTO songs1(artist_name,songs,single) \\\n",
    "    values(%s,%s,%s)\",(\"Cold play\",\"kids\",True))\n",
    "except py.Error as e:\n",
    "    print(\"error Inserting data into table\")  \n",
    "\n",
    "try:\n",
    "    concur.execute(\"select count(*) from songs1\")\n",
    "except py.Error as e:\n",
    "    print(\"error Inserting data into table\")     "
   ]
  },
  {
   "cell_type": "code",
   "execution_count": 58,
   "metadata": {
    "collapsed": false
   },
   "outputs": [
    {
     "name": "stdout",
     "output_type": "stream",
     "text": [
      "[(4,)]\n"
     ]
    }
   ],
   "source": [
    "try:\n",
    "    concur.execute(\"select count(*) from songs1\")\n",
    "except py.Error as e:\n",
    "    print(e)\n",
    "    print(\"Error: counting the rows\")\n",
    "    \n",
    "print(concur.fetchall())    "
   ]
  },
  {
   "cell_type": "code",
   "execution_count": 59,
   "metadata": {
    "collapsed": false
   },
   "outputs": [
    {
     "name": "stdout",
     "output_type": "stream",
     "text": [
      "('John mayer', 'Heart break warfare', True)\n",
      "('Cold play', 'kids', True)\n",
      "('John mayer', 'Heart break warfare', True)\n",
      "('Cold play', 'kids', True)\n"
     ]
    }
   ],
   "source": [
    "try:\n",
    "    concur.execute(\"select * from songs1\")\n",
    "except py.Error as e:\n",
    "    print(e)\n",
    "    print(\"Error: counting the rows\")\n",
    "row = concur.fetchone()\n",
    "while row:\n",
    "    print(row)\n",
    "    row = concur.fetchone()"
   ]
  },
  {
   "cell_type": "code",
   "execution_count": 60,
   "metadata": {
    "collapsed": false
   },
   "outputs": [
    {
     "name": "stdout",
     "output_type": "stream",
     "text": [
      "Collecting cassandra-driver\n",
      "  Downloading https://files.pythonhosted.org/packages/28/1b/9edce1aaac85e7955e5a4eef2674294107640cc6cd5b7831926fc43a41b8/cassandra-driver-3.17.0.tar.gz (230kB)\n",
      "\u001b[K    100% |████████████████████████████████| 235kB 1.3MB/s \n",
      "\u001b[?25hRequirement already satisfied: six>=1.9 in /Users/RahulReddy/.local/lib/python2.7/site-packages (from cassandra-driver)\n",
      "Requirement already satisfied: futures in /Users/RahulReddy/.local/lib/python2.7/site-packages (from cassandra-driver)\n",
      "Building wheels for collected packages: cassandra-driver\n",
      "  Running setup.py bdist_wheel for cassandra-driver ... \u001b[?25l-\b \b\\\b \b|\b \b/\b \b-\b \b\\\b \b|\b \b/\b \b-\b \b\\\b \b|\b \b/\b \b-\b \b\\\b \b|\b \b/\b \b-\b \b\\\b \b|\b \b/\b \b-\b \b\\\b \b|\b \b/\b \b-\b \b\\\b \b|\b \b/\b \b-\b \b\\\b \b|\b \b/\b \b-\b \b\\\b \b|\b \b/\b \b-\b \b\\\b \b|\b \b/\b \b-\b \b\\\b \b|\b \b/\b \bdone\n",
      "\u001b[?25h  Stored in directory: /Users/RahulReddy/Library/Caches/pip/wheels/d2/cc/9f/85471ac42cabb3049677d08cc39aa79d36eaf4352472acc7da\n",
      "Successfully built cassandra-driver\n",
      "Installing collected packages: cassandra-driver\n",
      "Successfully installed cassandra-driver-3.17.0\n",
      "\u001b[33mYou are using pip version 9.0.1, however version 19.0.3 is available.\n",
      "You should consider upgrading via the 'pip install --upgrade pip' command.\u001b[0m\n"
     ]
    }
   ],
   "source": [
    "!pip install cassandra-driver --user"
   ]
  },
  {
   "cell_type": "code",
   "execution_count": 62,
   "metadata": {
    "collapsed": false
   },
   "outputs": [
    {
     "ename": "ModuleNotFoundError",
     "evalue": "No module named 'cassandra'",
     "output_type": "error",
     "traceback": [
      "\u001b[0;31m---------------------------------------------------------------------------\u001b[0m",
      "\u001b[0;31mModuleNotFoundError\u001b[0m                       Traceback (most recent call last)",
      "\u001b[0;32m<ipython-input-62-54a75b4067c2>\u001b[0m in \u001b[0;36m<module>\u001b[0;34m\u001b[0m\n\u001b[0;32m----> 1\u001b[0;31m \u001b[0;32mimport\u001b[0m \u001b[0mcassandra\u001b[0m\u001b[0;34m\u001b[0m\u001b[0;34m\u001b[0m\u001b[0m\n\u001b[0m",
      "\u001b[0;31mModuleNotFoundError\u001b[0m: No module named 'cassandra'"
     ]
    }
   ],
   "source": [
    "import cassandra\n"
   ]
  },
  {
   "cell_type": "code",
   "execution_count": null,
   "metadata": {
    "collapsed": true
   },
   "outputs": [],
   "source": []
  }
 ],
 "metadata": {
  "kernelspec": {
   "display_name": "postgre",
   "language": "python",
   "name": "postgre"
  },
  "language_info": {
   "codemirror_mode": {
    "name": "ipython",
    "version": 3
   },
   "file_extension": ".py",
   "mimetype": "text/x-python",
   "name": "python",
   "nbconvert_exporter": "python",
   "pygments_lexer": "ipython3",
   "version": "3.6.7"
  }
 },
 "nbformat": 4,
 "nbformat_minor": 0
}
