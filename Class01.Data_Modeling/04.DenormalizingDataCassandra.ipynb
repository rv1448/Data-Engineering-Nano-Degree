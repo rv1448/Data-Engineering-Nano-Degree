{
 "cells": [
  {
   "cell_type": "code",
   "execution_count": 1,
   "metadata": {
    "collapsed": true
   },
   "outputs": [],
   "source": [
    "import cassandra "
   ]
  },
  {
   "cell_type": "code",
   "execution_count": 7,
   "metadata": {
    "collapsed": false
   },
   "outputs": [],
   "source": [
    "from cassandra.cluster import Cluster\n",
    "try: \n",
    "    cluster = Cluster(['localhost'])\n",
    "    session = cluster.connect()\n",
    "except Exception as e: \n",
    "    print(e)"
   ]
  },
  {
   "cell_type": "code",
   "execution_count": 9,
   "metadata": {
    "collapsed": false
   },
   "outputs": [],
   "source": [
    "try:\n",
    "    session.set_keyspace('udacity')\n",
    "except Exception as e:\n",
    "    print(e)    "
   ]
  },
  {
   "cell_type": "code",
   "execution_count": 22,
   "metadata": {
    "collapsed": false
   },
   "outputs": [
    {
     "name": "stdout",
     "output_type": "stream",
     "text": [
      "Error from server: code=2200 [Invalid query] message=\"unconfigured table music_library\"\n"
     ]
    }
   ],
   "source": [
    "try:\n",
    "    query = session.execute('select * from music_library')\n",
    "except Exception as e: \n",
    "    print(e)"
   ]
  },
  {
   "cell_type": "code",
   "execution_count": 20,
   "metadata": {
    "collapsed": false
   },
   "outputs": [],
   "source": [
    "for row in query:\n",
    "    print(row)"
   ]
  },
  {
   "cell_type": "code",
   "execution_count": 21,
   "metadata": {
    "collapsed": false
   },
   "outputs": [],
   "source": [
    "try:\n",
    "    query = session.execute('DROP TABLE music_library')\n",
    "except Exception as e: \n",
    "    print(e)"
   ]
  },
  {
   "cell_type": "code",
   "execution_count": 28,
   "metadata": {
    "collapsed": false
   },
   "outputs": [],
   "source": [
    "query = \"CREATE TABLE IF NOT EXISTS music_library \"\n",
    "query = query + \"(year int, artist_name text,album_name text, PRIMARY KEY (year, artist_name))\"\n",
    "\n",
    "try:\n",
    "    session.execute(query)\n",
    "except Exception as e:\n",
    "    print(e)\n",
    "\n",
    "query = \"CREATE TABLE IF NOT EXISTS album_library \"\n",
    "query = query + \"(year int, artist_name text,album_name text, PRIMARY KEY (artist_name, year))\"\n",
    "\n",
    "try:\n",
    "    session.execute(query)\n",
    "except Exception as e:\n",
    "    print(e)"
   ]
  },
  {
   "cell_type": "code",
   "execution_count": 29,
   "metadata": {
    "collapsed": true
   },
   "outputs": [],
   "source": [
    "query = \"INSERT INTO music_library (year, artist_name ,album_name)\"\n",
    "query = query + \" VALUES(%s,%s,%s)\"\n",
    "\n",
    "query1 = \"INSERT INTO album_library (artist_name, year,album_name)\"\n",
    "query1 = query1 + \" VALUES(%s,%s,%s)\"\n",
    "\n",
    "\n",
    "try:\n",
    "    session.execute(query,(1970,\"The beatles\",\"Let it be\"))\n",
    "except Exception as e: \n",
    "    print(e)\n",
    "\n",
    "try:\n",
    "    session.execute(query,(1965,\"The beatles\",\"Rubber soul\"))\n",
    "except Exception as e: \n",
    "    print(e)\n",
    "    \n",
    "try:\n",
    "    session.execute(query,(1962,\"The beatles\",\"Let\"))\n",
    "except Exception as e: \n",
    "    print(e)\n",
    "    \n",
    "    \n",
    "try:\n",
    "    session.execute(query1,(\"The beatles\", 1970,\"Let it be\"))\n",
    "except Exception as e: \n",
    "    print(e)\n",
    "\n",
    "try:\n",
    "    session.execute(query1,(\"The beatles\",1965, \"Rubber soul\"))\n",
    "except Exception as e: \n",
    "    print(e)\n",
    "    \n",
    "try:\n",
    "    session.execute(query1,(\"The beatles\",1962,\"Let\"))\n",
    "except Exception as e: \n",
    "    print(e)   "
   ]
  },
  {
   "cell_type": "code",
   "execution_count": 31,
   "metadata": {
    "collapsed": false
   },
   "outputs": [],
   "source": [
    "try:\n",
    "    query = session.execute(\"select * from music_library where year = 1970\")\n",
    "except Exception as e: \n",
    "    print(e)"
   ]
  },
  {
   "cell_type": "code",
   "execution_count": 32,
   "metadata": {
    "collapsed": false
   },
   "outputs": [
    {
     "name": "stdout",
     "output_type": "stream",
     "text": [
      "Row(year=1970, artist_name='The beatles', album_name='Let it be')\n"
     ]
    }
   ],
   "source": [
    "for row in query:\n",
    "    print(row)"
   ]
  },
  {
   "cell_type": "code",
   "execution_count": null,
   "metadata": {
    "collapsed": true
   },
   "outputs": [],
   "source": []
  }
 ],
 "metadata": {
  "kernelspec": {
   "display_name": "Python 3",
   "language": "python",
   "name": "python3"
  },
  "language_info": {
   "codemirror_mode": {
    "name": "ipython",
    "version": 3
   },
   "file_extension": ".py",
   "mimetype": "text/x-python",
   "name": "python",
   "nbconvert_exporter": "python",
   "pygments_lexer": "ipython3",
   "version": "3.6.0"
  }
 },
 "nbformat": 4,
 "nbformat_minor": 0
}
